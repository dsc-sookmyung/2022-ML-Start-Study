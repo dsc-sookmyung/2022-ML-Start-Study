{
  "nbformat": 4,
  "nbformat_minor": 0,
  "metadata": {
    "colab": {
      "name": "04_01_로지스틱회귀.ipynb",
      "provenance": [],
      "collapsed_sections": []
    },
    "kernelspec": {
      "name": "python3",
      "display_name": "Python 3"
    },
    "language_info": {
      "name": "python"
    }
  },
  "cells": [
    {
      "cell_type": "markdown",
      "source": [
        "## **04-1) 로지스틱 회귀**"
      ],
      "metadata": {
        "id": "Q6dDzDZ1MUII"
      }
    },
    {
      "cell_type": "markdown",
      "source": [
        "로지스틱 회귀 알고리즘을 배우고 이진 분류 문제에서 클래스 확률을 예측한다."
      ],
      "metadata": {
        "id": "k17BhUzRMYms"
      }
    },
    {
      "cell_type": "markdown",
      "source": [
        "#### **용어 정리**\n",
        "- **로지스틱 회귀**: 선형방적식을 사용한 분류 알고리즘. 선형회귀와 달리 시그모이드 함수나 소프트맥스 함수를 사용하여 클래스 확률을 출력할 수 있다.\n",
        "- **다중 분류**: 타깃 클래스가 2개 이상인 분류 문제. 로지스틱 회귀는 다중 분류를 위해 소프트맥스 함수를 사용하여 클래스를 예측한다.\n",
        "- **시그모이드 함수**: 선형방적식의 출력을 0과 1사이 값으로 압축하며 이진 분류를 위해 사용한다.\n",
        "- **소프트맥스 함수**: 다중 분류에서 여러 선형방정식의 출력 결과를 정규화하여 합이 1이 되도록 만든다."
      ],
      "metadata": {
        "id": "OW7QfHZLMoHv"
      }
    },
    {
      "cell_type": "markdown",
      "source": [
        "### **럭키백의 확률**"
      ],
      "metadata": {
        "id": "ByMPKQSQNfP-"
      }
    },
    {
      "cell_type": "markdown",
      "source": [
        "럭키백에 담긴 7개의 생선이 어떤 생선인지 확률을 예측해야 한다!<br>\n",
        "분류 모델은 예측뿐만 아니라 예측의 근거가 되는 확률을 출력할 수 있다.<br>\n",
        " 이 확률은 분류 모델이 얼마나 예측을 확신하는지 나타낸다고 볼 수 있다. 확률이 높을수록 강하게 예측하는 셈인 것이다."
      ],
      "metadata": {
        "id": "dB8IPpO8NisF"
      }
    },
    {
      "cell_type": "markdown",
      "source": [
        "먼저 **k-최근접 이웃 분류기**로 럭키백에 들어간 생선의 확률을 계산해보자.<br>\n",
        "k-최근접 이웃은 주변 이웃을 찾아주니, 이웃의 클래스 비율을 확률이라고 출력하면 될 듯하다."
      ],
      "metadata": {
        "id": "WJemlqD-On3m"
      }
    },
    {
      "cell_type": "markdown",
      "source": [
        "#### **데이터 준비**"
      ],
      "metadata": {
        "id": "j9ey5uqhQjB_"
      }
    },
    {
      "cell_type": "code",
      "execution_count": 1,
      "metadata": {
        "colab": {
          "base_uri": "https://localhost:8080/",
          "height": 206
        },
        "id": "flk6fZHdMInj",
        "outputId": "c846fd76-e7d9-4f3d-b176-51cb00b45258"
      },
      "outputs": [
        {
          "output_type": "execute_result",
          "data": {
            "text/plain": [
              "  Species  Weight  Length  Diagonal   Height   Width\n",
              "0   Bream   242.0    25.4      30.0  11.5200  4.0200\n",
              "1   Bream   290.0    26.3      31.2  12.4800  4.3056\n",
              "2   Bream   340.0    26.5      31.1  12.3778  4.6961\n",
              "3   Bream   363.0    29.0      33.5  12.7300  4.4555\n",
              "4   Bream   430.0    29.0      34.0  12.4440  5.1340"
            ],
            "text/html": [
              "\n",
              "  <div id=\"df-a45cdef4-bcac-4997-9821-1d4f5a29cc6c\">\n",
              "    <div class=\"colab-df-container\">\n",
              "      <div>\n",
              "<style scoped>\n",
              "    .dataframe tbody tr th:only-of-type {\n",
              "        vertical-align: middle;\n",
              "    }\n",
              "\n",
              "    .dataframe tbody tr th {\n",
              "        vertical-align: top;\n",
              "    }\n",
              "\n",
              "    .dataframe thead th {\n",
              "        text-align: right;\n",
              "    }\n",
              "</style>\n",
              "<table border=\"1\" class=\"dataframe\">\n",
              "  <thead>\n",
              "    <tr style=\"text-align: right;\">\n",
              "      <th></th>\n",
              "      <th>Species</th>\n",
              "      <th>Weight</th>\n",
              "      <th>Length</th>\n",
              "      <th>Diagonal</th>\n",
              "      <th>Height</th>\n",
              "      <th>Width</th>\n",
              "    </tr>\n",
              "  </thead>\n",
              "  <tbody>\n",
              "    <tr>\n",
              "      <th>0</th>\n",
              "      <td>Bream</td>\n",
              "      <td>242.0</td>\n",
              "      <td>25.4</td>\n",
              "      <td>30.0</td>\n",
              "      <td>11.5200</td>\n",
              "      <td>4.0200</td>\n",
              "    </tr>\n",
              "    <tr>\n",
              "      <th>1</th>\n",
              "      <td>Bream</td>\n",
              "      <td>290.0</td>\n",
              "      <td>26.3</td>\n",
              "      <td>31.2</td>\n",
              "      <td>12.4800</td>\n",
              "      <td>4.3056</td>\n",
              "    </tr>\n",
              "    <tr>\n",
              "      <th>2</th>\n",
              "      <td>Bream</td>\n",
              "      <td>340.0</td>\n",
              "      <td>26.5</td>\n",
              "      <td>31.1</td>\n",
              "      <td>12.3778</td>\n",
              "      <td>4.6961</td>\n",
              "    </tr>\n",
              "    <tr>\n",
              "      <th>3</th>\n",
              "      <td>Bream</td>\n",
              "      <td>363.0</td>\n",
              "      <td>29.0</td>\n",
              "      <td>33.5</td>\n",
              "      <td>12.7300</td>\n",
              "      <td>4.4555</td>\n",
              "    </tr>\n",
              "    <tr>\n",
              "      <th>4</th>\n",
              "      <td>Bream</td>\n",
              "      <td>430.0</td>\n",
              "      <td>29.0</td>\n",
              "      <td>34.0</td>\n",
              "      <td>12.4440</td>\n",
              "      <td>5.1340</td>\n",
              "    </tr>\n",
              "  </tbody>\n",
              "</table>\n",
              "</div>\n",
              "      <button class=\"colab-df-convert\" onclick=\"convertToInteractive('df-a45cdef4-bcac-4997-9821-1d4f5a29cc6c')\"\n",
              "              title=\"Convert this dataframe to an interactive table.\"\n",
              "              style=\"display:none;\">\n",
              "        \n",
              "  <svg xmlns=\"http://www.w3.org/2000/svg\" height=\"24px\"viewBox=\"0 0 24 24\"\n",
              "       width=\"24px\">\n",
              "    <path d=\"M0 0h24v24H0V0z\" fill=\"none\"/>\n",
              "    <path d=\"M18.56 5.44l.94 2.06.94-2.06 2.06-.94-2.06-.94-.94-2.06-.94 2.06-2.06.94zm-11 1L8.5 8.5l.94-2.06 2.06-.94-2.06-.94L8.5 2.5l-.94 2.06-2.06.94zm10 10l.94 2.06.94-2.06 2.06-.94-2.06-.94-.94-2.06-.94 2.06-2.06.94z\"/><path d=\"M17.41 7.96l-1.37-1.37c-.4-.4-.92-.59-1.43-.59-.52 0-1.04.2-1.43.59L10.3 9.45l-7.72 7.72c-.78.78-.78 2.05 0 2.83L4 21.41c.39.39.9.59 1.41.59.51 0 1.02-.2 1.41-.59l7.78-7.78 2.81-2.81c.8-.78.8-2.07 0-2.86zM5.41 20L4 18.59l7.72-7.72 1.47 1.35L5.41 20z\"/>\n",
              "  </svg>\n",
              "      </button>\n",
              "      \n",
              "  <style>\n",
              "    .colab-df-container {\n",
              "      display:flex;\n",
              "      flex-wrap:wrap;\n",
              "      gap: 12px;\n",
              "    }\n",
              "\n",
              "    .colab-df-convert {\n",
              "      background-color: #E8F0FE;\n",
              "      border: none;\n",
              "      border-radius: 50%;\n",
              "      cursor: pointer;\n",
              "      display: none;\n",
              "      fill: #1967D2;\n",
              "      height: 32px;\n",
              "      padding: 0 0 0 0;\n",
              "      width: 32px;\n",
              "    }\n",
              "\n",
              "    .colab-df-convert:hover {\n",
              "      background-color: #E2EBFA;\n",
              "      box-shadow: 0px 1px 2px rgba(60, 64, 67, 0.3), 0px 1px 3px 1px rgba(60, 64, 67, 0.15);\n",
              "      fill: #174EA6;\n",
              "    }\n",
              "\n",
              "    [theme=dark] .colab-df-convert {\n",
              "      background-color: #3B4455;\n",
              "      fill: #D2E3FC;\n",
              "    }\n",
              "\n",
              "    [theme=dark] .colab-df-convert:hover {\n",
              "      background-color: #434B5C;\n",
              "      box-shadow: 0px 1px 3px 1px rgba(0, 0, 0, 0.15);\n",
              "      filter: drop-shadow(0px 1px 2px rgba(0, 0, 0, 0.3));\n",
              "      fill: #FFFFFF;\n",
              "    }\n",
              "  </style>\n",
              "\n",
              "      <script>\n",
              "        const buttonEl =\n",
              "          document.querySelector('#df-a45cdef4-bcac-4997-9821-1d4f5a29cc6c button.colab-df-convert');\n",
              "        buttonEl.style.display =\n",
              "          google.colab.kernel.accessAllowed ? 'block' : 'none';\n",
              "\n",
              "        async function convertToInteractive(key) {\n",
              "          const element = document.querySelector('#df-a45cdef4-bcac-4997-9821-1d4f5a29cc6c');\n",
              "          const dataTable =\n",
              "            await google.colab.kernel.invokeFunction('convertToInteractive',\n",
              "                                                     [key], {});\n",
              "          if (!dataTable) return;\n",
              "\n",
              "          const docLinkHtml = 'Like what you see? Visit the ' +\n",
              "            '<a target=\"_blank\" href=https://colab.research.google.com/notebooks/data_table.ipynb>data table notebook</a>'\n",
              "            + ' to learn more about interactive tables.';\n",
              "          element.innerHTML = '';\n",
              "          dataTable['output_type'] = 'display_data';\n",
              "          await google.colab.output.renderOutput(dataTable, element);\n",
              "          const docLink = document.createElement('div');\n",
              "          docLink.innerHTML = docLinkHtml;\n",
              "          element.appendChild(docLink);\n",
              "        }\n",
              "      </script>\n",
              "    </div>\n",
              "  </div>\n",
              "  "
            ]
          },
          "metadata": {},
          "execution_count": 1
        }
      ],
      "source": [
        "import pandas as pd\n",
        "\n",
        "# csv 파일을 데이터프레임으로 변환\n",
        "fish = pd.read_csv('https://bit.ly/fish_csv_data')\n",
        "# 처음 5개 행 출력\n",
        "fish.head()"
      ]
    },
    {
      "cell_type": "markdown",
      "source": [
        "그럼 어떤 종류의 생선이 있는지 Species 열에서 고유한 값을 추출해 보자. "
      ],
      "metadata": {
        "id": "uwVPQWm5OLoQ"
      }
    },
    {
      "cell_type": "code",
      "source": [
        "print(pd.unique(fish['Species']))"
      ],
      "metadata": {
        "colab": {
          "base_uri": "https://localhost:8080/"
        },
        "id": "asUMra2qPmi3",
        "outputId": "24980113-18f4-41fb-fbbf-e7d947ec802d"
      },
      "execution_count": 2,
      "outputs": [
        {
          "output_type": "stream",
          "name": "stdout",
          "text": [
            "['Bream' 'Roach' 'Whitefish' 'Parkki' 'Perch' 'Pike' 'Smelt']\n"
          ]
        }
      ]
    },
    {
      "cell_type": "markdown",
      "source": [
        "이 데이터프레임에서 Species 열을 타깃으로 만들고, 나머지 5개 열은 입력 데이터로 사용할 것이다. <br>\n",
        "데이터프레임에서 원하는 열을 리스트로 나열하면 열을 선택할 수 있다."
      ],
      "metadata": {
        "id": "4xBJm_5aPrzo"
      }
    },
    {
      "cell_type": "code",
      "source": [
        "# 괄호 두 개 ~> 2차원 배열\n",
        "fish_input = fish[['Weight', 'Length', 'Diagonal', 'Height', 'Width']].to_numpy()\n",
        "# 처음 5개 행 출력\n",
        "print(fish_input[:5])"
      ],
      "metadata": {
        "colab": {
          "base_uri": "https://localhost:8080/"
        },
        "id": "fR_9mgF9P1xI",
        "outputId": "93312868-1da4-4818-8ee2-3f6908531e25"
      },
      "execution_count": 3,
      "outputs": [
        {
          "output_type": "stream",
          "name": "stdout",
          "text": [
            "[[242.      25.4     30.      11.52     4.02  ]\n",
            " [290.      26.3     31.2     12.48     4.3056]\n",
            " [340.      26.5     31.1     12.3778   4.6961]\n",
            " [363.      29.      33.5     12.73     4.4555]\n",
            " [430.      29.      34.      12.444    5.134 ]]\n"
          ]
        }
      ]
    },
    {
      "cell_type": "markdown",
      "source": [
        "동일한 방식으로 타깃 데이터를 만들어보자."
      ],
      "metadata": {
        "id": "oATSeYrLQQJB"
      }
    },
    {
      "cell_type": "code",
      "source": [
        "# 타깃 데이터는 1차원 배열\n",
        "fish_target = fish['Species'].to_numpy()"
      ],
      "metadata": {
        "id": "dZXg8vefQSnH"
      },
      "execution_count": 4,
      "outputs": []
    },
    {
      "cell_type": "markdown",
      "source": [
        "이제 데이터를 훈련 세트와 테스트 세트로 나눈다."
      ],
      "metadata": {
        "id": "owjSqadtQbLX"
      }
    },
    {
      "cell_type": "code",
      "source": [
        "from sklearn.model_selection import train_test_split\n",
        "\n",
        "train_input, test_input, train_target ,test_target = train_test_split(fish_input, fish_target, random_state=42)"
      ],
      "metadata": {
        "id": "uYZ4pwkTQfnB"
      },
      "execution_count": 5,
      "outputs": []
    },
    {
      "cell_type": "markdown",
      "source": [
        "그다음 사이킷런의 StandardScaler 클래스를 사용하여 훈련 세트와 테스트 세트를 표준화 전처리 한다.<br>\n",
        "**훈련 세트의 통계 값으로 테스트 세트를 변환해야 한다는 것**을 잊지 말자."
      ],
      "metadata": {
        "id": "uZPorM4PQ0Xv"
      }
    },
    {
      "cell_type": "code",
      "source": [
        "from sklearn.preprocessing import StandardScaler\n",
        "\n",
        "ss = StandardScaler()\n",
        "ss.fit(train_input)\n",
        "train_scaled = ss.transform(train_input)\n",
        "test_scaled = ss.transform(test_input)"
      ],
      "metadata": {
        "id": "bV1nMBf-RAbn"
      },
      "execution_count": 6,
      "outputs": []
    },
    {
      "cell_type": "markdown",
      "source": [
        "<br>\n",
        "\n",
        "#### **k-최근접 이웃 분류기의 확률 예측**"
      ],
      "metadata": {
        "id": "CAYfwTkBRce6"
      }
    },
    {
      "cell_type": "markdown",
      "source": [
        "필요한 데이터를 모두 준비했으니 이제 k-최근접 이웃 분류기로 테스트 세트에 들어있는 확률을 예측해보자.<br>\n",
        "\n",
        "사이킷런의 KNeighborsClassifier 클래스 객체를 만들고 훈련 세트로 모델을 훈련한 다음 훈련 세트와 테스트 세트의 점수를 확인한다. <br>\n",
        "최근접 이웃 개수는 3으로 지정한다."
      ],
      "metadata": {
        "id": "F1A3_WZhRiSv"
      }
    },
    {
      "cell_type": "code",
      "source": [
        "from sklearn.neighbors import KNeighborsClassifier\n",
        "\n",
        "kn = KNeighborsClassifier(n_neighbors = 3)\n",
        "kn.fit(train_scaled, train_target)\n",
        "print(kn.score(train_scaled, train_target))\n",
        "print(kn.score(test_scaled, test_target))"
      ],
      "metadata": {
        "colab": {
          "base_uri": "https://localhost:8080/"
        },
        "id": "4UQWp0sDR18C",
        "outputId": "e8bc1e0e-e461-45da-8196-03429e19462d"
      },
      "execution_count": 8,
      "outputs": [
        {
          "output_type": "stream",
          "name": "stdout",
          "text": [
            "0.8907563025210085\n",
            "0.85\n"
          ]
        }
      ]
    },
    {
      "cell_type": "markdown",
      "source": [
        "이진 분류를 사용했을 때는 양성 클래스와 음성 클래스를 각각 1, 0으로 지정하여 타깃데이터를 만들었다.<br>\n",
        "**다중 분류**에서도 타깃값을 숫자로 바꿔 입력할 수 있지만 사이킷런에서는 문자열로 된 타깃값을 그대로 사용할 수 있다. <br>\n",
        "이때 타깃값을 그대로 사이킷런 모델에 전달하면 순서가 자동으로 알파벳 순으로 정렬된다. 정렬된 타깃값은 **`classes_`** 속성에 저장되어 있다."
      ],
      "metadata": {
        "id": "8ALlytw2Fzs9"
      }
    },
    {
      "cell_type": "code",
      "source": [
        "print(kn.classes_)"
      ],
      "metadata": {
        "colab": {
          "base_uri": "https://localhost:8080/"
        },
        "id": "o2C7zH9DGSre",
        "outputId": "e828057a-16cc-4e7d-e50d-e7af2e5dd4bb"
      },
      "execution_count": 9,
      "outputs": [
        {
          "output_type": "stream",
          "name": "stdout",
          "text": [
            "['Bream' 'Parkki' 'Perch' 'Pike' 'Roach' 'Smelt' 'Whitefish']\n"
          ]
        }
      ]
    },
    {
      "cell_type": "markdown",
      "source": [
        "테스트 세트에 있는 처음 5개 샘플의 타깃값을 예측해 보겠다. \n",
        "predict() 메서드는 타깃값으로 예측을 해준다."
      ],
      "metadata": {
        "id": "9KKLKpleGcOn"
      }
    },
    {
      "cell_type": "code",
      "source": [
        "print(kn.predict(test_scaled[:5]))"
      ],
      "metadata": {
        "colab": {
          "base_uri": "https://localhost:8080/"
        },
        "id": "0HBiogqTGsF9",
        "outputId": "5cc0bae3-bb43-4b8a-b9ce-130c3a82d9ad"
      },
      "execution_count": 10,
      "outputs": [
        {
          "output_type": "stream",
          "name": "stdout",
          "text": [
            "['Perch' 'Smelt' 'Pike' 'Perch' 'Perch']\n"
          ]
        }
      ]
    },
    {
      "cell_type": "markdown",
      "source": [
        "그럼 이 5개 샘플에 대한 예측은 어떤 확률로 만들어졌는지 확인하기 위해 사이킷런의 **predict_proba()** 메서드를 사용해보자.<br>\n",
        "predict_proba() 메서드는 클래스별 확률값을 반환하며, 출력 순서는 classes_ 속성과 같다.\n"
      ],
      "metadata": {
        "id": "tmTyCsfCG0rd"
      }
    },
    {
      "cell_type": "code",
      "source": [
        "import numpy as np\n",
        "proba = kn.predict_proba(test_scaled[:5])\n",
        "print(np.round(proba, decimals=4)) # 소수점 네 번째 자리까지 표기됨(다섯 번째 자리에서 반올림)"
      ],
      "metadata": {
        "colab": {
          "base_uri": "https://localhost:8080/"
        },
        "id": "9JOMrq5sHICe",
        "outputId": "31a41968-386f-40eb-bdc9-1227bbc0dd24"
      },
      "execution_count": 11,
      "outputs": [
        {
          "output_type": "stream",
          "name": "stdout",
          "text": [
            "[[0.     0.     1.     0.     0.     0.     0.    ]\n",
            " [0.     0.     0.     0.     0.     1.     0.    ]\n",
            " [0.     0.     0.     1.     0.     0.     0.    ]\n",
            " [0.     0.     0.6667 0.     0.3333 0.     0.    ]\n",
            " [0.     0.     0.6667 0.     0.3333 0.     0.    ]]\n"
          ]
        }
      ]
    },
    {
      "cell_type": "markdown",
      "source": [
        "이 모델이 계산한 확률이 가장 가까운 이웃의 비율이 맞는지 확인해 보자.<br>\n",
        "네 번째 샘플의 최근접 이웃의 클래스를 확인해볼 것이다."
      ],
      "metadata": {
        "id": "ZtNlIG0_Hubt"
      }
    },
    {
      "cell_type": "code",
      "source": [
        "# kneighbors()의 인풋은 2차원 배열이어야 함.\n",
        "# 슬라이싱 연산자 ~> 샘플 하나만 선택해도 항상 2차원 배열이 만들어짐\n",
        "distances, indexes = kn.kneighbors(test_scaled[3:4]) # 네 번째 샘플 선택\n",
        "print(train_target[indexes])"
      ],
      "metadata": {
        "colab": {
          "base_uri": "https://localhost:8080/"
        },
        "id": "VO82laQIH23-",
        "outputId": "cb86b5f3-1478-47ef-fc28-79220d541768"
      },
      "execution_count": 12,
      "outputs": [
        {
          "output_type": "stream",
          "name": "stdout",
          "text": [
            "[['Roach' 'Perch' 'Perch']]\n"
          ]
        }
      ]
    },
    {
      "cell_type": "markdown",
      "source": [
        "이 샘플의 이웃은 다섯 번째 클래스인 'Roach'가 1개, 세 번째 클래스인 'Perch'가 2개이다.<br> 따라서 Roach에 대한 확률은 1/3=0.3333이고, Perch에 대한 확률은 2/3=0.6667이 되므로, 앞서 출력한 네 번째 샘플의 클래스 확률과 같다."
      ],
      "metadata": {
        "id": "WsraVQyjIkKl"
      }
    },
    {
      "cell_type": "markdown",
      "source": [
        "그러나 k-최근접 이웃 모델이 확률을 출력할 수는 있지만 이웃한 샘플의 클래스 비율이므로 항상 정해진 확률만 출력하게 된다.<br> 우리는 럭키백에 더 걸맞는, 고객이 어느 정도 생선을 예상할 수 있지만 상품마다 좀 더 그럴싸한 확률을 표시하고 싶다."
      ],
      "metadata": {
        "id": "4J2HkFMsI2-h"
      }
    },
    {
      "cell_type": "markdown",
      "source": [
        "### **로지스틱 회귀**"
      ],
      "metadata": {
        "id": "17nbCah7JZJi"
      }
    },
    {
      "cell_type": "markdown",
      "source": [
        "로지스틱 회귀는 이름만 회귀이고 분류 모델이다.<br>\n",
        "이 알고리즘은 선형 회귀와 동일하게 선형 방정식을 학습한다. 하지만 계산한 값을 그대로 출력하는 것이 아니라 이 값을 0 ~ 1 사이로 압축한다.<br>\n",
        "이 값은 0 ~100% 사이의 확률로 이해할 수 있다."
      ],
      "metadata": {
        "id": "1QflD4P8JfnW"
      }
    },
    {
      "cell_type": "markdown",
      "source": [
        "#### **로지스틱 회귀로 이진 분류 수행하기**"
      ],
      "metadata": {
        "id": "BZvfi98-LfMm"
      }
    },
    {
      "cell_type": "markdown",
      "source": [
        "로지스틱 회귀는 이진 분류에서는 하나의 선형 방정식을 훈련한다. 이 방정식의 출력값을 **시그모이드 함수**에 통과시켜 0 ~ 1 사이의 값을 만든다. 이 값이 양성 클래스에 대한 확률이다. 음성 클래스의 확률은 1에서 양성 클래스의 확률을 빼면 된다."
      ],
      "metadata": {
        "id": "EzoguTsmLNLr"
      }
    },
    {
      "cell_type": "markdown",
      "source": [
        "넘파이를 사용해 시그모이드 그래프를 그려보자. -5와 5 사이에 0.1 간격으로 배열 z를 만든 다음, z 위치마다 시그모이드 함수를 계산한다. 지수 함수 계산은 `np.exp()` 함수를 사용한다."
      ],
      "metadata": {
        "id": "rXlJHYwmKS5N"
      }
    },
    {
      "cell_type": "code",
      "source": [
        "import numpy as np\n",
        "import matplotlib.pyplot as plt\n",
        "\n",
        "z = np.arange(-5, 5, 0.1)  \n",
        "phi = 1 / (1 + np.exp(-z))\n",
        "plt.plot(z, phi)\n",
        "plt.xlabel('z')\n",
        "plt.ylabel('phi')\n",
        "plt.show()"
      ],
      "metadata": {
        "colab": {
          "base_uri": "https://localhost:8080/",
          "height": 279
        },
        "id": "LtCP_3AQJT27",
        "outputId": "a6b5aaef-2d90-4c69-a092-175b5ab58a94"
      },
      "execution_count": 14,
      "outputs": [
        {
          "output_type": "display_data",
          "data": {
            "text/plain": [
              "<Figure size 432x288 with 1 Axes>"
            ],
            "image/png": "[encoded data removed]"
          },
          "metadata": {
            "needs_background": "light"
          }
        }
      ]
    },
    {
      "cell_type": "markdown",
      "source": [
        "시그모이드 함수의 출력이 정말 0에서 1까지 변하는 것을 확인할 수 있다.<br>\n",
        "그럼 로지스틱 회귀로 간단한 이진 분류를 수행해보자. 사이킷런의 `LogisticRegression` 클래스를 사용하면 된다."
      ],
      "metadata": {
        "id": "IH-ZgAmULpFF"
      }
    },
    {
      "cell_type": "markdown",
      "source": [
        "+) **불리언 인덱싱**<br>\n",
        "넘파이 배열은 True, False 값을 전달하여 행을 선택할 수 있다.<br>\n",
        "```\n",
        "char_arr = np.array(['A', 'B', 'C', 'D', 'E'])\n",
        "print(char_arr[[True, False, True, False, False]]  # ['A', 'C']가 출력됨\n",
        "```"
      ],
      "metadata": {
        "id": "fEt7WFGRL2Re"
      }
    },
    {
      "cell_type": "markdown",
      "source": [
        "불리언 인덱싱을 사용하여 훈련 세트에서 도미(Bream)와 빙어(Smelt)의 행만 골라낼 것이다. "
      ],
      "metadata": {
        "id": "8oaE7FVtMjUH"
      }
    },
    {
      "cell_type": "code",
      "source": [
        "# Bream, Smelt인 것만 True, 나머지는 False인 배열을 반환한다.\n",
        "bream_smelt_indexes = (train_target == 'Bream') | (train_target == 'Smelt')\n",
        "\n",
        "train_bream_smelt = train_scaled[bream_smelt_indexes]\n",
        "target_bream_smelt = train_target[bream_smelt_indexes]"
      ],
      "metadata": {
        "id": "HO9FVHUqNEqt"
      },
      "execution_count": 16,
      "outputs": []
    },
    {
      "cell_type": "markdown",
      "source": [
        "이 데이터로 로지스틱 회귀 모델을 훈련해보자."
      ],
      "metadata": {
        "id": "zTrSDN4iNwFV"
      }
    },
    {
      "cell_type": "code",
      "source": [
        "from sklearn.linear_model import LogisticRegression\n",
        "\n",
        "lr = LogisticRegression()\n",
        "lr.fit(train_bream_smelt, target_bream_smelt)"
      ],
      "metadata": {
        "colab": {
          "base_uri": "https://localhost:8080/"
        },
        "id": "tNyM8smTN0Qt",
        "outputId": "2cc1e430-6cec-408f-baec-76b149863d59"
      },
      "execution_count": 17,
      "outputs": [
        {
          "output_type": "execute_result",
          "data": {
            "text/plain": [
              "LogisticRegression()"
            ]
          },
          "metadata": {},
          "execution_count": 17
        }
      ]
    },
    {
      "cell_type": "markdown",
      "source": [
        "훈련한 모델을 사용해 train_bream_smelt에 있는 처음 5개 샘플을 예측해보자."
      ],
      "metadata": {
        "id": "FUbOknuoOCIL"
      }
    },
    {
      "cell_type": "code",
      "source": [
        "print(lr.predict(train_bream_smelt[:5]))"
      ],
      "metadata": {
        "colab": {
          "base_uri": "https://localhost:8080/"
        },
        "id": "4yNjYriQOG9H",
        "outputId": "76d02985-22ae-43cf-b350-8cc935b3f196"
      },
      "execution_count": 18,
      "outputs": [
        {
          "output_type": "stream",
          "name": "stdout",
          "text": [
            "['Bream' 'Smelt' 'Bream' 'Bream' 'Bream']\n"
          ]
        }
      ]
    },
    {
      "cell_type": "markdown",
      "source": [
        "두 번째 샘플을 제외하고는 모두 도미로 예측했다.<br>\n",
        "마찬가지로 train_bream_smelt에서 처음 5개 샘플의 예측 확률을 출력해보겠다."
      ],
      "metadata": {
        "id": "aK6EymlROSji"
      }
    },
    {
      "cell_type": "code",
      "source": [
        "print(lr.predict_proba(train_bream_smelt[:5]))"
      ],
      "metadata": {
        "colab": {
          "base_uri": "https://localhost:8080/"
        },
        "id": "0kMRQUtFOcIN",
        "outputId": "709fe6ce-74a6-4507-ef56-f28be566ea39"
      },
      "execution_count": 19,
      "outputs": [
        {
          "output_type": "stream",
          "name": "stdout",
          "text": [
            "[[0.99759855 0.00240145]\n",
            " [0.02735183 0.97264817]\n",
            " [0.99486072 0.00513928]\n",
            " [0.98584202 0.01415798]\n",
            " [0.99767269 0.00232731]]\n"
          ]
        }
      ]
    },
    {
      "cell_type": "markdown",
      "source": [
        "첫 번째 열이 음성 클래스(0)에 대한 확률이고 두 번째 열이 양성 클래스(1)에 대한 확률이다. "
      ],
      "metadata": {
        "id": "FbKbQQp8Oj1T"
      }
    },
    {
      "cell_type": "code",
      "source": [
        "print(lr.classes_)"
      ],
      "metadata": {
        "colab": {
          "base_uri": "https://localhost:8080/"
        },
        "id": "qjJFikoNOt_t",
        "outputId": "268e7a52-4f1f-49f4-c40b-af5681959962"
      },
      "execution_count": 20,
      "outputs": [
        {
          "output_type": "stream",
          "name": "stdout",
          "text": [
            "['Bream' 'Smelt']\n"
          ]
        }
      ]
    },
    {
      "cell_type": "markdown",
      "source": [
        "앞서 봤듯이 사이킷런은 타깃값을 알파벳순으로 정렬하기 때문에 빙어가 양성 클래스가 된다.<br>\n",
        "predict_proba() 메서드가 반환한 배열 값을 보면 두 번째 샘플만 양성 클래스인 빙어의 확률이 높고, 나머지는 모두 도미의 확률이 높은 것을 보니 성공적으로 이진 분류가 수행됐다."
      ],
      "metadata": {
        "id": "neGhGfNyOwK0"
      }
    },
    {
      "cell_type": "markdown",
      "source": [
        "그럼 선형 회귀에서처럼 로지스틱 회귀가 학습한 계수를 확인해보자."
      ],
      "metadata": {
        "id": "BQEJy4tXPGu0"
      }
    },
    {
      "cell_type": "code",
      "source": [
        "print(lr.coef_, lr.intercept_)"
      ],
      "metadata": {
        "colab": {
          "base_uri": "https://localhost:8080/"
        },
        "id": "3Io9pLV3PK-0",
        "outputId": "85d97601-c573-4187-cf72-c015c6a4e4e9"
      },
      "execution_count": 21,
      "outputs": [
        {
          "output_type": "stream",
          "name": "stdout",
          "text": [
            "[[-0.4037798  -0.57620209 -0.66280298 -1.01290277 -0.73168947]] [-2.16155132]\n"
          ]
        }
      ]
    },
    {
      "cell_type": "markdown",
      "source": [
        "따라서 이 로지스틱 회귀 모델이 학습한 방정식은 다음과 같다.<br>\n",
        "$$z = -0.404*(Weight) - 0.576*(Length) -0.663*(Diagonal) - 1.013*(Height) - 0.732*(Width) - 2.161$$"
      ],
      "metadata": {
        "id": "BUJ0dL4uPQaX"
      }
    },
    {
      "cell_type": "markdown",
      "source": [
        "LogisticRegression 클래스의 `decision_function()` 메서드로 z값을 출력해보자."
      ],
      "metadata": {
        "id": "kqCpQAmaPnY0"
      }
    },
    {
      "cell_type": "code",
      "source": [
        "decisions = lr.decision_function(train_bream_smelt[:5])\n",
        "print(decisions)"
      ],
      "metadata": {
        "colab": {
          "base_uri": "https://localhost:8080/"
        },
        "id": "doFhf7Z0P1iY",
        "outputId": "15491e84-067e-4ded-9866-3aab6e5e9a5e"
      },
      "execution_count": 23,
      "outputs": [
        {
          "output_type": "stream",
          "name": "stdout",
          "text": [
            "[-6.02927744  3.57123907 -5.26568906 -4.24321775 -6.0607117 ]\n"
          ]
        }
      ]
    },
    {
      "cell_type": "markdown",
      "source": [
        "이 값을 시그모이드 함수에 통과시키면 확률을 얻을 수 있다. <br>\n",
        "파이썬의 `사이파이(scipy)` 라이브러리의 **시그모이드 함수인 expit()**를 사용해 decisions 배열의 값을 확률로 변환해보자."
      ],
      "metadata": {
        "id": "nEt2FLY3QAD0"
      }
    },
    {
      "cell_type": "code",
      "source": [
        "from scipy.special import expit\n",
        "\n",
        "print(expit(decisions))"
      ],
      "metadata": {
        "colab": {
          "base_uri": "https://localhost:8080/"
        },
        "id": "dXFM5R7mQTLG",
        "outputId": "c67e1bd1-68d8-4ab2-ade6-c2e81080d2b7"
      },
      "execution_count": 25,
      "outputs": [
        {
          "output_type": "stream",
          "name": "stdout",
          "text": [
            "[0.00240145 0.97264817 0.00513928 0.01415798 0.00232731]\n"
          ]
        }
      ]
    },
    {
      "cell_type": "markdown",
      "source": [
        "출력된 값이 predict_proba() 메서드 출력의 두 번째 열의 값과 동일하다.<br>\n",
        "즉 decision_function() 메서드는 **양성 클래스에 대한 z값**을 반환하는 것을 알 수 있다.<br><br>"
      ],
      "metadata": {
        "id": "SBT85ejOQcfW"
      }
    },
    {
      "cell_type": "markdown",
      "source": [
        "#### **로지스틱 회귀로 다중 분류 수행하기**\n"
      ],
      "metadata": {
        "id": "GJ5sRHN0ROLD"
      }
    },
    {
      "cell_type": "markdown",
      "source": [
        "이진 분류의 경험을 바탕으로 7개의 생선을 분류하는 다중 분류를 수행해 볼 것이다.<br><br>\n",
        "**다중 분류**일 경우에는 클래스 개수만큼 방정식을 훈련한다. 그다음 각 방정식의 출력값을 **소프트맥스 함수**를 통과시켜 전체 클래스에 대한 합이 항상 1이 되도록 만든다. 이 값을 각 클래스에 대한 확률로 이해할 수 있다."
      ],
      "metadata": {
        "id": "BP7EbdojRSJr"
      }
    },
    {
      "cell_type": "markdown",
      "source": [
        "LogisticRegression 클래스는 기본적으로 반복적인 알고리즘을 사용한다. 충분하게 훈련시키기 위해 반복 횟수를 1,000으로 지정하자.(max_iter=1000)"
      ],
      "metadata": {
        "id": "JuAzzB_kRrts"
      }
    },
    {
      "cell_type": "markdown",
      "source": [
        "LogisticRegression 클래스는 기본적으로 릿지 회귀와 같이 **계수의 제곱을 규제**한다. <br>\n",
        "이런 규제를 **L2 규제**라고 부르며, 릿지와 달리 **매개변수 C**로 규제를 제어한다.<br>\n",
        "C는 alpha와 달리 작을수록 규제가 커지므로, 규제를 완화하기 위해 20으로 설정한다.(기본값 C=1)"
      ],
      "metadata": {
        "id": "s3307wIbR-rd"
      }
    },
    {
      "cell_type": "markdown",
      "source": [
        "다음 코드는 LogisticRegression 클래스로 다중 분류 모델을 훈련하는 코드이다."
      ],
      "metadata": {
        "id": "-Bxc-h7sScbq"
      }
    },
    {
      "cell_type": "code",
      "source": [
        "lr = LogisticRegression(C=20, max_iter=1000)\n",
        "lr.fit(train_scaled, train_target)\n",
        "print(lr.score(train_scaled, train_target))\n",
        "print(lr.score(test_scaled, test_target))"
      ],
      "metadata": {
        "colab": {
          "base_uri": "https://localhost:8080/"
        },
        "id": "Dc8b7I1lRlYD",
        "outputId": "6c9a4eb6-d28a-4b65-8767-ac026431aade"
      },
      "execution_count": 26,
      "outputs": [
        {
          "output_type": "stream",
          "name": "stdout",
          "text": [
            "0.9327731092436975\n",
            "0.925\n"
          ]
        }
      ]
    },
    {
      "cell_type": "markdown",
      "source": [
        "테스트 세트의 처음 5개 샘플에 대한 예측을 출력해보자."
      ],
      "metadata": {
        "id": "PD-WFoBNURB9"
      }
    },
    {
      "cell_type": "code",
      "source": [
        "print(lr.predict(test_scaled[:5]))"
      ],
      "metadata": {
        "colab": {
          "base_uri": "https://localhost:8080/"
        },
        "id": "cQr2rTXAUP7r",
        "outputId": "84f5802d-6230-48ce-f375-625deee25526"
      },
      "execution_count": 27,
      "outputs": [
        {
          "output_type": "stream",
          "name": "stdout",
          "text": [
            "['Perch' 'Smelt' 'Pike' 'Roach' 'Perch']\n"
          ]
        }
      ]
    },
    {
      "cell_type": "markdown",
      "source": [
        "이번에는 테스트 세트의 처음 5개 샘플에 대한 예측 확률을 출력해볼 것이다."
      ],
      "metadata": {
        "id": "YWmH_pIaUhNt"
      }
    },
    {
      "cell_type": "code",
      "source": [
        "proba = lr.predict_proba(test_scaled[:5])\n",
        "print(np.round(proba, decimals=3)) # 출력 간소하기 위해 소수점 네 번째 자리에서 반올림"
      ],
      "metadata": {
        "colab": {
          "base_uri": "https://localhost:8080/"
        },
        "id": "ZOFV6GChUm_9",
        "outputId": "445ee265-105f-4a44-a7a5-5f278ef61f19"
      },
      "execution_count": 28,
      "outputs": [
        {
          "output_type": "stream",
          "name": "stdout",
          "text": [
            "[[0.    0.014 0.841 0.    0.136 0.007 0.003]\n",
            " [0.    0.003 0.044 0.    0.007 0.946 0.   ]\n",
            " [0.    0.    0.034 0.935 0.015 0.016 0.   ]\n",
            " [0.011 0.034 0.306 0.007 0.567 0.    0.076]\n",
            " [0.    0.    0.904 0.002 0.089 0.002 0.001]]\n"
          ]
        }
      ]
    },
    {
      "cell_type": "markdown",
      "source": [
        "classes_ 속성에서 클래스 정보를 확인해보자."
      ],
      "metadata": {
        "id": "uy1CXi5tVJgP"
      }
    },
    {
      "cell_type": "code",
      "source": [
        "print(lr.classes_)"
      ],
      "metadata": {
        "colab": {
          "base_uri": "https://localhost:8080/"
        },
        "id": "6HFLTTlMVLvs",
        "outputId": "cb4d04b0-0815-46bf-e1f0-beed2ba9216d"
      },
      "execution_count": 29,
      "outputs": [
        {
          "output_type": "stream",
          "name": "stdout",
          "text": [
            "['Bream' 'Parkki' 'Perch' 'Pike' 'Roach' 'Smelt' 'Whitefish']\n"
          ]
        }
      ]
    },
    {
      "cell_type": "markdown",
      "source": [
        "첫 번째 샘플은 Perch를, 두 번째 샘플은 Smelt를 가장 높은 확률로 예측한 것을 알 수 있다.<br>\n",
        "그럼 다중 분류일 경우 선형 방정식은 어떤 모습일까?<br>\n",
        "coef_와 intercept_의 크기를 출력해보자."
      ],
      "metadata": {
        "id": "sLr6f4GdVOu0"
      }
    },
    {
      "cell_type": "code",
      "source": [
        "print(lr.coef_.shape, lr.intercept_.shape)"
      ],
      "metadata": {
        "colab": {
          "base_uri": "https://localhost:8080/"
        },
        "id": "_RgKMmGIViUG",
        "outputId": "ba9fadd6-3bb3-42dc-ea3c-949120e39426"
      },
      "execution_count": 30,
      "outputs": [
        {
          "output_type": "stream",
          "name": "stdout",
          "text": [
            "(7, 5) (7,)\n"
          ]
        }
      ]
    },
    {
      "cell_type": "markdown",
      "source": [
        "이 데이터는 **5개의 특성을 사용**하므로 coef_ 배열의 열은 5개이다.\n",
        "행이 7인 것은 **z를 7개나 계산**한다는 의미이다.<br> 다중 분류는 클래스마다 z값을 하나씩 계산한다. 당연히 가장 높은 z값을 출력하는 클래스가 예측 클래스가 된다."
      ],
      "metadata": {
        "id": "hliclDylVqyi"
      }
    },
    {
      "cell_type": "markdown",
      "source": [
        "또한, 다중 분류에서는 **소프트맥스 함수**를 사용하여 7개의 z값을 확률로 변환한다. <br>**소프트맥스 함수**는 여러 개의 선형 방정식의 출력값을 0 ~ 1 사이로 압축하고 전체 합이 1이 되도록 만든다. <br>이를 위해 지수함수를 사용하기 때문에 **정규화된 지수 함수**라고도 부른다."
      ],
      "metadata": {
        "id": "ENjuDG7zWAb8"
      }
    },
    {
      "cell_type": "markdown",
      "source": [
        "소프트맥스의 계산 방식은 다음과 같다.\n",
        "1. 먼저 7개의 z값의 이름을 $z1$ ~ $z7$이라고 붙인다.\n",
        "2. $z1$ ~ $z7$까지 값을 사용해 지수 함수 e<sup>z1</sup> ~ e<sup>z7</sup>을 계산해 모두 더하고 e_sum이라 한다.\n",
        "3. 그다음 e<sup>z1</sup> ~ e<sup>z7</sup>을 각각 e_sum으로 나눠주면 된다.\n",
        "\n",
        "각 나눠준 값을 모두 더하면 1이 된다."
      ],
      "metadata": {
        "id": "ReoHR-iBXOJd"
      }
    },
    {
      "cell_type": "markdown",
      "source": [
        "그럼 decision_function() 메서드로 z1 ~ z7까지의 값을 구한 다음 소프트맥스 함수를 사용해 확률로 바꿔보자.<br><br>\n",
        "먼저 테스트 세트의 처음 5개 샘플에 대한 z1 ~ z7의 값을 구한다."
      ],
      "metadata": {
        "id": "oC6vLEwWWjr1"
      }
    },
    {
      "cell_type": "code",
      "source": [
        "decision = lr.decision_function(test_scaled[:5])\n",
        "print(np.round(decision, decimals=2))"
      ],
      "metadata": {
        "colab": {
          "base_uri": "https://localhost:8080/"
        },
        "id": "08G3xs0JWeBk",
        "outputId": "a3576d14-3212-46a5-d384-4829cd797917"
      },
      "execution_count": 31,
      "outputs": [
        {
          "output_type": "stream",
          "name": "stdout",
          "text": [
            "[[ -6.5    1.03   5.16  -2.73   3.34   0.33  -0.63]\n",
            " [-10.86   1.93   4.77  -2.4    2.98   7.84  -4.26]\n",
            " [ -4.34  -6.23   3.17   6.49   2.36   2.42  -3.87]\n",
            " [ -0.68   0.45   2.65  -1.19   3.26  -5.75   1.26]\n",
            " [ -6.4   -1.99   5.82  -0.11   3.5   -0.11  -0.71]]\n"
          ]
        }
      ]
    },
    {
      "cell_type": "markdown",
      "source": [
        "사이파이의 softmax() 함수를 임포트해 사용한다.<br>\n",
        "axis 매개변수는 소프트맥스를 계산할 축을 지정한다. axis=1은 각 행, 즉 각 샘플에 대해 소프트맥스를 계산한다.<br> 만약 axis를 지정하지 않으면 배열 전체에 대해 소프트맥스를 계산한다."
      ],
      "metadata": {
        "id": "nQZJVVKBYq9L"
      }
    },
    {
      "cell_type": "code",
      "source": [
        " from scipy.special import softmax\n",
        "\n",
        " proba = softmax(decision, axis=1)\n",
        " print(np.round(proba, decimals=3))"
      ],
      "metadata": {
        "colab": {
          "base_uri": "https://localhost:8080/"
        },
        "id": "_AGOqfcHYu_X",
        "outputId": "8d6db5a3-0d34-47be-8c51-9d356d9675c2"
      },
      "execution_count": 32,
      "outputs": [
        {
          "output_type": "stream",
          "name": "stdout",
          "text": [
            "[[0.    0.014 0.841 0.    0.136 0.007 0.003]\n",
            " [0.    0.003 0.044 0.    0.007 0.946 0.   ]\n",
            " [0.    0.    0.034 0.935 0.015 0.016 0.   ]\n",
            " [0.011 0.034 0.306 0.007 0.567 0.    0.076]\n",
            " [0.    0.    0.904 0.002 0.089 0.002 0.001]]\n"
          ]
        }
      ]
    },
    {
      "cell_type": "markdown",
      "source": [
        "앞서 구한 proba 배열과 비교하면 결과가 정확히 일치한다."
      ],
      "metadata": {
        "id": "ZKmXelBYZKdV"
      }
    }
  ]
}