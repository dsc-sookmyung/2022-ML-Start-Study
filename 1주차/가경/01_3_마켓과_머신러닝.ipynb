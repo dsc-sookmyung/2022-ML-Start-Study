{
  "nbformat": 4,
  "nbformat_minor": 0,
  "metadata": {
    "colab": {
      "name": "01-3. 마켓과 머신러닝.ipynb",
      "provenance": [],
      "collapsed_sections": []
    },
    "kernelspec": {
      "name": "python3",
      "display_name": "Python 3"
    },
    "language_info": {
      "name": "python"
    }
  },
  "cells": [
    {
      "cell_type": "markdown",
      "source": [
        "# 01-3 마켓과 머신러닝"
      ],
      "metadata": {
        "id": "7is6sl-H_Jo2"
      }
    },
    {
      "cell_type": "markdown",
      "source": [
        "## 생선 분류 문제"
      ],
      "metadata": {
        "id": "WZiwnboX_R_c"
      }
    },
    {
      "cell_type": "markdown",
      "source": [
        "### 도미 데이터 준비하기"
      ],
      "metadata": {
        "id": "-2hIpRS5_cli"
      }
    },
    {
      "cell_type": "code",
      "source": [
        "# 생선의 길이\n",
        "bream_length = [25.4, 26.3, 26.5, 29.0, 29.0, 29.7, 29.7, 30.0, 30.0, 30.7, 31.0, 31.0, 31.5, 32.0, 32.0, 32.0, 33.0, 33.0, 33.5, 33.5, 34.0, 34.0, 34.5, 35.0, 35.0, 35.0, 35.0, 36.0, 36.0, 37.0, 38.5, 38.5, 39.5, 41.0, 41.0]\n",
        "# 생선의 무게\n",
        "bream_weight = [242.0, 290.0, 340.0, 363.0, 430.0, 450.0, 500.0, 390.0, 450.0, 500.0, 475.0, 500.0, 500.0, 340.0, 600.0, 600.0, 700.0, 700.0, 610.0, 650.0, 575.0, 685.0, 620.0, 680.0, 700.0, 725.0, 720.0, 714.0, 850.0, 1000.0, 920.0, 955.0, 925.0, 975.0, 950.0]"
      ],
      "metadata": {
        "id": "h1AblkFi_bIL"
      },
      "execution_count": null,
      "outputs": []
    },
    {
      "cell_type": "code",
      "source": [
        "# 도미 산점도 그래프\n",
        "import matplotlib.pyplot as plt # matplotlib의 pyplot 함수를 plt로 줄여서 사용\n",
        "  \n",
        "plt.scatter(bream_length, bream_weight) # (x축에 놓을 데이터, y축에 놓을 데이터)\n",
        "plt.xlabel('length') # x축 이름 표시 : x축은 길이\n",
        "plt.xlabel('weight') # y축 이름 표시 : y축은 길이\n",
        "plt.show() # 그래프 출력"
      ],
      "metadata": {
        "colab": {
          "base_uri": "https://localhost:8080/",
          "height": 279
        },
        "id": "Td2cFF3Z_r3w",
        "outputId": "902fe202-6c14-4e24-e19e-ef051086a9f0"
      },
      "execution_count": null,
      "outputs": [
        {
          "output_type": "display_data",
          "data": {
            "text/plain": [
              "<Figure size 432x288 with 1 Axes>"
            ],
            "image/png": "[encoded data removed]"
          },
          "metadata": {
            "needs_background": "light"
          }
        }
      ]
    },
    {
      "cell_type": "markdown",
      "source": [
        "### 빙어 데이터 준비하기"
      ],
      "metadata": {
        "id": "0nfiBElJBE4U"
      }
    },
    {
      "cell_type": "code",
      "source": [
        "# 생선의 길이\n",
        "smelt_length = [9.8, 10.5, 10.6, 11.0, 11.2, 11.3, 11.8, 11.8, 12.0, 12.2, 12.4, 13.0, 14.3, 15.0]\n",
        "# 생선의 무게\n",
        "smelt_weight = [6.7, 7.5, 7.0, 9.7, 9.8, 8.7, 10.0, 9.9, 9.8, 12.2, 13.4, 12.2, 19.7, 19.9]"
      ],
      "metadata": {
        "id": "YYkq-yHGBSPT"
      },
      "execution_count": null,
      "outputs": []
    },
    {
      "cell_type": "code",
      "source": [
        "# 도미와 빙어의 산점도 그래프\n",
        "plt.scatter(bream_length, bream_weight) # 도미\n",
        "plt.scatter(smelt_length, smelt_weight) # 빙어\n",
        "plt.xlabel('length') \n",
        "plt.xlabel('weight') \n",
        "plt.show()"
      ],
      "metadata": {
        "colab": {
          "base_uri": "https://localhost:8080/",
          "height": 279
        },
        "id": "rELYUaUEBY25",
        "outputId": "a0bc6660-66bc-4992-8643-1c1dfd70f5f5"
      },
      "execution_count": null,
      "outputs": [
        {
          "output_type": "display_data",
          "data": {
            "text/plain": [
              "<Figure size 432x288 with 1 Axes>"
            ],
            "image/png": "[encoded data removed]"
          },
          "metadata": {
            "needs_background": "light"
          }
        }
      ]
    },
    {
      "cell_type": "markdown",
      "source": [
        "## 첫 번째 머신러닝 프로그램"
      ],
      "metadata": {
        "id": "FBMlpeqHB_WE"
      }
    },
    {
      "cell_type": "markdown",
      "source": [
        "### 도미와 빙어 합치기"
      ],
      "metadata": {
        "id": "fCjn-fOcCdGU"
      }
    },
    {
      "cell_type": "code",
      "source": [
        "# 두 리스트를 더하여 하나의 리스트로 만들어 줌\n",
        "length = bream_length + smelt_length\n",
        "weight = bream_weight + smelt_weight"
      ],
      "metadata": {
        "id": "_ryF0FO3ChGN"
      },
      "execution_count": null,
      "outputs": []
    },
    {
      "cell_type": "code",
      "source": [
        "# length와 weight 리스트를 2차원 리스트로 만듦 \n",
        "# length와 weight 리스트에서 원소를 하나씩 꺼내 [l, w]가 하나의 원소로 구성된 리스트 생성\n",
        "fish_data = [[l, w] for l, w in zip(length, weight)]\n",
        "\n",
        "print(fish_data)"
      ],
      "metadata": {
        "colab": {
          "base_uri": "https://localhost:8080/"
        },
        "id": "GuDc6jsyDEsV",
        "outputId": "3ca79ec9-553c-4032-e867-4402db3ccf7b"
      },
      "execution_count": null,
      "outputs": [
        {
          "output_type": "stream",
          "name": "stdout",
          "text": [
            "[[25.4, 242.0], [26.3, 290.0], [26.5, 340.0], [29.0, 363.0], [29.0, 430.0], [29.7, 450.0], [29.7, 500.0], [30.0, 390.0], [30.0, 450.0], [30.7, 500.0], [31.0, 475.0], [31.0, 500.0], [31.5, 500.0], [32.0, 340.0], [32.0, 600.0], [32.0, 600.0], [33.0, 700.0], [33.0, 700.0], [33.5, 610.0], [33.5, 650.0], [34.0, 575.0], [34.0, 685.0], [34.5, 620.0], [35.0, 680.0], [35.0, 700.0], [35.0, 725.0], [35.0, 720.0], [36.0, 714.0], [36.0, 850.0], [37.0, 1000.0], [38.5, 920.0], [38.5, 955.0], [39.5, 925.0], [41.0, 975.0], [41.0, 950.0], [9.8, 6.7], [10.5, 7.5], [10.6, 7.0], [11.0, 9.7], [11.2, 9.8], [11.3, 8.7], [11.8, 10.0], [11.8, 9.9], [12.0, 9.8], [12.2, 12.2], [12.4, 13.4], [13.0, 12.2], [14.3, 19.7], [15.0, 19.9]]\n"
          ]
        }
      ]
    },
    {
      "cell_type": "markdown",
      "source": [
        "### 정답 준비"
      ],
      "metadata": {
        "id": "180D7ImGEyry"
      }
    },
    {
      "cell_type": "code",
      "source": [
        "# 35마리의 도미, 14마리의 빙어\n",
        "fish_target = [1] * 35 + [0] * 14\n",
        "print(fish_target)"
      ],
      "metadata": {
        "colab": {
          "base_uri": "https://localhost:8080/"
        },
        "id": "jzmvXVxDE1MU",
        "outputId": "7b5deb61-d0bb-4081-912a-5fbccb9830ca"
      },
      "execution_count": null,
      "outputs": [
        {
          "output_type": "stream",
          "name": "stdout",
          "text": [
            "[1, 1, 1, 1, 1, 1, 1, 1, 1, 1, 1, 1, 1, 1, 1, 1, 1, 1, 1, 1, 1, 1, 1, 1, 1, 1, 1, 1, 1, 1, 1, 1, 1, 1, 1, 0, 0, 0, 0, 0, 0, 0, 0, 0, 0, 0, 0, 0, 0]\n"
          ]
        }
      ]
    },
    {
      "cell_type": "markdown",
      "source": [
        "### k-최근접 이웃"
      ],
      "metadata": {
        "id": "Ybzkq-MlFDk2"
      }
    },
    {
      "cell_type": "code",
      "source": [
        "# k-최근접 이웃 알고리즘을 구현한 클래스를 임포트\n",
        "from sklearn.neighbors import KNeighborsClassifier\n",
        "\n",
        "kn = KNeighborsClassifier() # 클래스 객체 생성\n",
        "kn.fit(fish_data, fish_target) # 알고리즘 훈련\n",
        "kn.score(fish_data, fish_target) # 모델을 평가"
      ],
      "metadata": {
        "colab": {
          "base_uri": "https://localhost:8080/"
        },
        "id": "pqh1xnxjFFok",
        "outputId": "762519ad-e5f2-4876-a6b3-27dfb60566ee"
      },
      "execution_count": null,
      "outputs": [
        {
          "output_type": "execute_result",
          "data": {
            "text/plain": [
              "1.0"
            ]
          },
          "metadata": {},
          "execution_count": 13
        }
      ]
    },
    {
      "cell_type": "markdown",
      "source": [
        "### 새로운 생선 예측"
      ],
      "metadata": {
        "id": "w2bBODDuHPYj"
      }
    },
    {
      "cell_type": "code",
      "source": [
        "plt.scatter(bream_length, bream_weight)\n",
        "plt.scatter(smelt_length, smelt_weight)\n",
        "plt.scatter(30, 600, marker='^')\n",
        "plt.xlabel('length')\n",
        "plt.ylabel('weight')\n",
        "plt.show()"
      ],
      "metadata": {
        "colab": {
          "base_uri": "https://localhost:8080/",
          "height": 279
        },
        "id": "3vlLCjGXH7jz",
        "outputId": "0e162d70-b101-44ab-b522-096dcdbb6d07"
      },
      "execution_count": null,
      "outputs": [
        {
          "output_type": "display_data",
          "data": {
            "text/plain": [
              "<Figure size 432x288 with 1 Axes>"
            ],
            "image/png": "[encoded data removed]"
          },
          "metadata": {
            "needs_background": "light"
          }
        }
      ]
    },
    {
      "cell_type": "code",
      "source": [
        "# 길이 30cm, 무게 600g인 생선은 도미와 빙어 중 무엇일까?\n",
        "kn.predict([[30, 600]])"
      ],
      "metadata": {
        "colab": {
          "base_uri": "https://localhost:8080/"
        },
        "id": "7N5Kc6nKHRS5",
        "outputId": "139e0016-dd59-483f-e304-6832193b8fcd"
      },
      "execution_count": null,
      "outputs": [
        {
          "output_type": "execute_result",
          "data": {
            "text/plain": [
              "array([1])"
            ]
          },
          "metadata": {},
          "execution_count": 14
        }
      ]
    },
    {
      "cell_type": "markdown",
      "source": [
        "### 무조건 도미"
      ],
      "metadata": {
        "id": "q2MP3iBoIoLa"
      }
    },
    {
      "cell_type": "code",
      "source": [
        "# 가장 가까운 데이터 49개를 사용하는 k-최근접 이웃 모델\n",
        "kn49 = KNeighborsClassifier(n_neighbors=49) # 참고 데이터를 49개로 한 kn49 모델\n",
        "\n",
        "kn49.fit(fish_data, fish_target)\n",
        "kn49.score(fish_data, fish_target)"
      ],
      "metadata": {
        "colab": {
          "base_uri": "https://localhost:8080/"
        },
        "id": "Ir8qXSDEIqEr",
        "outputId": "9f043272-43d4-430a-8059-9adf0b41a7a3"
      },
      "execution_count": null,
      "outputs": [
        {
          "output_type": "execute_result",
          "data": {
            "text/plain": [
              "0.7142857142857143"
            ]
          },
          "metadata": {},
          "execution_count": 18
        }
      ]
    },
    {
      "cell_type": "code",
      "source": [
        "print(35/49)"
      ],
      "metadata": {
        "colab": {
          "base_uri": "https://localhost:8080/"
        },
        "id": "cadTfwC7JHJR",
        "outputId": "f5981919-19be-464e-a2f8-0a2dde3152f1"
      },
      "execution_count": null,
      "outputs": [
        {
          "output_type": "stream",
          "name": "stdout",
          "text": [
            "0.7142857142857143\n"
          ]
        }
      ]
    },
    {
      "cell_type": "markdown",
      "source": [
        "### +) 확인 문제"
      ],
      "metadata": {
        "id": "8bBQ_dfrKFA9"
      }
    },
    {
      "cell_type": "code",
      "source": [
        "kn = KNeighborsClassifier()\n",
        "kn.fit(fish_data, fish_target)\n",
        "\n",
        "for n in range(5, 50): # 5부터 49까지 바꾸어 가면서\n",
        "    # k-최근접 이웃 개수 설정\n",
        "    kn.n_neighbors = n\n",
        "    # 점수 계산\n",
        "    score = kn.score(fish_data, fish_target)\n",
        "    # 100% 정확도에 미치지 못하는 이웃 개수 출력\n",
        "    if score < 1:\n",
        "        print(n, score)\n",
        "        break"
      ],
      "metadata": {
        "colab": {
          "base_uri": "https://localhost:8080/"
        },
        "id": "Kd0Yqm0-KH2T",
        "outputId": "ed41c6b0-fd9b-4d6e-ce2f-f85f0590b7f9"
      },
      "execution_count": null,
      "outputs": [
        {
          "output_type": "stream",
          "name": "stdout",
          "text": [
            "18 0.9795918367346939\n"
          ]
        }
      ]
    }
  ]
}