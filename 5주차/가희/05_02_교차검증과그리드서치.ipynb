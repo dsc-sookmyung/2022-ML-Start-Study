{
  "nbformat": 4,
  "nbformat_minor": 0,
  "metadata": {
    "colab": {
      "name": "05_02_교차검증과그리드서치.ipynb",
      "provenance": [],
      "collapsed_sections": []
    },
    "kernelspec": {
      "name": "python3",
      "display_name": "Python 3"
    },
    "language_info": {
      "name": "python"
    }
  },
  "cells": [
    {
      "cell_type": "markdown",
      "source": [
        "## **05-2) 교차 검증과 그리드 서치**"
      ],
      "metadata": {
        "id": "nsdgLLeA0b-S"
      }
    },
    {
      "cell_type": "markdown",
      "source": [
        "- 검증 세트가 필요한 이유를 이해하고 교차 검증에 대해 배운다.\n",
        "- 그리드 서치와 랜덤 서치를 이용해 최적의 성능을 내는 하이퍼파라미터를 찾는다."
      ],
      "metadata": {
        "id": "kWHPWR8P0fjX"
      }
    },
    {
      "cell_type": "markdown",
      "source": [
        "#### **용어 정리**\n",
        "- **검증 세트**: 하이퍼파라미터 튜닝을 위해 모델을 평가할 때, 테스트 세트를 사용하지 않기 위해 훈련 세트에서 다시 떼어 낸 데이터 세트\n",
        "- **교차 검증**: 훈련 세트를 여러 폴드로 나눈 다음 한 폴드가 검증 세트의 역할을 하고 나머지 폴드에서는 모델을 훈련한다. 교차검증은 이런 식으로 모든 폴드에 대해 검증 점수를 얻어 평균하는 방법이다.\n",
        "- **그리드 서치**: 하이퍼파라미터 탐색을 자동화해 주는 도구. 탐색할 매개변수를 나열하면 교차 검증을 수행하여 가장 좋은 검증 점수의 매개변수 조합을 선택한다. 마지막으로 이 매개변수 조합으로 최종 모델을 훈련한다.\n",
        "- **랜덤 서치**: 연속된 매개변수 값을 탐색할 때 유용하다. 탐색할 값을 직접 나열하는 것이 아니고 탐색 값을 샘플링할 수 있는 확률 분포 객체를 전달한다. 지정된 횟수만큼 샘플링하여 교차 검증을 수행하기 때문에 시스템 자원이 허락하는 만큼 탐색량을 조절할 수 있다."
      ],
      "metadata": {
        "id": "Nm_TptyN0mjn"
      }
    },
    {
      "cell_type": "markdown",
      "source": [
        "<hr><br>\n",
        "\n",
        "최적의 모델을 위한 하이퍼파라미터를 탐색하려면 다양한 하이퍼파라미터를 시도해 봐야 한다.<br>\n",
        "이런 과정에서 테스트 세트를 사용하면 결국 테스트 세트에 맞춰 모델을 훈련하는 효과를 만들게 된다.<br>\n"
      ],
      "metadata": {
        "id": "4dAA6T4D1UW5"
      }
    },
    {
      "cell_type": "markdown",
      "source": [
        "테스트 세트는 최종 모델을 선택할 때까지 사용하지 말아야 한다.<br>\n"
      ],
      "metadata": {
        "id": "qzMbAsFb1r8K"
      }
    },
    {
      "cell_type": "markdown",
      "source": [
        "### **검증 세트**(validation set)"
      ],
      "metadata": {
        "id": "VCac_qEg1ytk"
      }
    },
    {
      "cell_type": "markdown",
      "source": [
        "테스트 세트를 사용하지 않고 모델을 평가하려면 또 다른 세트인 **검증 세트**가 필요하다.<br>\n",
        "혹은 개발 세트(dev set)라고도 하는데, 검증 세트는 훈련 세트 중 일부를 다시 덜어내 만든다."
      ],
      "metadata": {
        "id": "1etf-EGz1043"
      }
    },
    {
      "cell_type": "markdown",
      "source": [
        "검증 세트가 추가된 과정을 정리하자면 다음과 같다.\n",
        "1. 훈련 세트에서 모델을 훈련하고 검증 세트로 모델을 평가한다.<br>\n",
        "2. 이런 식으로 테스트하고 싶은 매개변수를 바꿔가며 가장 좋은 모델을 고르고,<br>이 매개변수를 사용해 훈련 세트와 검증 세트를 합쳐 전체 훈련 데이터에서 모델을 다시 훈련한다.<br>\n",
        "3. 그리고 마지막에 테스트 세트에서 최종 점수를 평가한다."
      ],
      "metadata": {
        "id": "6ThPIlJx2TOF"
      }
    },
    {
      "cell_type": "markdown",
      "source": [
        "그럼 검증 세트를 만들어보자. train_test_split() 함수를 2번 적용해서 나눠주면 된다."
      ],
      "metadata": {
        "id": "LUuph11h2lDy"
      }
    },
    {
      "cell_type": "code",
      "execution_count": 2,
      "metadata": {
        "id": "pJS5BAic0YP_"
      },
      "outputs": [],
      "source": [
        "import pandas as pd\n",
        "\n",
        "wine = pd.read_csv('https://bit.ly/wine_csv_data')\n",
        "\n",
        "data = wine[['alcohol', 'sugar', 'pH']].to_numpy()\n",
        "target = wine['class'].to_numpy()"
      ]
    },
    {
      "cell_type": "code",
      "source": [
        "from sklearn.model_selection import train_test_split\n",
        "\n",
        "train_input, test_input, train_target, test_target = train_test_split(data, target, test_size=0.2, random_state=42)"
      ],
      "metadata": {
        "id": "7iCgDyo63EZ4"
      },
      "execution_count": 3,
      "outputs": []
    },
    {
      "cell_type": "code",
      "source": [
        "sub_input, val_input, sub_target, val_target = train_test_split(train_input, train_target, test_size=0.2, random_state=42)"
      ],
      "metadata": {
        "id": "L7ls8k3p3Z5W"
      },
      "execution_count": 4,
      "outputs": []
    },
    {
      "cell_type": "markdown",
      "source": [
        "훈련 세트와 검증 세트의 크기를 확인해보자."
      ],
      "metadata": {
        "id": "ScsGT4Qp3QqH"
      }
    },
    {
      "cell_type": "code",
      "source": [
        "print(sub_input.shape, val_input.shape)"
      ],
      "metadata": {
        "colab": {
          "base_uri": "https://localhost:8080/"
        },
        "id": "wx4TczBy3uQv",
        "outputId": "b37ea197-b538-4a6b-d8e6-f709a01157b8"
      },
      "execution_count": 5,
      "outputs": [
        {
          "output_type": "stream",
          "name": "stdout",
          "text": [
            "(4157, 3) (1040, 3)\n"
          ]
        }
      ]
    },
    {
      "cell_type": "markdown",
      "source": [
        "이제 sub_input, val_input, sub_target, val_target을 사용해 모델을 만들고 평가해볼 것이다."
      ],
      "metadata": {
        "id": "zrbtQS2Z3zyh"
      }
    },
    {
      "cell_type": "code",
      "source": [
        "from sklearn.tree import DecisionTreeClassifier\n",
        "\n",
        "dt = DecisionTreeClassifier(random_state=42)\n",
        "dt.fit(sub_input, sub_target)\n",
        "print(dt.score(sub_input, sub_target))\n",
        "print(dt.score(val_input, val_target))"
      ],
      "metadata": {
        "colab": {
          "base_uri": "https://localhost:8080/"
        },
        "id": "9x_t7oTk36Er",
        "outputId": "8318e306-c50f-4d2e-a8f8-5aa4101a7e98"
      },
      "execution_count": 6,
      "outputs": [
        {
          "output_type": "stream",
          "name": "stdout",
          "text": [
            "0.9971133028626413\n",
            "0.864423076923077\n"
          ]
        }
      ]
    },
    {
      "cell_type": "markdown",
      "source": [
        "훈련 세트에 과대적합된 것을 알 수 있다. 매개변수를 바꿔서 더 좋은 모델을 찾아야 할 것이다."
      ],
      "metadata": {
        "id": "EdNEM34l4Muo"
      }
    },
    {
      "cell_type": "markdown",
      "source": [
        "<br><hr><br>\n",
        "\n",
        "### **교차 검증**(cross validation)"
      ],
      "metadata": {
        "id": "32d4wraa4T9f"
      }
    },
    {
      "cell_type": "markdown",
      "source": [
        "검증 세트가 크지 않다면 어떻게 데이터를 나눴는지에 따라 검증 점수가 들쭉날쭉하고 불안정할 것이다.<br>\n",
        "**교차 검증**을 하면 안정적인 검증 점수를 얻고, 훈련에 더 많은 데이터를 사용할 수 있다."
      ],
      "metadata": {
        "id": "hdaZ5sbP4YqQ"
      }
    },
    {
      "cell_type": "markdown",
      "source": [
        "교차 검증은 검증 세트를 떼어 내어 평가하는 과정을 여러 번 반복한 뒤, 이 점수를 평균하여 최종 검증 점수를 얻는다.<br>\n"
      ],
      "metadata": {
        "id": "9la_WYqs5APA"
      }
    },
    {
      "cell_type": "markdown",
      "source": [
        "보통 훈련 세트를 5등분 혹은 10등분 하는데, 나누어진 한 덩어리를 **폴드**라고 한다.<br>\n",
        "한 폴드씩 돌아가면서 검증 세트의 역할을 한다. 따라서 전체적으로 5개 혹은 10개의 모델을 만든다."
      ],
      "metadata": {
        "id": "uDtG1k7e5M3H"
      }
    },
    {
      "cell_type": "markdown",
      "source": [
        "사이킷런의 `cross_validate()`라는 교차 검증 함수를 사용해보자."
      ],
      "metadata": {
        "id": "DbNXwfUN5YEH"
      }
    },
    {
      "cell_type": "code",
      "source": [
        "from sklearn.model_selection import cross_validate\n",
        "\n",
        "scores = cross_validate(dt, train_input, train_target)\n",
        "# scores = cross_val_score(dt, train_input, train_target) ~> test_score만 반환함\n",
        "print(scores)"
      ],
      "metadata": {
        "colab": {
          "base_uri": "https://localhost:8080/"
        },
        "id": "oqhTmbqY5fJo",
        "outputId": "9987a676-3ca2-4abc-a6e2-b34302ca02f7"
      },
      "execution_count": 7,
      "outputs": [
        {
          "output_type": "stream",
          "name": "stdout",
          "text": [
            "{'fit_time': array([0.02448511, 0.0245347 , 0.02514529, 0.01461244, 0.0104444 ]), 'score_time': array([0.00128889, 0.00114799, 0.00112033, 0.00119162, 0.00118232]), 'test_score': array([0.86923077, 0.84615385, 0.87680462, 0.84889317, 0.83541867])}\n"
          ]
        }
      ]
    },
    {
      "cell_type": "markdown",
      "source": [
        "fit_time 키는 모델을 훈련하는 시간, score_time 키는 모델을 검증하는 시간을 의미하며, 각 키마다 5개의 숫자가 담겨있다. <br>\n",
        "cross_validate()는 기본적으로 5-폴드 교차 검증을 수행하기 때문이다. 폴드 수는 cv 매개변수로 지정할 수 있다."
      ],
      "metadata": {
        "id": "Mo5tSdI5528w"
      }
    },
    {
      "cell_type": "markdown",
      "source": [
        "교차 검증의 최종 점수는 test_score 키에 담긴 5개의 점수를 평균하여 얻을 수 있다.<br>\n",
        "이름은 test_score지만 검증 폴드의 점수임을 유의하자."
      ],
      "metadata": {
        "id": "gX9XCwve6KUa"
      }
    },
    {
      "cell_type": "code",
      "source": [
        "import numpy as np\n",
        "\n",
        "print(np.mean(scores['test_score']))"
      ],
      "metadata": {
        "colab": {
          "base_uri": "https://localhost:8080/"
        },
        "id": "roJorSVn6Ubd",
        "outputId": "8aa63544-0a39-424a-e746-d46dc51772f0"
      },
      "execution_count": 8,
      "outputs": [
        {
          "output_type": "stream",
          "name": "stdout",
          "text": [
            "0.855300214703487\n"
          ]
        }
      ]
    },
    {
      "cell_type": "markdown",
      "source": [
        "한 가지 주의할 점은 cross_validate()는 폴드를 나눌 때 훈련 세트를 섞지 않는다.<br>\n",
        "우리는 앞서 train_test_split() 함수로 전체 데이터를 섞은 후 훈련 세트를 준비했기 때문에 따로 섞을 필요가 없었지만, <br>만약 교차 검증을 할 때 훈련 세트를 섞으려면 **분할기**(splitter)를 지정해야 한다."
      ],
      "metadata": {
        "id": "Li8yOhKr6sPf"
      }
    },
    {
      "cell_type": "markdown",
      "source": [
        "cross_validate()는 기본적으로 \n",
        "- 회귀모델일 경우 KFold 분할기를 사용하고,\n",
        "- 분류모델일 경우 StratifiedKFold 분할기를 사용한다."
      ],
      "metadata": {
        "id": "uHKFgX2f7AE3"
      }
    },
    {
      "cell_type": "markdown",
      "source": [
        "앞서 수행한 교차 검증은 다음 코드와 동일하다."
      ],
      "metadata": {
        "id": "qVe3vcGI7TEk"
      }
    },
    {
      "cell_type": "code",
      "source": [
        "from sklearn.model_selection import StratifiedKFold\n",
        "\n",
        "scores = cross_validate(dt, train_input, train_target, cv=StratifiedKFold())\n",
        "print(np.mean(scores['test_score']))"
      ],
      "metadata": {
        "colab": {
          "base_uri": "https://localhost:8080/"
        },
        "id": "KVo-N5bc7Yc-",
        "outputId": "54182e2f-dbb3-4f9d-e036-8d36ff6b488d"
      },
      "execution_count": 9,
      "outputs": [
        {
          "output_type": "stream",
          "name": "stdout",
          "text": [
            "0.855300214703487\n"
          ]
        }
      ]
    },
    {
      "cell_type": "markdown",
      "source": [
        "만약 훈련 세트를 섞은 후 10-폴드 교차 검증을 수행하려면 다음과 같이 작성한다."
      ],
      "metadata": {
        "id": "Sj_cwAki7m54"
      }
    },
    {
      "cell_type": "code",
      "source": [
        "splitter = StratifiedKFold(n_splits=10, shuffle=True, random_state=42)\n",
        "scores = cross_validate(dt, train_input, train_target, cv=splitter)\n",
        "print(np.mean(scores['test_score']))"
      ],
      "metadata": {
        "colab": {
          "base_uri": "https://localhost:8080/"
        },
        "id": "8T85BZHP7qVp",
        "outputId": "316703e8-57de-48e7-acff-7b1cd34331f0"
      },
      "execution_count": 10,
      "outputs": [
        {
          "output_type": "stream",
          "name": "stdout",
          "text": [
            "0.8574181117533719\n"
          ]
        }
      ]
    },
    {
      "cell_type": "markdown",
      "source": [
        "<br><hr><br>\n",
        "\n",
        "### **하이퍼파라미터 튜닝**"
      ],
      "metadata": {
        "id": "aM_v6FoA79gx"
      }
    },
    {
      "cell_type": "markdown",
      "source": [
        "+) **하이퍼파라미터**는 사용자 지정 파라미터이다."
      ],
      "metadata": {
        "id": "594ebDld8BK6"
      }
    },
    {
      "cell_type": "markdown",
      "source": [
        "교차 검증을 사용해 다양한 하이퍼파라미터를 탐색한다. 머신러닝 라이브러리에서는 클래스와 메서드의 매개변수를 바꾸어 모델을 훈련하고 평가해보는 작업이다.<br>\n",
        "\n",
        "사이킷런의 **그리드 서치**를 사용하면 테스트하고 싶은 매개변수 리스트를 만들어 위 과정을 자동화할 수 있다."
      ],
      "metadata": {
        "id": "cSggTTCs8NYI"
      }
    },
    {
      "cell_type": "markdown",
      "source": [
        "#### **그리드 서치**"
      ],
      "metadata": {
        "id": "5ASTRxE8x3pv"
      }
    },
    {
      "cell_type": "markdown",
      "source": [
        "사이킷런의 `GridSearchCV` 클래스는 하이퍼파라미터 탐색과 교차 검증을 한 번에 수행한다. 별도로 cross_validate() 함수를 호출할 필요가 없다."
      ],
      "metadata": {
        "id": "Me4pt__itUev"
      }
    },
    {
      "cell_type": "markdown",
      "source": [
        "<br>\n",
        "\n",
        "기본 매개변수를 사용한 결정 트리 모델에서 min_impurity_decrease 매개변수의 최적값을 찾아볼 것이다.<br>\n",
        "먼저 GridSearchCV 클래스를 임포트하고 탐색할 매개변수와 탐색할 값의 리스트를 딕셔너리로 만든다."
      ],
      "metadata": {
        "id": "4wom3dFOuQfP"
      }
    },
    {
      "cell_type": "code",
      "source": [
        "from sklearn.model_selection import GridSearchCV\n",
        "\n",
        "params = {'min_impurity_decrease': [0.0001, 0.0002, 0.0003, 0.0004, 0.0005]}"
      ],
      "metadata": {
        "id": "oYE7mzmRt1Ef"
      },
      "execution_count": 13,
      "outputs": []
    },
    {
      "cell_type": "markdown",
      "source": [
        "GridSearchCV 클래스에 탐색 대상 모델과 params 변수를 전달하여 그리드 서치 객체를 만든다."
      ],
      "metadata": {
        "id": "ZVHMhSdOuqku"
      }
    },
    {
      "cell_type": "code",
      "source": [
        "gs = GridSearchCV(DecisionTreeClassifier(random_state=42), params, n_jobs=-1)"
      ],
      "metadata": {
        "id": "lVDvmGo6vKcW"
      },
      "execution_count": 15,
      "outputs": []
    },
    {
      "cell_type": "markdown",
      "source": [
        "gs 객체에 fit() 메서드를 호출한다. <br>\n",
        "이 메서드를 호출하면 그리드 서치 객체는 결정 트리 모델 min_impurity_decrease 값을 바꿔가며 총 5번 실행한다."
      ],
      "metadata": {
        "id": "jXbo9_1FvT2E"
      }
    },
    {
      "cell_type": "markdown",
      "source": [
        "- GridSearchCV의 cv 매개변수 기본값은 5이고, min_impurity_decrease 값마다 5-폴드 교차 검증을 수행하므로 5*5=25개의 모델을 훈련한다.\n",
        "- n_jobs에서는 병렬 실행에 사용할 CPU 코어 수를 지정한다. 기본값은 1이며, -1로 지정하면 시스템에 있는 모든 코어를 사용한다."
      ],
      "metadata": {
        "id": "ioAACOn2vm_F"
      }
    },
    {
      "cell_type": "code",
      "source": [
        "gs.fit(train_input, train_target)"
      ],
      "metadata": {
        "colab": {
          "base_uri": "https://localhost:8080/"
        },
        "id": "eObn1GKzwBdf",
        "outputId": "98a9ce60-3f6a-4bcf-9720-11dacb0712a7"
      },
      "execution_count": 16,
      "outputs": [
        {
          "output_type": "execute_result",
          "data": {
            "text/plain": [
              "GridSearchCV(estimator=DecisionTreeClassifier(random_state=42), n_jobs=-1,\n",
              "             param_grid={'min_impurity_decrease': [0.0001, 0.0002, 0.0003,\n",
              "                                                   0.0004, 0.0005]})"
            ]
          },
          "metadata": {},
          "execution_count": 16
        }
      ]
    },
    {
      "cell_type": "markdown",
      "source": [
        "사이킷런의 그리드 서치는 훈련이 끝나면 25개의 모델 중<br>\n",
        "검증 점수가 가장 높은 모델의 매개변수 조합으로 전체 훈련 세트에서 자동으로 다시 모델을 훈련한다.<br>\n",
        "이 모델은 gs 객체의 `best_estimator_`속성에 저장되어 있다."
      ],
      "metadata": {
        "id": "i9P74ESnwTXX"
      }
    },
    {
      "cell_type": "code",
      "source": [
        "dt = gs.best_estimator_\n",
        "print(dt.score(train_input, train_target))"
      ],
      "metadata": {
        "colab": {
          "base_uri": "https://localhost:8080/"
        },
        "id": "rxQB8uoJwghV",
        "outputId": "3379b639-6eed-436d-b2d3-b92468968b33"
      },
      "execution_count": 17,
      "outputs": [
        {
          "output_type": "stream",
          "name": "stdout",
          "text": [
            "0.9615162593804117\n"
          ]
        }
      ]
    },
    {
      "cell_type": "markdown",
      "source": [
        "그리드 서치로 찾은 최적의 매개변수는 `best_params_` 속성에 저장되어 있다."
      ],
      "metadata": {
        "id": "n2Z9_0LUwqvV"
      }
    },
    {
      "cell_type": "code",
      "source": [
        "print(gs.best_params_)"
      ],
      "metadata": {
        "colab": {
          "base_uri": "https://localhost:8080/"
        },
        "id": "cjtuqhEGwy19",
        "outputId": "eee5e0f1-c937-4a16-e3e6-3e6e9321e606"
      },
      "execution_count": 18,
      "outputs": [
        {
          "output_type": "stream",
          "name": "stdout",
          "text": [
            "{'min_impurity_decrease': 0.0001}\n"
          ]
        }
      ]
    },
    {
      "cell_type": "markdown",
      "source": [
        "각 매개변수에서 수행한 교차 검증의 평균 점수는 `cv_results_` 속성의 `mean_test_score`키에 저장되어 있다. <br>\n",
        "5번의 교차 검증으로 얻은 점수를 출력해보자."
      ],
      "metadata": {
        "id": "J6pqd4xxw2P-"
      }
    },
    {
      "cell_type": "code",
      "source": [
        "print(gs.cv_results_['mean_test_score'])"
      ],
      "metadata": {
        "colab": {
          "base_uri": "https://localhost:8080/"
        },
        "id": "9hGLqfUexCDi",
        "outputId": "bcc0ec82-27e8-4533-dc79-428ba8e3c467"
      },
      "execution_count": 20,
      "outputs": [
        {
          "output_type": "stream",
          "name": "stdout",
          "text": [
            "[0.86819297 0.86453617 0.86492226 0.86780891 0.86761605]\n"
          ]
        }
      ]
    },
    {
      "cell_type": "markdown",
      "source": [
        "넘파이 `argmax()`함수를 사용하면 가장 큰 값의 인덱스를 추출할 수 있다.<br>\n",
        "이 인덱스를 사용해 `params` 키에 저장된 매개변수를 출력할 수 있다. 이 값이 최상의 검증 점수를 만든 매개변수 조합이다.<br>\n",
        "앞서 출력한 gs.best_params와 동일한지 확인해보자."
      ],
      "metadata": {
        "id": "_So0M_5nxLm4"
      }
    },
    {
      "cell_type": "code",
      "source": [
        "best_index = np.argmax(gs.cv_results_['mean_test_score'])\n",
        "print(gs.cv_results_['params'][best_index])"
      ],
      "metadata": {
        "colab": {
          "base_uri": "https://localhost:8080/"
        },
        "id": "UGAyFnbWxcNF",
        "outputId": "f5430c5c-928f-4ab6-d4f1-f5169cdf3f77"
      },
      "execution_count": 21,
      "outputs": [
        {
          "output_type": "stream",
          "name": "stdout",
          "text": [
            "{'min_impurity_decrease': 0.0001}\n"
          ]
        }
      ]
    },
    {
      "cell_type": "markdown",
      "source": [
        "그럼 이 과정들을 정리해보자.\n",
        "1. 먼저 탐색할 매개변수를 지정한다.\n",
        "2. 그다음 훈련 세트에서 그리드 서치를 수행하여 최상의 평균 검증 점수가 나오는 매개변수 조합을 찾는다. <br> 이 조합은 그리드 서치 객체에 저장된다.\n",
        "3. 그리드 서치는 최상의 매개변수에서 전체 훈련 세트를 사용해 최종 모델을 훈련한다. 이 모델도 그리드 서치 객체에 저장된다."
      ],
      "metadata": {
        "id": "aeqa4gt7xnYy"
      }
    },
    {
      "cell_type": "markdown",
      "source": [
        "조금 더 복잡한 매개변수 조합을 탐색해보자.\n",
        "- min_impurity_decrease: 노드를 분할하기 위한 불순도 감소 최소량\n",
        "- max_depth: 트리 깊이 제한\n",
        "- min_samples_split: 노드를 나누기 위한 최소 샘플 수"
      ],
      "metadata": {
        "id": "bFh-UHXgyCzQ"
      }
    },
    {
      "cell_type": "code",
      "source": [
        "params = {'min_impurity_decrease': np.arange(0.0001, 0.001, 0.0001),\n",
        "          'max_depth': range(5, 20, 1),\n",
        "          'min_samples_split': range(2, 100, 10)}"
      ],
      "metadata": {
        "id": "dCGESenIyUy-"
      },
      "execution_count": 27,
      "outputs": []
    },
    {
      "cell_type": "markdown",
      "source": [
        "이 매개변수로 수행할 교차 검증 횟수는 9 * 15 * 10 = 1,350개이다.<br>\n",
        "기본 5-폴드 교차검증을 수행하므로 만들어지는 모델의 수는 6,750개가 된다."
      ],
      "metadata": {
        "id": "P6iPKMiByj-F"
      }
    },
    {
      "cell_type": "code",
      "source": [
        "gs = GridSearchCV(DecisionTreeClassifier(random_state=42), params, n_jobs=-1)\n",
        "gs.fit(train_input, train_target)"
      ],
      "metadata": {
        "colab": {
          "base_uri": "https://localhost:8080/"
        },
        "id": "aO_n2SJ3yvpe",
        "outputId": "164f27b5-32e0-4551-b9b8-e06b9c60a75a"
      },
      "execution_count": 28,
      "outputs": [
        {
          "output_type": "execute_result",
          "data": {
            "text/plain": [
              "GridSearchCV(estimator=DecisionTreeClassifier(random_state=42), n_jobs=-1,\n",
              "             param_grid={'max_depth': range(5, 20),\n",
              "                         'min_impurity_decrease': array([0.0001, 0.0002, 0.0003, 0.0004, 0.0005, 0.0006, 0.0007, 0.0008,\n",
              "       0.0009]),\n",
              "                         'min_samples_split': range(2, 100, 10)})"
            ]
          },
          "metadata": {},
          "execution_count": 28
        }
      ]
    },
    {
      "cell_type": "markdown",
      "source": [
        "최상의 매개변수 조합을 확인해보자."
      ],
      "metadata": {
        "id": "zw0eRybvy6wV"
      }
    },
    {
      "cell_type": "code",
      "source": [
        "print(gs.best_params_)"
      ],
      "metadata": {
        "colab": {
          "base_uri": "https://localhost:8080/"
        },
        "id": "k_pzVZemy8qd",
        "outputId": "4ff1d59d-45c1-4298-b553-282f9b8b1018"
      },
      "execution_count": 29,
      "outputs": [
        {
          "output_type": "stream",
          "name": "stdout",
          "text": [
            "{'max_depth': 14, 'min_impurity_decrease': 0.0004, 'min_samples_split': 12}\n"
          ]
        }
      ]
    },
    {
      "cell_type": "markdown",
      "source": [
        "최상의 교차 검증 점수도 확인해보자."
      ],
      "metadata": {
        "id": "oS79dBh9y_c2"
      }
    },
    {
      "cell_type": "code",
      "source": [
        "print(np.max(gs.cv_results_['mean_test_score']))"
      ],
      "metadata": {
        "colab": {
          "base_uri": "https://localhost:8080/"
        },
        "id": "T9PGJgp6zSIN",
        "outputId": "7a1f6467-e7a1-4ec7-c889-7cc5fc66da27"
      },
      "execution_count": 30,
      "outputs": [
        {
          "output_type": "stream",
          "name": "stdout",
          "text": [
            "0.8683865773302731\n"
          ]
        }
      ]
    },
    {
      "cell_type": "markdown",
      "source": [
        "<br><hr><br>\n",
        "\n",
        "#### **랜덤 서치**"
      ],
      "metadata": {
        "id": "IjOP5U1Azcxs"
      }
    },
    {
      "cell_type": "markdown",
      "source": [
        "매개변수 값이 수치형이고 특히 연속적인 실숫값이라면 **랜덤 서치**를 사용하는 게 좋다.<br>\n",
        "**랜덤 서치**에서는 매개변수를 샘플링할 수 있는 싸이파이의 확률 분포 객체를 전달하여 특정 범위 내에서 지정된 횟수만큼 <br>매개변수 후보 값을 샘플링하여 교차 검증을 시도할 수 있다.<br><br>\n",
        "한정된 자원을 최대한 활용하여 효율적으로 하이퍼파라미터 공간을 탐색할 수 있다는 장점이 있다."
      ],
      "metadata": {
        "id": "vuIv6-WYzf2l"
      }
    },
    {
      "cell_type": "markdown",
      "source": [
        "싸이파이의 stats 서브 패키지에 있는 uniform과 randint 클래스는 모두 주어진 범위에서 고르게 값을 뽑는데, <br>\n",
        "'이를 균등 분포에서 샘플링한다'고 한다.<br>\n",
        "uniform은 실숫값을, randint는 정숫값을 뽑는다.\n"
      ],
      "metadata": {
        "id": "vYinbsPe0VcZ"
      }
    },
    {
      "cell_type": "markdown",
      "source": [
        "0에서 10 사이의 범위를 갖는 randint 객체를 만들고 10개의 숫자를 샘플링 해볼 것이다."
      ],
      "metadata": {
        "id": "PN-Q1ypY0tKF"
      }
    },
    {
      "cell_type": "code",
      "source": [
        "from scipy.stats import uniform, randint\n",
        "\n",
        "rgen = randint(0, 10)\n",
        "rgen.rvs(10)"
      ],
      "metadata": {
        "colab": {
          "base_uri": "https://localhost:8080/"
        },
        "id": "BG-Nwptq0KmG",
        "outputId": "7b490c1f-1c0c-44b2-be34-07c361ba9d94"
      },
      "execution_count": 31,
      "outputs": [
        {
          "output_type": "execute_result",
          "data": {
            "text/plain": [
              "array([8, 3, 7, 0, 0, 3, 0, 1, 4, 6])"
            ]
          },
          "metadata": {},
          "execution_count": 31
        }
      ]
    },
    {
      "cell_type": "markdown",
      "source": [
        "10개밖에 되지 않기 때문에 고르게 샘플링되는 것 같지 않지만 샘플링 숫자를 늘리면 쉽게 확인할 수 있다.<br>\n",
        "1,000개를 샘플링 하여 각 숫자의 개수를 세어보자."
      ],
      "metadata": {
        "id": "NOzTjnBw064l"
      }
    },
    {
      "cell_type": "code",
      "source": [
        "np.unique(rgen.rvs(1000), return_counts=True)"
      ],
      "metadata": {
        "colab": {
          "base_uri": "https://localhost:8080/"
        },
        "id": "AoZMXJF01Gw9",
        "outputId": "d69b311c-d5f7-4e96-f1e5-1fc414f528ff"
      },
      "execution_count": 32,
      "outputs": [
        {
          "output_type": "execute_result",
          "data": {
            "text/plain": [
              "(array([0, 1, 2, 3, 4, 5, 6, 7, 8, 9]),\n",
              " array([102,  96, 114,  95,  97, 102, 109,  87,  95, 103]))"
            ]
          },
          "metadata": {},
          "execution_count": 32
        }
      ]
    },
    {
      "cell_type": "markdown",
      "source": [
        "샘플링 수가 늘어나니 0~9 숫자가 어느 정도 고르게 추출된 것을 확인할 수 있다.<br>\n",
        "\n",
        "uniform 클래스의 사용법도 동일하다."
      ],
      "metadata": {
        "id": "xNxW1PXQ1PPe"
      }
    },
    {
      "cell_type": "code",
      "source": [
        "ugen = uniform(0, 1)\n",
        "ugen.rvs(10)"
      ],
      "metadata": {
        "colab": {
          "base_uri": "https://localhost:8080/"
        },
        "id": "nR1ktRKW1ZWP",
        "outputId": "1d46c4db-fe3c-4deb-d4f9-75239454e96f"
      },
      "execution_count": 33,
      "outputs": [
        {
          "output_type": "execute_result",
          "data": {
            "text/plain": [
              "array([0.84834399, 0.8642586 , 0.56732626, 0.66982158, 0.52838872,\n",
              "       0.87910371, 0.02586952, 0.52061102, 0.02026802, 0.9025909 ])"
            ]
          },
          "metadata": {},
          "execution_count": 33
        }
      ]
    },
    {
      "cell_type": "markdown",
      "source": [
        "그럼 이제 탐색할 매개변수의 딕셔너리를 만들어 볼 것이다.<br>\n",
        "여기에서는 리프 노드가 되기 위한 최소 샘플의 개수인 `min_samples_leaf` 매개변수를 탐색 대상에 추가한다. <br>\n",
        "어떤 노드가 분할하여 만들어질 자식 노드의 샘플 수가 이 값보다 작을 경우 분할하지 않는다."
      ],
      "metadata": {
        "id": "RWtmQhDY1gNn"
      }
    },
    {
      "cell_type": "code",
      "source": [
        "params = {'min_impurity_decrease': uniform(0.0001, 0.001),\n",
        "          'max_depth': randint(20, 50),\n",
        "          'min_samples_split': randint(2, 25),\n",
        "          'min_samples_leaf': randint(1, 25)}"
      ],
      "metadata": {
        "id": "VU8vOrtT1xLV"
      },
      "execution_count": 34,
      "outputs": []
    },
    {
      "cell_type": "markdown",
      "source": [
        "샘플링 횟수는 사이킷런의 랜ㄷ넘 서치 클래스인 `RandomizedSearchCV`의 `n_iter` 매개변수에 지정한다."
      ],
      "metadata": {
        "id": "2OAp0s3n2E4N"
      }
    },
    {
      "cell_type": "code",
      "source": [
        "from sklearn.model_selection import RandomizedSearchCV\n",
        "\n",
        "gs = RandomizedSearchCV(DecisionTreeClassifier(random_state=42), params, n_iter=100, n_jobs=-1, random_state=42)\n",
        "gs.fit(train_input, train_target)"
      ],
      "metadata": {
        "colab": {
          "base_uri": "https://localhost:8080/"
        },
        "id": "U7qZ-N0c2MB4",
        "outputId": "80e1312d-bc9f-4bb3-cadf-a144e46d6b6c"
      },
      "execution_count": 35,
      "outputs": [
        {
          "output_type": "execute_result",
          "data": {
            "text/plain": [
              "RandomizedSearchCV(estimator=DecisionTreeClassifier(random_state=42),\n",
              "                   n_iter=100, n_jobs=-1,\n",
              "                   param_distributions={'max_depth': <scipy.stats._distn_infrastructure.rv_frozen object at 0x7f1d318e4d90>,\n",
              "                                        'min_impurity_decrease': <scipy.stats._distn_infrastructure.rv_frozen object at 0x7f1d31578f50>,\n",
              "                                        'min_samples_leaf': <scipy.stats._distn_infrastructure.rv_frozen object at 0x7f1d318e4ad0>,\n",
              "                                        'min_samples_split': <scipy.stats._distn_infrastructure.rv_frozen object at 0x7f1d318e4690>},\n",
              "                   random_state=42)"
            ]
          },
          "metadata": {},
          "execution_count": 35
        }
      ]
    },
    {
      "cell_type": "markdown",
      "source": [
        "최적의 매개변수 조합을 출력해보자."
      ],
      "metadata": {
        "id": "pHwD_t_-2jIv"
      }
    },
    {
      "cell_type": "code",
      "source": [
        "print(gs.best_params_)"
      ],
      "metadata": {
        "colab": {
          "base_uri": "https://localhost:8080/"
        },
        "id": "IwoY07mt2mMZ",
        "outputId": "28b4faf5-656b-4ce2-bf62-38da855c0edd"
      },
      "execution_count": 36,
      "outputs": [
        {
          "output_type": "stream",
          "name": "stdout",
          "text": [
            "{'max_depth': 39, 'min_impurity_decrease': 0.00034102546602601173, 'min_samples_leaf': 7, 'min_samples_split': 13}\n"
          ]
        }
      ]
    },
    {
      "cell_type": "markdown",
      "source": [
        "최고의 교차 검증 점수도 확인해보자."
      ],
      "metadata": {
        "id": "oQcjbzRS2p-k"
      }
    },
    {
      "cell_type": "code",
      "source": [
        "print(np.max(gs.cv_results_['mean_test_score']))"
      ],
      "metadata": {
        "colab": {
          "base_uri": "https://localhost:8080/"
        },
        "id": "V_rkkPMv2sNd",
        "outputId": "e16263fb-8dc5-46ca-a478-90c7d9e92117"
      },
      "execution_count": 37,
      "outputs": [
        {
          "output_type": "stream",
          "name": "stdout",
          "text": [
            "0.8695428296438884\n"
          ]
        }
      ]
    },
    {
      "cell_type": "markdown",
      "source": [
        "최적의 모델을 최종 모델로 결정하고 테스트 세트의 성능을 확인해보자."
      ],
      "metadata": {
        "id": "QFGSFDg_2zKO"
      }
    },
    {
      "cell_type": "code",
      "source": [
        "dt = gs.best_estimator_\n",
        "print(dt.score(test_input, test_target))"
      ],
      "metadata": {
        "colab": {
          "base_uri": "https://localhost:8080/"
        },
        "id": "kvfqkIab25Yv",
        "outputId": "b816e8df-ee57-4ca0-888f-9b585adcb3e6"
      },
      "execution_count": 38,
      "outputs": [
        {
          "output_type": "stream",
          "name": "stdout",
          "text": [
            "0.86\n"
          ]
        }
      ]
    },
    {
      "cell_type": "markdown",
      "source": [
        "테스트 세트 점수는 검증 세트 점수보다 조금 작은 것이 일반적이다."
      ],
      "metadata": {
        "id": "a-sqxguI3AvN"
      }
    }
  ]
}