{
  "nbformat": 4,
  "nbformat_minor": 0,
  "metadata": {
    "colab": {
      "name": "09_03_LSTM과GRU셀.ipynb",
      "provenance": [],
      "collapsed_sections": []
    },
    "kernelspec": {
      "name": "python3",
      "display_name": "Python 3"
    },
    "language_info": {
      "name": "python"
    },
    "accelerator": "GPU",
    "gpuClass": "standard"
  },
  "cells": [
    {
      "cell_type": "markdown",
      "source": [
        "## **09-3) LSTM과 GRU 셀**"
      ],
      "metadata": {
        "id": "hhB4Yu8TZrEX"
      }
    },
    {
      "cell_type": "markdown",
      "source": [
        "순환 신경망에서 빼놓을 수 없는 핵심 기술인 LSTM과 GRU 셀을 사용한 모델을 만든다."
      ],
      "metadata": {
        "id": "VKI82-LFZ0pr"
      }
    },
    {
      "cell_type": "markdown",
      "source": [
        "#### **용어 정리**\n",
        "- **LSTM 셀**: 타임스텝이 긴 데이터를 효과적으로 학습하기 위해 고안된 순환층. 입력 게이트, 삭제 게이트, 출력 게이트 역할을 하는 작은 셀이 포함되어 있다.\n",
        "- **셀 상태**: LSTM 셀은 은닉 상태 외에 셀 상태를 출력하는데, 셀 상태는 다음 층으로 전달되지 않으며 현제 셀에서만 순환된다.\n",
        "- **GRU 셀**: LSTM 셀의 간소화 버전으로 생각할 수 있지만 LSTM 셀에 못지않는 성능을 낸다."
      ],
      "metadata": {
        "id": "ai7kaP9eZ-wM"
      }
    },
    {
      "cell_type": "markdown",
      "source": [
        "<br><hr><br>\n",
        "\n",
        "### **LSTM 신경망 훈련하기**"
      ],
      "metadata": {
        "id": "kopdxSXYahLT"
      }
    },
    {
      "cell_type": "code",
      "source": [
        "# IMDB 리뷰 데이터 로드하고 훈련 세트와 검정세트로 나누기\n",
        "from tensorflow.keras.datasets import imdb\n",
        "from sklearn.model_selection import train_test_split\n",
        "\n",
        "(train_input, train_target), (test_input, test_target) = imdb.load_data(num_words=500)\n",
        "train_input, val_input, train_target, val_target = train_test_split(train_input, train_target, test_size=0.2, random_state=42)"
      ],
      "metadata": {
        "colab": {
          "base_uri": "https://localhost:8080/"
        },
        "id": "8Kh1kJjgaqmA",
        "outputId": "c3d22f1a-b93c-4646-8224-c4c1ec463c99"
      },
      "execution_count": 2,
      "outputs": [
        {
          "output_type": "stream",
          "name": "stdout",
          "text": [
            "Downloading data from https://storage.googleapis.com/tensorflow/tf-keras-datasets/imdb.npz\n",
            "17465344/17464789 [==============================] - 0s 0us/step\n",
            "17473536/17464789 [==============================] - 0s 0us/step\n"
          ]
        }
      ]
    },
    {
      "cell_type": "code",
      "execution_count": 4,
      "metadata": {
        "id": "Eusd9JmbZOSJ"
      },
      "outputs": [],
      "source": [
        "# 각 샘플의 길이 100으로 맞추고 부족할 경우 패딩 추가\n",
        "from tensorflow.keras.preprocessing.sequence import pad_sequences\n",
        "\n",
        "train_seq = pad_sequences(train_input, maxlen=100)\n",
        "val_seq = pad_sequences(val_input, maxlen=100)"
      ]
    },
    {
      "cell_type": "code",
      "source": [
        "# LSTM 셀을 사용한 순환층 만들기\n",
        "from tensorflow import keras\n",
        "\n",
        "model = keras.Sequential()\n",
        "model.add(keras.layers.Embedding(500, 16, input_length=100))\n",
        "model.add(keras.layers.LSTM(8))\n",
        "model.add(keras.layers.Dense(1, activation='sigmoid'))"
      ],
      "metadata": {
        "id": "eMpMxCdAbn38"
      },
      "execution_count": 6,
      "outputs": []
    },
    {
      "cell_type": "code",
      "source": [
        "# 모델 구조 출력\n",
        "model.summary()"
      ],
      "metadata": {
        "colab": {
          "base_uri": "https://localhost:8080/"
        },
        "id": "1icqm4NZcBns",
        "outputId": "ac267d47-3e5f-4ed2-8c6b-494f06041551"
      },
      "execution_count": 7,
      "outputs": [
        {
          "output_type": "stream",
          "name": "stdout",
          "text": [
            "Model: \"sequential_1\"\n",
            "_________________________________________________________________\n",
            " Layer (type)                Output Shape              Param #   \n",
            "=================================================================\n",
            " embedding_1 (Embedding)     (None, 100, 16)           8000      \n",
            "                                                                 \n",
            " lstm_1 (LSTM)               (None, 8)                 800       \n",
            "                                                                 \n",
            " dense (Dense)               (None, 1)                 9         \n",
            "                                                                 \n",
            "=================================================================\n",
            "Total params: 8,809\n",
            "Trainable params: 8,809\n",
            "Non-trainable params: 0\n",
            "_________________________________________________________________\n"
          ]
        }
      ]
    },
    {
      "cell_type": "markdown",
      "source": [
        "LSTM 셀에는 작은 셀이 4개가 있으므로 SimpleRNN 클래스의 모델 파라미터 개수의 4배가 된다. 즉 모델 파라미터의 개수는 800개이다."
      ],
      "metadata": {
        "id": "vxZ3IEqkcEmL"
      }
    },
    {
      "cell_type": "code",
      "source": [
        "# 모델 컴파일 및 훈련\n",
        "rmsprop = keras.optimizers.RMSprop(learning_rate=1e-4)\n",
        "model.compile(optimizer=rmsprop, loss='binary_crossentropy', metrics=['accuracy'])\n",
        "checkpoint_cb = keras.callbacks.ModelCheckpoint('best-lstm-model.h5', save_best_only=True)\n",
        "early_stopping_cb = keras.callbacks.EarlyStopping(patience=3, restore_best_weights=True)\n",
        "history = model.fit(train_seq, train_target, epochs=100, batch_size=64,\n",
        "                    validation_data=(val_seq, val_target),\n",
        "                    callbacks=[checkpoint_cb, early_stopping_cb])"
      ],
      "metadata": {
        "colab": {
          "base_uri": "https://localhost:8080/"
        },
        "id": "Yyv7YC-lcV40",
        "outputId": "16d24fb5-40a2-4a97-88d5-78c00a284e76"
      },
      "execution_count": 8,
      "outputs": [
        {
          "output_type": "stream",
          "name": "stdout",
          "text": [
            "Epoch 1/100\n",
            "313/313 [==============================] - 10s 9ms/step - loss: 0.6924 - accuracy: 0.5398 - val_loss: 0.6912 - val_accuracy: 0.5824\n",
            "Epoch 2/100\n",
            "313/313 [==============================] - 3s 8ms/step - loss: 0.6894 - accuracy: 0.6061 - val_loss: 0.6870 - val_accuracy: 0.6290\n",
            "Epoch 3/100\n",
            "313/313 [==============================] - 3s 8ms/step - loss: 0.6823 - accuracy: 0.6473 - val_loss: 0.6767 - val_accuracy: 0.6530\n",
            "Epoch 4/100\n",
            "313/313 [==============================] - 3s 8ms/step - loss: 0.6571 - accuracy: 0.6772 - val_loss: 0.6224 - val_accuracy: 0.6906\n",
            "Epoch 5/100\n",
            "313/313 [==============================] - 3s 8ms/step - loss: 0.5795 - accuracy: 0.7279 - val_loss: 0.5616 - val_accuracy: 0.7390\n",
            "Epoch 6/100\n",
            "313/313 [==============================] - 3s 8ms/step - loss: 0.5433 - accuracy: 0.7462 - val_loss: 0.5330 - val_accuracy: 0.7572\n",
            "Epoch 7/100\n",
            "313/313 [==============================] - 3s 8ms/step - loss: 0.5185 - accuracy: 0.7627 - val_loss: 0.5127 - val_accuracy: 0.7634\n",
            "Epoch 8/100\n",
            "313/313 [==============================] - 3s 8ms/step - loss: 0.4984 - accuracy: 0.7742 - val_loss: 0.4991 - val_accuracy: 0.7638\n",
            "Epoch 9/100\n",
            "313/313 [==============================] - 3s 8ms/step - loss: 0.4821 - accuracy: 0.7825 - val_loss: 0.4821 - val_accuracy: 0.7800\n",
            "Epoch 10/100\n",
            "313/313 [==============================] - 3s 8ms/step - loss: 0.4682 - accuracy: 0.7898 - val_loss: 0.4723 - val_accuracy: 0.7804\n",
            "Epoch 11/100\n",
            "313/313 [==============================] - 3s 8ms/step - loss: 0.4571 - accuracy: 0.7957 - val_loss: 0.4648 - val_accuracy: 0.7828\n",
            "Epoch 12/100\n",
            "313/313 [==============================] - 2s 8ms/step - loss: 0.4487 - accuracy: 0.7986 - val_loss: 0.4550 - val_accuracy: 0.7878\n",
            "Epoch 13/100\n",
            "313/313 [==============================] - 3s 9ms/step - loss: 0.4425 - accuracy: 0.8021 - val_loss: 0.4517 - val_accuracy: 0.7876\n",
            "Epoch 14/100\n",
            "313/313 [==============================] - 3s 9ms/step - loss: 0.4368 - accuracy: 0.8048 - val_loss: 0.4481 - val_accuracy: 0.7888\n",
            "Epoch 15/100\n",
            "313/313 [==============================] - 3s 8ms/step - loss: 0.4331 - accuracy: 0.8094 - val_loss: 0.4469 - val_accuracy: 0.7934\n",
            "Epoch 16/100\n",
            "313/313 [==============================] - 3s 8ms/step - loss: 0.4299 - accuracy: 0.8085 - val_loss: 0.4441 - val_accuracy: 0.7930\n",
            "Epoch 17/100\n",
            "313/313 [==============================] - 2s 8ms/step - loss: 0.4272 - accuracy: 0.8107 - val_loss: 0.4432 - val_accuracy: 0.7924\n",
            "Epoch 18/100\n",
            "313/313 [==============================] - 3s 8ms/step - loss: 0.4247 - accuracy: 0.8105 - val_loss: 0.4454 - val_accuracy: 0.7928\n",
            "Epoch 19/100\n",
            "313/313 [==============================] - 3s 8ms/step - loss: 0.4230 - accuracy: 0.8128 - val_loss: 0.4444 - val_accuracy: 0.7944\n",
            "Epoch 20/100\n",
            "313/313 [==============================] - 3s 8ms/step - loss: 0.4215 - accuracy: 0.8120 - val_loss: 0.4385 - val_accuracy: 0.7966\n",
            "Epoch 21/100\n",
            "313/313 [==============================] - 3s 8ms/step - loss: 0.4197 - accuracy: 0.8141 - val_loss: 0.4374 - val_accuracy: 0.7988\n",
            "Epoch 22/100\n",
            "313/313 [==============================] - 3s 10ms/step - loss: 0.4186 - accuracy: 0.8133 - val_loss: 0.4416 - val_accuracy: 0.7972\n",
            "Epoch 23/100\n",
            "313/313 [==============================] - 3s 8ms/step - loss: 0.4176 - accuracy: 0.8137 - val_loss: 0.4375 - val_accuracy: 0.7972\n",
            "Epoch 24/100\n",
            "313/313 [==============================] - 3s 8ms/step - loss: 0.4166 - accuracy: 0.8143 - val_loss: 0.4372 - val_accuracy: 0.7976\n",
            "Epoch 25/100\n",
            "313/313 [==============================] - 3s 8ms/step - loss: 0.4154 - accuracy: 0.8149 - val_loss: 0.4353 - val_accuracy: 0.8004\n",
            "Epoch 26/100\n",
            "313/313 [==============================] - 4s 11ms/step - loss: 0.4142 - accuracy: 0.8145 - val_loss: 0.4346 - val_accuracy: 0.7988\n",
            "Epoch 27/100\n",
            "313/313 [==============================] - 3s 8ms/step - loss: 0.4133 - accuracy: 0.8164 - val_loss: 0.4345 - val_accuracy: 0.7996\n",
            "Epoch 28/100\n",
            "313/313 [==============================] - 3s 8ms/step - loss: 0.4125 - accuracy: 0.8163 - val_loss: 0.4363 - val_accuracy: 0.7968\n",
            "Epoch 29/100\n",
            "313/313 [==============================] - 3s 8ms/step - loss: 0.4118 - accuracy: 0.8161 - val_loss: 0.4356 - val_accuracy: 0.7974\n",
            "Epoch 30/100\n",
            "313/313 [==============================] - 3s 8ms/step - loss: 0.4114 - accuracy: 0.8162 - val_loss: 0.4329 - val_accuracy: 0.7998\n",
            "Epoch 31/100\n",
            "313/313 [==============================] - 3s 8ms/step - loss: 0.4106 - accuracy: 0.8185 - val_loss: 0.4316 - val_accuracy: 0.8018\n",
            "Epoch 32/100\n",
            "313/313 [==============================] - 3s 8ms/step - loss: 0.4098 - accuracy: 0.8164 - val_loss: 0.4312 - val_accuracy: 0.8008\n",
            "Epoch 33/100\n",
            "313/313 [==============================] - 3s 8ms/step - loss: 0.4094 - accuracy: 0.8164 - val_loss: 0.4313 - val_accuracy: 0.8024\n",
            "Epoch 34/100\n",
            "313/313 [==============================] - 3s 8ms/step - loss: 0.4086 - accuracy: 0.8170 - val_loss: 0.4328 - val_accuracy: 0.8024\n",
            "Epoch 35/100\n",
            "313/313 [==============================] - 3s 8ms/step - loss: 0.4083 - accuracy: 0.8170 - val_loss: 0.4300 - val_accuracy: 0.8026\n",
            "Epoch 36/100\n",
            "313/313 [==============================] - 3s 8ms/step - loss: 0.4076 - accuracy: 0.8172 - val_loss: 0.4294 - val_accuracy: 0.8028\n",
            "Epoch 37/100\n",
            "313/313 [==============================] - 3s 8ms/step - loss: 0.4068 - accuracy: 0.8163 - val_loss: 0.4301 - val_accuracy: 0.8032\n",
            "Epoch 38/100\n",
            "313/313 [==============================] - 3s 8ms/step - loss: 0.4065 - accuracy: 0.8170 - val_loss: 0.4286 - val_accuracy: 0.8042\n",
            "Epoch 39/100\n",
            "313/313 [==============================] - 3s 10ms/step - loss: 0.4053 - accuracy: 0.8187 - val_loss: 0.4290 - val_accuracy: 0.8034\n",
            "Epoch 40/100\n",
            "313/313 [==============================] - 3s 8ms/step - loss: 0.4052 - accuracy: 0.8184 - val_loss: 0.4291 - val_accuracy: 0.8042\n",
            "Epoch 41/100\n",
            "313/313 [==============================] - 3s 8ms/step - loss: 0.4043 - accuracy: 0.8189 - val_loss: 0.4278 - val_accuracy: 0.8042\n",
            "Epoch 42/100\n",
            "313/313 [==============================] - 3s 8ms/step - loss: 0.4037 - accuracy: 0.8177 - val_loss: 0.4269 - val_accuracy: 0.8064\n",
            "Epoch 43/100\n",
            "313/313 [==============================] - 3s 8ms/step - loss: 0.4027 - accuracy: 0.8199 - val_loss: 0.4303 - val_accuracy: 0.8030\n",
            "Epoch 44/100\n",
            "313/313 [==============================] - 3s 8ms/step - loss: 0.4026 - accuracy: 0.8194 - val_loss: 0.4271 - val_accuracy: 0.8050\n",
            "Epoch 45/100\n",
            "313/313 [==============================] - 3s 8ms/step - loss: 0.4016 - accuracy: 0.8199 - val_loss: 0.4266 - val_accuracy: 0.8052\n",
            "Epoch 46/100\n",
            "313/313 [==============================] - 3s 9ms/step - loss: 0.4012 - accuracy: 0.8213 - val_loss: 0.4281 - val_accuracy: 0.8028\n",
            "Epoch 47/100\n",
            "313/313 [==============================] - 4s 12ms/step - loss: 0.4005 - accuracy: 0.8204 - val_loss: 0.4258 - val_accuracy: 0.8064\n",
            "Epoch 48/100\n",
            "313/313 [==============================] - 4s 14ms/step - loss: 0.4001 - accuracy: 0.8206 - val_loss: 0.4244 - val_accuracy: 0.8046\n",
            "Epoch 49/100\n",
            "313/313 [==============================] - 3s 8ms/step - loss: 0.3996 - accuracy: 0.8213 - val_loss: 0.4239 - val_accuracy: 0.8070\n",
            "Epoch 50/100\n",
            "313/313 [==============================] - 3s 8ms/step - loss: 0.3988 - accuracy: 0.8210 - val_loss: 0.4235 - val_accuracy: 0.8070\n",
            "Epoch 51/100\n",
            "313/313 [==============================] - 3s 8ms/step - loss: 0.3979 - accuracy: 0.8219 - val_loss: 0.4245 - val_accuracy: 0.8066\n",
            "Epoch 52/100\n",
            "313/313 [==============================] - 3s 11ms/step - loss: 0.3973 - accuracy: 0.8207 - val_loss: 0.4268 - val_accuracy: 0.8040\n",
            "Epoch 53/100\n",
            "313/313 [==============================] - 3s 8ms/step - loss: 0.3969 - accuracy: 0.8210 - val_loss: 0.4243 - val_accuracy: 0.8060\n"
          ]
        }
      ]
    },
    {
      "cell_type": "code",
      "source": [
        "import matplotlib.pyplot as plt\n",
        "\n",
        "plt.plot(history.history['loss'])\n",
        "plt.plot(history.history['val_loss'])\n",
        "plt.xlabel('epoch')\n",
        "plt.ylabel('loss')\n",
        "plt.legend(['train', 'val'])\n",
        "plt.show()"
      ],
      "metadata": {
        "colab": {
          "base_uri": "https://localhost:8080/",
          "height": 279
        },
        "id": "a0y5AB-YdNvr",
        "outputId": "005511bc-e0a2-47af-eb2f-b121d3a3e93b"
      },
      "execution_count": 9,
      "outputs": [
        {
          "output_type": "display_data",
          "data": {
            "text/plain": [
              "<Figure size 432x288 with 1 Axes>"
            ],
            "image/png": "[encoded data removed]"
          },
          "metadata": {
            "needs_background": "light"
          }
        }
      ]
    },
    {
      "cell_type": "markdown",
      "source": [
        "기본 순환층보다 LSTM이 과대적합을 억제하면서 훈련을 잘 수행한 것으로 볼 수 있다."
      ],
      "metadata": {
        "id": "6Y7n87KIdOWr"
      }
    },
    {
      "cell_type": "markdown",
      "source": [
        "<br><hr><br>\n",
        "\n",
        "### **순환층에 드롭아웃 적용하기**"
      ],
      "metadata": {
        "id": "rJLZgAcgdTmr"
      }
    },
    {
      "cell_type": "markdown",
      "source": [
        "**드롭아웃**은 은닉층에 있는 뉴런의 출력을 랜덤하게 꺼서 과대적합을 막는 기법이다."
      ],
      "metadata": {
        "id": "GfBZhRdgdnVS"
      }
    },
    {
      "cell_type": "markdown",
      "source": [
        "SimpleRNN과 LSTM 클래스 모두 **`dropout`** 매개변수와 **`recurrent_dropout`** 매개변수를 가지고 있다.\n",
        "- **dropout**) 셀의 입력에 드롭아웃 적용\n",
        "- **recurrent_dropout**) 순환되는 은닉 상태에 드롭아웃 적용, 단, 이 매개변수를 사용하면 GPU를 사용하여 모델을 훈련하지 못한다."
      ],
      "metadata": {
        "id": "XKs08anPdsTq"
      }
    },
    {
      "cell_type": "code",
      "source": [
        "model2 = keras.Sequential()\n",
        "model2.add(keras.layers.Embedding(500, 16, input_length=100))\n",
        "model2.add(keras.layers.LSTM(8, dropout=0.3))\n",
        "model2.add(keras.layers.Dense(1, activation='sigmoid'))"
      ],
      "metadata": {
        "id": "YcGRctrVeGgi"
      },
      "execution_count": 10,
      "outputs": []
    },
    {
      "cell_type": "code",
      "source": [
        "rmsprop = keras.optimizers.RMSprop(learning_rate=1e-4)\n",
        "model2.compile(optimizer=rmsprop, loss='binary_crossentropy', metrics=['accuracy'])\n",
        "checkpoint_cb = keras.callbacks.ModelCheckpoint('best-dropout-model.h5', save_best_only=True)\n",
        "early_stopping_cb = keras.callbacks.EarlyStopping(patience=3, restore_best_weights=True)\n",
        "history = model2.fit(train_seq, train_target, epochs=100, batch_size=64,\n",
        "                     validation_data=(val_seq, val_target),\n",
        "                     callbacks=[checkpoint_cb, early_stopping_cb])"
      ],
      "metadata": {
        "colab": {
          "base_uri": "https://localhost:8080/"
        },
        "id": "Pk0OMDHzeKPa",
        "outputId": "72c6a6cc-00c4-4d97-c7de-a0ceb61f8809"
      },
      "execution_count": 11,
      "outputs": [
        {
          "output_type": "stream",
          "name": "stdout",
          "text": [
            "Epoch 1/100\n",
            "313/313 [==============================] - 5s 9ms/step - loss: 0.6926 - accuracy: 0.5373 - val_loss: 0.6921 - val_accuracy: 0.5862\n",
            "Epoch 2/100\n",
            "313/313 [==============================] - 3s 8ms/step - loss: 0.6910 - accuracy: 0.6011 - val_loss: 0.6895 - val_accuracy: 0.6216\n",
            "Epoch 3/100\n",
            "313/313 [==============================] - 3s 9ms/step - loss: 0.6829 - accuracy: 0.6621 - val_loss: 0.6689 - val_accuracy: 0.6668\n",
            "Epoch 4/100\n",
            "313/313 [==============================] - 3s 10ms/step - loss: 0.6379 - accuracy: 0.6880 - val_loss: 0.6208 - val_accuracy: 0.6878\n",
            "Epoch 5/100\n",
            "313/313 [==============================] - 3s 8ms/step - loss: 0.6080 - accuracy: 0.7038 - val_loss: 0.5994 - val_accuracy: 0.7042\n",
            "Epoch 6/100\n",
            "313/313 [==============================] - 3s 8ms/step - loss: 0.5863 - accuracy: 0.7199 - val_loss: 0.5752 - val_accuracy: 0.7306\n",
            "Epoch 7/100\n",
            "313/313 [==============================] - 3s 8ms/step - loss: 0.5667 - accuracy: 0.7358 - val_loss: 0.5632 - val_accuracy: 0.7284\n",
            "Epoch 8/100\n",
            "313/313 [==============================] - 3s 10ms/step - loss: 0.5497 - accuracy: 0.7480 - val_loss: 0.5405 - val_accuracy: 0.7646\n",
            "Epoch 9/100\n",
            "313/313 [==============================] - 3s 9ms/step - loss: 0.5328 - accuracy: 0.7612 - val_loss: 0.5256 - val_accuracy: 0.7672\n",
            "Epoch 10/100\n",
            "313/313 [==============================] - 3s 9ms/step - loss: 0.5184 - accuracy: 0.7695 - val_loss: 0.5128 - val_accuracy: 0.7734\n",
            "Epoch 11/100\n",
            "313/313 [==============================] - 3s 8ms/step - loss: 0.5057 - accuracy: 0.7767 - val_loss: 0.5049 - val_accuracy: 0.7742\n",
            "Epoch 12/100\n",
            "313/313 [==============================] - 3s 8ms/step - loss: 0.4938 - accuracy: 0.7820 - val_loss: 0.4916 - val_accuracy: 0.7880\n",
            "Epoch 13/100\n",
            "313/313 [==============================] - 3s 8ms/step - loss: 0.4834 - accuracy: 0.7875 - val_loss: 0.4832 - val_accuracy: 0.7920\n",
            "Epoch 14/100\n",
            "313/313 [==============================] - 3s 8ms/step - loss: 0.4754 - accuracy: 0.7901 - val_loss: 0.4759 - val_accuracy: 0.7920\n",
            "Epoch 15/100\n",
            "313/313 [==============================] - 3s 10ms/step - loss: 0.4674 - accuracy: 0.7963 - val_loss: 0.4702 - val_accuracy: 0.7894\n",
            "Epoch 16/100\n",
            "313/313 [==============================] - 3s 10ms/step - loss: 0.4607 - accuracy: 0.7963 - val_loss: 0.4636 - val_accuracy: 0.7968\n",
            "Epoch 17/100\n",
            "313/313 [==============================] - 3s 8ms/step - loss: 0.4552 - accuracy: 0.8004 - val_loss: 0.4596 - val_accuracy: 0.7960\n",
            "Epoch 18/100\n",
            "313/313 [==============================] - 3s 8ms/step - loss: 0.4497 - accuracy: 0.7997 - val_loss: 0.4550 - val_accuracy: 0.7954\n",
            "Epoch 19/100\n",
            "313/313 [==============================] - 3s 8ms/step - loss: 0.4435 - accuracy: 0.8037 - val_loss: 0.4510 - val_accuracy: 0.7994\n",
            "Epoch 20/100\n",
            "313/313 [==============================] - 3s 8ms/step - loss: 0.4420 - accuracy: 0.8001 - val_loss: 0.4476 - val_accuracy: 0.7990\n",
            "Epoch 21/100\n",
            "313/313 [==============================] - 3s 9ms/step - loss: 0.4375 - accuracy: 0.8045 - val_loss: 0.4443 - val_accuracy: 0.7992\n",
            "Epoch 22/100\n",
            "313/313 [==============================] - 3s 8ms/step - loss: 0.4350 - accuracy: 0.8024 - val_loss: 0.4419 - val_accuracy: 0.7992\n",
            "Epoch 23/100\n",
            "313/313 [==============================] - 3s 8ms/step - loss: 0.4316 - accuracy: 0.8054 - val_loss: 0.4403 - val_accuracy: 0.7996\n",
            "Epoch 24/100\n",
            "313/313 [==============================] - 3s 8ms/step - loss: 0.4285 - accuracy: 0.8038 - val_loss: 0.4400 - val_accuracy: 0.7962\n",
            "Epoch 25/100\n",
            "313/313 [==============================] - 3s 8ms/step - loss: 0.4292 - accuracy: 0.8038 - val_loss: 0.4369 - val_accuracy: 0.7990\n",
            "Epoch 26/100\n",
            "313/313 [==============================] - 3s 8ms/step - loss: 0.4259 - accuracy: 0.8059 - val_loss: 0.4370 - val_accuracy: 0.8022\n",
            "Epoch 27/100\n",
            "313/313 [==============================] - 3s 8ms/step - loss: 0.4258 - accuracy: 0.8061 - val_loss: 0.4353 - val_accuracy: 0.7964\n",
            "Epoch 28/100\n",
            "313/313 [==============================] - 3s 8ms/step - loss: 0.4227 - accuracy: 0.8059 - val_loss: 0.4368 - val_accuracy: 0.7950\n",
            "Epoch 29/100\n",
            "313/313 [==============================] - 3s 8ms/step - loss: 0.4224 - accuracy: 0.8081 - val_loss: 0.4345 - val_accuracy: 0.8008\n",
            "Epoch 30/100\n",
            "313/313 [==============================] - 3s 8ms/step - loss: 0.4204 - accuracy: 0.8064 - val_loss: 0.4342 - val_accuracy: 0.8016\n",
            "Epoch 31/100\n",
            "313/313 [==============================] - 3s 8ms/step - loss: 0.4209 - accuracy: 0.8084 - val_loss: 0.4336 - val_accuracy: 0.8030\n",
            "Epoch 32/100\n",
            "313/313 [==============================] - 3s 9ms/step - loss: 0.4188 - accuracy: 0.8081 - val_loss: 0.4340 - val_accuracy: 0.8034\n",
            "Epoch 33/100\n",
            "313/313 [==============================] - 3s 8ms/step - loss: 0.4190 - accuracy: 0.8064 - val_loss: 0.4319 - val_accuracy: 0.7988\n",
            "Epoch 34/100\n",
            "313/313 [==============================] - 3s 8ms/step - loss: 0.4180 - accuracy: 0.8077 - val_loss: 0.4324 - val_accuracy: 0.7958\n",
            "Epoch 35/100\n",
            "313/313 [==============================] - 3s 8ms/step - loss: 0.4181 - accuracy: 0.8069 - val_loss: 0.4362 - val_accuracy: 0.7936\n",
            "Epoch 36/100\n",
            "313/313 [==============================] - 3s 8ms/step - loss: 0.4158 - accuracy: 0.8093 - val_loss: 0.4315 - val_accuracy: 0.8030\n",
            "Epoch 37/100\n",
            "313/313 [==============================] - 3s 8ms/step - loss: 0.4164 - accuracy: 0.8092 - val_loss: 0.4324 - val_accuracy: 0.7958\n",
            "Epoch 38/100\n",
            "313/313 [==============================] - 3s 8ms/step - loss: 0.4162 - accuracy: 0.8078 - val_loss: 0.4342 - val_accuracy: 0.7942\n",
            "Epoch 39/100\n",
            "313/313 [==============================] - 3s 8ms/step - loss: 0.4148 - accuracy: 0.8109 - val_loss: 0.4339 - val_accuracy: 0.7956\n"
          ]
        }
      ]
    },
    {
      "cell_type": "markdown",
      "source": [
        "검증 손실이 약간 향상되었다."
      ],
      "metadata": {
        "id": "anWuCw-keOFQ"
      }
    },
    {
      "cell_type": "code",
      "source": [
        "plt.plot(history.history['loss'])\n",
        "plt.plot(history.history['val_loss'])\n",
        "plt.xlabel('epoch')\n",
        "plt.ylabel('loss')\n",
        "plt.legend(['train', 'val'])\n",
        "plt.show()"
      ],
      "metadata": {
        "colab": {
          "base_uri": "https://localhost:8080/",
          "height": 279
        },
        "id": "tC5zM0rSeRYi",
        "outputId": "12a87d52-c001-4172-c7b7-5ec5047f5169"
      },
      "execution_count": 12,
      "outputs": [
        {
          "output_type": "display_data",
          "data": {
            "text/plain": [
              "<Figure size 432x288 with 1 Axes>"
            ],
            "image/png": "[encoded data removed]"
          },
          "metadata": {
            "needs_background": "light"
          }
        }
      ]
    },
    {
      "cell_type": "markdown",
      "source": [
        "훈련 손실과 검증 손실 간 차이가 좁혀진 것을 확인할 수 있다."
      ],
      "metadata": {
        "id": "5czY3S2yeSTE"
      }
    },
    {
      "cell_type": "markdown",
      "source": [
        "<br><hr><br>\n",
        "\n",
        "### **2개의 층을 연결하기**"
      ],
      "metadata": {
        "id": "TJekcVmieWGC"
      }
    },
    {
      "cell_type": "markdown",
      "source": [
        "순환층의 은닉 상태는 샘플의 마지막 타임스텝에 대한 은닉 상태만 다음 층으로 전달한다.<br>\n",
        "하지만 순환층을 쌓게 되면 모든 순환층에 순차 데이터가 필요하므로 앞쪽의 순환층은 모든 타임스텝에 대한 은닉 상태를 출력해야 한다.<br>\n",
        "오직 마지막 순환층만 마지막 타임스텝의 은닉 상태를 출력해야 한다."
      ],
      "metadata": {
        "id": "2jnrJcXreZ2L"
      }
    },
    {
      "cell_type": "markdown",
      "source": [
        "케라스의 순환층에서 모든 타입스텝의 은닉 상태를 출력하려면 마지막을 제외한 다른 모든 순환층에서 **`return_sequences`** 매개변수를 True로 지정해주면 된다."
      ],
      "metadata": {
        "id": "yogIHO_5ey-t"
      }
    },
    {
      "cell_type": "code",
      "source": [
        "model3 = keras.Sequential()\n",
        "model3.add(keras.layers.Embedding(500, 16, input_length=100))\n",
        "model3.add(keras.layers.LSTM(8, dropout=0.3, return_sequences=True))\n",
        "model3.add(keras.layers.LSTM(8, dropout=0.3)) \n",
        "model3.add(keras.layers.Dense(1, activation='sigmoid'))"
      ],
      "metadata": {
        "id": "huHX6AjYfCQD"
      },
      "execution_count": 13,
      "outputs": []
    },
    {
      "cell_type": "code",
      "source": [
        "model3.summary()"
      ],
      "metadata": {
        "colab": {
          "base_uri": "https://localhost:8080/"
        },
        "id": "xWmyIag3fITb",
        "outputId": "81d79ed2-c5b0-4b23-c0bc-91205924be03"
      },
      "execution_count": 14,
      "outputs": [
        {
          "output_type": "stream",
          "name": "stdout",
          "text": [
            "Model: \"sequential_3\"\n",
            "_________________________________________________________________\n",
            " Layer (type)                Output Shape              Param #   \n",
            "=================================================================\n",
            " embedding_3 (Embedding)     (None, 100, 16)           8000      \n",
            "                                                                 \n",
            " lstm_3 (LSTM)               (None, 100, 8)            800       \n",
            "                                                                 \n",
            " lstm_4 (LSTM)               (None, 8)                 544       \n",
            "                                                                 \n",
            " dense_2 (Dense)             (None, 1)                 9         \n",
            "                                                                 \n",
            "=================================================================\n",
            "Total params: 9,353\n",
            "Trainable params: 9,353\n",
            "Non-trainable params: 0\n",
            "_________________________________________________________________\n"
          ]
        }
      ]
    },
    {
      "cell_type": "markdown",
      "source": [
        "첫 번째 LSTM 층이 모든 타임스텝(100개)의 은닉 상태를 출력하기 때문에 출력 크기가 (None, 100, 8)로 표시되었다.<br>\n",
        "두 번째 LSTM 층의 출력 크기는 마지막 타임스텝의 은닉 상태만 출력하기 때문에 (None, 8)이다."
      ],
      "metadata": {
        "id": "hr3m08xnfNOw"
      }
    },
    {
      "cell_type": "markdown",
      "source": [
        "마찬가지로 이 모델을 훈련해보자."
      ],
      "metadata": {
        "id": "FYledkJvfeXs"
      }
    },
    {
      "cell_type": "code",
      "source": [
        "rmsprop = keras.optimizers.RMSprop(learning_rate=1e-4)\n",
        "model3.compile(optimizer=rmsprop, loss='binary_crossentropy', metrics=['accuracy'])\n",
        "checkpoint_cb = keras.callbacks.ModelCheckpoint('best-2rnn-model.h5', save_best_only=True)\n",
        "early_stopping_cb = keras.callbacks.EarlyStopping(patience=3, restore_best_weights=True)\n",
        "history = model3.fit(train_seq, train_target, epochs=100, batch_size=64,\n",
        "                     validation_data=(val_seq, val_target),\n",
        "                     callbacks=[checkpoint_cb, early_stopping_cb])"
      ],
      "metadata": {
        "colab": {
          "base_uri": "https://localhost:8080/"
        },
        "id": "jUZr5Ql5fhGQ",
        "outputId": "cbb171dc-a54c-4494-ea0e-4b9ddd263ab8"
      },
      "execution_count": 15,
      "outputs": [
        {
          "output_type": "stream",
          "name": "stdout",
          "text": [
            "Epoch 1/100\n",
            "313/313 [==============================] - 8s 16ms/step - loss: 0.6927 - accuracy: 0.5481 - val_loss: 0.6920 - val_accuracy: 0.5812\n",
            "Epoch 2/100\n",
            "313/313 [==============================] - 4s 14ms/step - loss: 0.6891 - accuracy: 0.6147 - val_loss: 0.6842 - val_accuracy: 0.6476\n",
            "Epoch 3/100\n",
            "313/313 [==============================] - 4s 12ms/step - loss: 0.6612 - accuracy: 0.6546 - val_loss: 0.6212 - val_accuracy: 0.6928\n",
            "Epoch 4/100\n",
            "313/313 [==============================] - 4s 12ms/step - loss: 0.5903 - accuracy: 0.7114 - val_loss: 0.5634 - val_accuracy: 0.7308\n",
            "Epoch 5/100\n",
            "313/313 [==============================] - 4s 13ms/step - loss: 0.5476 - accuracy: 0.7394 - val_loss: 0.5314 - val_accuracy: 0.7464\n",
            "Epoch 6/100\n",
            "313/313 [==============================] - 4s 12ms/step - loss: 0.5235 - accuracy: 0.7529 - val_loss: 0.5098 - val_accuracy: 0.7600\n",
            "Epoch 7/100\n",
            "313/313 [==============================] - 4s 13ms/step - loss: 0.5033 - accuracy: 0.7642 - val_loss: 0.4969 - val_accuracy: 0.7710\n",
            "Epoch 8/100\n",
            "313/313 [==============================] - 5s 15ms/step - loss: 0.4916 - accuracy: 0.7715 - val_loss: 0.4828 - val_accuracy: 0.7746\n",
            "Epoch 9/100\n",
            "313/313 [==============================] - 4s 13ms/step - loss: 0.4817 - accuracy: 0.7788 - val_loss: 0.4763 - val_accuracy: 0.7788\n",
            "Epoch 10/100\n",
            "313/313 [==============================] - 4s 12ms/step - loss: 0.4754 - accuracy: 0.7806 - val_loss: 0.4704 - val_accuracy: 0.7812\n",
            "Epoch 11/100\n",
            "313/313 [==============================] - 4s 12ms/step - loss: 0.4708 - accuracy: 0.7827 - val_loss: 0.4669 - val_accuracy: 0.7814\n",
            "Epoch 12/100\n",
            "313/313 [==============================] - 4s 13ms/step - loss: 0.4629 - accuracy: 0.7884 - val_loss: 0.4616 - val_accuracy: 0.7820\n",
            "Epoch 13/100\n",
            "313/313 [==============================] - 4s 12ms/step - loss: 0.4599 - accuracy: 0.7884 - val_loss: 0.4572 - val_accuracy: 0.7836\n",
            "Epoch 14/100\n",
            "313/313 [==============================] - 4s 12ms/step - loss: 0.4551 - accuracy: 0.7905 - val_loss: 0.4563 - val_accuracy: 0.7840\n",
            "Epoch 15/100\n",
            "313/313 [==============================] - 4s 12ms/step - loss: 0.4517 - accuracy: 0.7954 - val_loss: 0.4562 - val_accuracy: 0.7822\n",
            "Epoch 16/100\n",
            "313/313 [==============================] - 4s 13ms/step - loss: 0.4484 - accuracy: 0.7934 - val_loss: 0.4639 - val_accuracy: 0.7824\n",
            "Epoch 17/100\n",
            "313/313 [==============================] - 4s 12ms/step - loss: 0.4461 - accuracy: 0.7951 - val_loss: 0.4485 - val_accuracy: 0.7866\n",
            "Epoch 18/100\n",
            "313/313 [==============================] - 4s 12ms/step - loss: 0.4437 - accuracy: 0.7990 - val_loss: 0.4478 - val_accuracy: 0.7858\n",
            "Epoch 19/100\n",
            "313/313 [==============================] - 4s 12ms/step - loss: 0.4449 - accuracy: 0.7976 - val_loss: 0.4474 - val_accuracy: 0.7902\n",
            "Epoch 20/100\n",
            "313/313 [==============================] - 4s 12ms/step - loss: 0.4392 - accuracy: 0.7987 - val_loss: 0.4454 - val_accuracy: 0.7912\n",
            "Epoch 21/100\n",
            "313/313 [==============================] - 4s 12ms/step - loss: 0.4387 - accuracy: 0.7991 - val_loss: 0.4446 - val_accuracy: 0.7890\n",
            "Epoch 22/100\n",
            "313/313 [==============================] - 4s 12ms/step - loss: 0.4369 - accuracy: 0.7983 - val_loss: 0.4439 - val_accuracy: 0.7916\n",
            "Epoch 23/100\n",
            "313/313 [==============================] - 4s 12ms/step - loss: 0.4345 - accuracy: 0.8026 - val_loss: 0.4423 - val_accuracy: 0.7936\n",
            "Epoch 24/100\n",
            "313/313 [==============================] - 4s 12ms/step - loss: 0.4349 - accuracy: 0.8005 - val_loss: 0.4423 - val_accuracy: 0.7922\n",
            "Epoch 25/100\n",
            "313/313 [==============================] - 4s 12ms/step - loss: 0.4352 - accuracy: 0.8015 - val_loss: 0.4410 - val_accuracy: 0.7926\n",
            "Epoch 26/100\n",
            "313/313 [==============================] - 4s 12ms/step - loss: 0.4332 - accuracy: 0.8009 - val_loss: 0.4412 - val_accuracy: 0.7942\n",
            "Epoch 27/100\n",
            "313/313 [==============================] - 4s 12ms/step - loss: 0.4334 - accuracy: 0.8030 - val_loss: 0.4424 - val_accuracy: 0.7952\n",
            "Epoch 28/100\n",
            "313/313 [==============================] - 4s 12ms/step - loss: 0.4312 - accuracy: 0.8020 - val_loss: 0.4390 - val_accuracy: 0.7950\n",
            "Epoch 29/100\n",
            "313/313 [==============================] - 4s 12ms/step - loss: 0.4311 - accuracy: 0.8029 - val_loss: 0.4394 - val_accuracy: 0.7950\n",
            "Epoch 30/100\n",
            "313/313 [==============================] - 4s 12ms/step - loss: 0.4296 - accuracy: 0.8033 - val_loss: 0.4400 - val_accuracy: 0.7956\n",
            "Epoch 31/100\n",
            "313/313 [==============================] - 5s 15ms/step - loss: 0.4285 - accuracy: 0.8019 - val_loss: 0.4376 - val_accuracy: 0.7972\n",
            "Epoch 32/100\n",
            "313/313 [==============================] - 4s 14ms/step - loss: 0.4270 - accuracy: 0.8048 - val_loss: 0.4386 - val_accuracy: 0.7932\n",
            "Epoch 33/100\n",
            "313/313 [==============================] - 4s 14ms/step - loss: 0.4294 - accuracy: 0.8040 - val_loss: 0.4394 - val_accuracy: 0.7978\n",
            "Epoch 34/100\n",
            "313/313 [==============================] - 4s 14ms/step - loss: 0.4242 - accuracy: 0.8029 - val_loss: 0.4366 - val_accuracy: 0.7970\n",
            "Epoch 35/100\n",
            "313/313 [==============================] - 4s 12ms/step - loss: 0.4250 - accuracy: 0.8055 - val_loss: 0.4375 - val_accuracy: 0.7948\n",
            "Epoch 36/100\n",
            "313/313 [==============================] - 4s 12ms/step - loss: 0.4263 - accuracy: 0.8047 - val_loss: 0.4367 - val_accuracy: 0.7994\n",
            "Epoch 37/100\n",
            "313/313 [==============================] - 4s 12ms/step - loss: 0.4250 - accuracy: 0.8028 - val_loss: 0.4391 - val_accuracy: 0.7946\n"
          ]
        }
      ]
    },
    {
      "cell_type": "markdown",
      "source": [
        "모델이 잘 훈련되었다. 일반적으로 순환층을 쌒으면 성능이 높아진다."
      ],
      "metadata": {
        "id": "U4pheO4AfjKw"
      }
    },
    {
      "cell_type": "code",
      "source": [
        "plt.plot(history.history['loss'])\n",
        "plt.plot(history.history['val_loss'])\n",
        "plt.xlabel('epoch')\n",
        "plt.ylabel('loss')\n",
        "plt.legend(['train', 'val'])\n",
        "plt.show()"
      ],
      "metadata": {
        "id": "jvaStunJfpRU"
      },
      "execution_count": null,
      "outputs": []
    },
    {
      "cell_type": "markdown",
      "source": [
        "과대적합을 제어하면서 손실을 최대한 낮춘 것을 알 수 있다."
      ],
      "metadata": {
        "id": "_LPjuPuRfqCk"
      }
    },
    {
      "cell_type": "markdown",
      "source": [
        "<br><hr><br>\n",
        "\n",
        "### **GRU 신경망 훈련하기**"
      ],
      "metadata": {
        "id": "09hlgZwTft6r"
      }
    },
    {
      "cell_type": "markdown",
      "source": [
        "GRU(Gated Recurrent Unit)는 LSTM을 간소화한 버전으로, LSTM처럼 셀 상태를 계산하지 않고 은닉 상태 하나만 포함하고 있다."
      ],
      "metadata": {
        "id": "8HwT6knifxUK"
      }
    },
    {
      "cell_type": "code",
      "source": [
        "model4 = keras.Sequential()\n",
        "model4.add(keras.layers.Embedding(500, 16, input_length=100))\n",
        "model4.add(keras.layers.GRU(8))\n",
        "model4.add(keras.layers.Dense(1, activation='sigmoid'))"
      ],
      "metadata": {
        "id": "iKXbWxTAf_ra"
      },
      "execution_count": 16,
      "outputs": []
    },
    {
      "cell_type": "code",
      "source": [
        "model4.summary()"
      ],
      "metadata": {
        "colab": {
          "base_uri": "https://localhost:8080/"
        },
        "id": "EArdyZ-qgCJh",
        "outputId": "3fbe54b6-d9d3-4f49-f4fc-2288bfb3eac9"
      },
      "execution_count": 17,
      "outputs": [
        {
          "output_type": "stream",
          "name": "stdout",
          "text": [
            "Model: \"sequential_4\"\n",
            "_________________________________________________________________\n",
            " Layer (type)                Output Shape              Param #   \n",
            "=================================================================\n",
            " embedding_4 (Embedding)     (None, 100, 16)           8000      \n",
            "                                                                 \n",
            " gru (GRU)                   (None, 8)                 624       \n",
            "                                                                 \n",
            " dense_3 (Dense)             (None, 1)                 9         \n",
            "                                                                 \n",
            "=================================================================\n",
            "Total params: 8,633\n",
            "Trainable params: 8,633\n",
            "Non-trainable params: 0\n",
            "_________________________________________________________________\n"
          ]
        }
      ]
    },
    {
      "cell_type": "markdown",
      "source": [
        "GRU 셀에는 3개의 작은 셀이 있고, 작은 셀에는 입력과 은닉 상태에 곱하는 가중치와 절편이 있다.\n",
        "- 입력에 곱하는 가중치) `16 * 8 = 128`개\n",
        "- 은닉 상태에 곱하는 가중치) `8 * 8 = 64`개\n",
        "- 절편) 뉴런마다 하나씩이므로 8개\n",
        "<br>\n",
        "\n",
        "모두 더하면 `128 + 64 + 8 = 200`개이고, 이런 작은 셀이 3개이므로 600개이다.<br>\n",
        "그런데 텐서플로에 기본적으로 구현된 GRU 셀의 계산 방식으로 하면, 은닉 상태에 곱해지는 가중치 외에 절편이 별도로 필요하다.<br>\n",
        "따라서 작은 셀마다 하나씩 절편이 추가되고 8개의 뉴런이 있으므로 총 24개의 모델 파라미터가 더해진다.<br>\n",
        "결과적으로 GRU 층의 총 모델 파라미터 개수는 624개가 된다."
      ],
      "metadata": {
        "id": "bsaIuqUhgDTZ"
      }
    },
    {
      "cell_type": "markdown",
      "source": [
        "그럼 GRU 셀을 사용한 순환 신경망을 훈련해보자."
      ],
      "metadata": {
        "id": "Y9wi1MjFhBh0"
      }
    },
    {
      "cell_type": "code",
      "source": [
        "rmsprop = keras.optimizers.RMSprop(learning_rate=1e-4)\n",
        "model4.compile(optimizer=rmsprop, loss='binary_crossentropy', metrics=['accuracy'])\n",
        "checkpoint_cb = keras.callbacks.ModelCheckpoint('best-gru-model.h5', save_best_only=True)\n",
        "early_stopping_cb = keras.callbacks.EarlyStopping(patience=3, restore_best_weights=True)\n",
        "history = model4.fit(train_seq, train_target, epochs=100, batch_size=64,\n",
        "                     validation_data=(val_seq, val_target),\n",
        "                     callbacks=[checkpoint_cb, early_stopping_cb])"
      ],
      "metadata": {
        "colab": {
          "base_uri": "https://localhost:8080/"
        },
        "id": "uU8EyvdBhGhj",
        "outputId": "2d226571-e893-4ee1-b050-deb6da02ecb0"
      },
      "execution_count": 18,
      "outputs": [
        {
          "output_type": "stream",
          "name": "stdout",
          "text": [
            "Epoch 1/100\n",
            "313/313 [==============================] - 5s 9ms/step - loss: 0.6929 - accuracy: 0.5159 - val_loss: 0.6925 - val_accuracy: 0.5204\n",
            "Epoch 2/100\n",
            "313/313 [==============================] - 3s 9ms/step - loss: 0.6919 - accuracy: 0.5425 - val_loss: 0.6915 - val_accuracy: 0.5490\n",
            "Epoch 3/100\n",
            "313/313 [==============================] - 3s 9ms/step - loss: 0.6905 - accuracy: 0.5656 - val_loss: 0.6899 - val_accuracy: 0.5588\n",
            "Epoch 4/100\n",
            "313/313 [==============================] - 3s 8ms/step - loss: 0.6882 - accuracy: 0.5777 - val_loss: 0.6874 - val_accuracy: 0.5682\n",
            "Epoch 5/100\n",
            "313/313 [==============================] - 2s 8ms/step - loss: 0.6847 - accuracy: 0.5871 - val_loss: 0.6835 - val_accuracy: 0.5840\n",
            "Epoch 6/100\n",
            "313/313 [==============================] - 2s 8ms/step - loss: 0.6795 - accuracy: 0.6000 - val_loss: 0.6779 - val_accuracy: 0.5898\n",
            "Epoch 7/100\n",
            "313/313 [==============================] - 3s 9ms/step - loss: 0.6718 - accuracy: 0.6167 - val_loss: 0.6700 - val_accuracy: 0.6028\n",
            "Epoch 8/100\n",
            "313/313 [==============================] - 2s 8ms/step - loss: 0.6610 - accuracy: 0.6317 - val_loss: 0.6583 - val_accuracy: 0.6196\n",
            "Epoch 9/100\n",
            "313/313 [==============================] - 3s 8ms/step - loss: 0.6452 - accuracy: 0.6482 - val_loss: 0.6411 - val_accuracy: 0.6448\n",
            "Epoch 10/100\n",
            "313/313 [==============================] - 3s 8ms/step - loss: 0.6206 - accuracy: 0.6739 - val_loss: 0.6126 - val_accuracy: 0.6742\n",
            "Epoch 11/100\n",
            "313/313 [==============================] - 2s 8ms/step - loss: 0.5815 - accuracy: 0.7035 - val_loss: 0.5679 - val_accuracy: 0.7128\n",
            "Epoch 12/100\n",
            "313/313 [==============================] - 3s 8ms/step - loss: 0.5334 - accuracy: 0.7436 - val_loss: 0.5333 - val_accuracy: 0.7390\n",
            "Epoch 13/100\n",
            "313/313 [==============================] - 3s 8ms/step - loss: 0.5100 - accuracy: 0.7598 - val_loss: 0.5210 - val_accuracy: 0.7460\n",
            "Epoch 14/100\n",
            "313/313 [==============================] - 3s 8ms/step - loss: 0.4978 - accuracy: 0.7676 - val_loss: 0.5154 - val_accuracy: 0.7504\n",
            "Epoch 15/100\n",
            "313/313 [==============================] - 3s 8ms/step - loss: 0.4875 - accuracy: 0.7743 - val_loss: 0.5047 - val_accuracy: 0.7562\n",
            "Epoch 16/100\n",
            "313/313 [==============================] - 3s 8ms/step - loss: 0.4790 - accuracy: 0.7810 - val_loss: 0.4988 - val_accuracy: 0.7598\n",
            "Epoch 17/100\n",
            "313/313 [==============================] - 3s 8ms/step - loss: 0.4720 - accuracy: 0.7848 - val_loss: 0.4917 - val_accuracy: 0.7654\n",
            "Epoch 18/100\n",
            "313/313 [==============================] - 3s 8ms/step - loss: 0.4656 - accuracy: 0.7879 - val_loss: 0.4867 - val_accuracy: 0.7678\n",
            "Epoch 19/100\n",
            "313/313 [==============================] - 3s 8ms/step - loss: 0.4597 - accuracy: 0.7926 - val_loss: 0.4825 - val_accuracy: 0.7730\n",
            "Epoch 20/100\n",
            "313/313 [==============================] - 3s 8ms/step - loss: 0.4550 - accuracy: 0.7973 - val_loss: 0.4768 - val_accuracy: 0.7738\n",
            "Epoch 21/100\n",
            "313/313 [==============================] - 3s 9ms/step - loss: 0.4508 - accuracy: 0.7988 - val_loss: 0.4724 - val_accuracy: 0.7782\n",
            "Epoch 22/100\n",
            "313/313 [==============================] - 3s 10ms/step - loss: 0.4470 - accuracy: 0.8001 - val_loss: 0.4688 - val_accuracy: 0.7804\n",
            "Epoch 23/100\n",
            "313/313 [==============================] - 3s 8ms/step - loss: 0.4429 - accuracy: 0.8023 - val_loss: 0.4674 - val_accuracy: 0.7798\n",
            "Epoch 24/100\n",
            "313/313 [==============================] - 3s 8ms/step - loss: 0.4397 - accuracy: 0.8042 - val_loss: 0.4653 - val_accuracy: 0.7814\n",
            "Epoch 25/100\n",
            "313/313 [==============================] - 3s 8ms/step - loss: 0.4371 - accuracy: 0.8057 - val_loss: 0.4642 - val_accuracy: 0.7840\n",
            "Epoch 26/100\n",
            "313/313 [==============================] - 3s 8ms/step - loss: 0.4341 - accuracy: 0.8072 - val_loss: 0.4581 - val_accuracy: 0.7856\n",
            "Epoch 27/100\n",
            "313/313 [==============================] - 2s 8ms/step - loss: 0.4316 - accuracy: 0.8070 - val_loss: 0.4561 - val_accuracy: 0.7868\n",
            "Epoch 28/100\n",
            "313/313 [==============================] - 3s 8ms/step - loss: 0.4296 - accuracy: 0.8108 - val_loss: 0.4549 - val_accuracy: 0.7918\n",
            "Epoch 29/100\n",
            "313/313 [==============================] - 3s 8ms/step - loss: 0.4272 - accuracy: 0.8117 - val_loss: 0.4572 - val_accuracy: 0.7846\n",
            "Epoch 30/100\n",
            "313/313 [==============================] - 4s 11ms/step - loss: 0.4261 - accuracy: 0.8116 - val_loss: 0.4526 - val_accuracy: 0.7916\n",
            "Epoch 31/100\n",
            "313/313 [==============================] - 3s 8ms/step - loss: 0.4242 - accuracy: 0.8128 - val_loss: 0.4505 - val_accuracy: 0.7904\n",
            "Epoch 32/100\n",
            "313/313 [==============================] - 3s 10ms/step - loss: 0.4227 - accuracy: 0.8141 - val_loss: 0.4490 - val_accuracy: 0.7926\n",
            "Epoch 33/100\n",
            "313/313 [==============================] - 2s 8ms/step - loss: 0.4214 - accuracy: 0.8148 - val_loss: 0.4522 - val_accuracy: 0.7874\n",
            "Epoch 34/100\n",
            "313/313 [==============================] - 3s 8ms/step - loss: 0.4206 - accuracy: 0.8154 - val_loss: 0.4477 - val_accuracy: 0.7914\n",
            "Epoch 35/100\n",
            "313/313 [==============================] - 2s 8ms/step - loss: 0.4191 - accuracy: 0.8144 - val_loss: 0.4486 - val_accuracy: 0.7944\n",
            "Epoch 36/100\n",
            "313/313 [==============================] - 3s 8ms/step - loss: 0.4186 - accuracy: 0.8142 - val_loss: 0.4461 - val_accuracy: 0.7944\n",
            "Epoch 37/100\n",
            "313/313 [==============================] - 3s 8ms/step - loss: 0.4172 - accuracy: 0.8151 - val_loss: 0.4459 - val_accuracy: 0.7920\n",
            "Epoch 38/100\n",
            "313/313 [==============================] - 3s 8ms/step - loss: 0.4169 - accuracy: 0.8147 - val_loss: 0.4456 - val_accuracy: 0.7960\n",
            "Epoch 39/100\n",
            "313/313 [==============================] - 3s 8ms/step - loss: 0.4157 - accuracy: 0.8153 - val_loss: 0.4434 - val_accuracy: 0.7964\n",
            "Epoch 40/100\n",
            "313/313 [==============================] - 3s 8ms/step - loss: 0.4150 - accuracy: 0.8164 - val_loss: 0.4431 - val_accuracy: 0.7964\n",
            "Epoch 41/100\n",
            "313/313 [==============================] - 3s 8ms/step - loss: 0.4145 - accuracy: 0.8152 - val_loss: 0.4424 - val_accuracy: 0.7982\n",
            "Epoch 42/100\n",
            "313/313 [==============================] - 3s 8ms/step - loss: 0.4135 - accuracy: 0.8155 - val_loss: 0.4504 - val_accuracy: 0.7876\n",
            "Epoch 43/100\n",
            "313/313 [==============================] - 3s 8ms/step - loss: 0.4129 - accuracy: 0.8165 - val_loss: 0.4420 - val_accuracy: 0.7992\n",
            "Epoch 44/100\n",
            "313/313 [==============================] - 3s 8ms/step - loss: 0.4122 - accuracy: 0.8178 - val_loss: 0.4414 - val_accuracy: 0.7998\n",
            "Epoch 45/100\n",
            "313/313 [==============================] - 3s 8ms/step - loss: 0.4121 - accuracy: 0.8154 - val_loss: 0.4404 - val_accuracy: 0.7976\n",
            "Epoch 46/100\n",
            "313/313 [==============================] - 3s 8ms/step - loss: 0.4114 - accuracy: 0.8169 - val_loss: 0.4387 - val_accuracy: 0.7998\n",
            "Epoch 47/100\n",
            "313/313 [==============================] - 3s 8ms/step - loss: 0.4113 - accuracy: 0.8169 - val_loss: 0.4394 - val_accuracy: 0.7936\n",
            "Epoch 48/100\n",
            "313/313 [==============================] - 3s 8ms/step - loss: 0.4107 - accuracy: 0.8173 - val_loss: 0.4382 - val_accuracy: 0.7976\n",
            "Epoch 49/100\n",
            "313/313 [==============================] - 3s 8ms/step - loss: 0.4104 - accuracy: 0.8177 - val_loss: 0.4381 - val_accuracy: 0.7984\n",
            "Epoch 50/100\n",
            "313/313 [==============================] - 3s 8ms/step - loss: 0.4098 - accuracy: 0.8176 - val_loss: 0.4374 - val_accuracy: 0.8000\n",
            "Epoch 51/100\n",
            "313/313 [==============================] - 3s 8ms/step - loss: 0.4092 - accuracy: 0.8173 - val_loss: 0.4556 - val_accuracy: 0.7852\n",
            "Epoch 52/100\n",
            "313/313 [==============================] - 3s 8ms/step - loss: 0.4088 - accuracy: 0.8186 - val_loss: 0.4363 - val_accuracy: 0.8006\n",
            "Epoch 53/100\n",
            "313/313 [==============================] - 3s 8ms/step - loss: 0.4084 - accuracy: 0.8176 - val_loss: 0.4377 - val_accuracy: 0.8012\n",
            "Epoch 54/100\n",
            "313/313 [==============================] - 3s 8ms/step - loss: 0.4082 - accuracy: 0.8178 - val_loss: 0.4381 - val_accuracy: 0.7990\n",
            "Epoch 55/100\n",
            "313/313 [==============================] - 3s 8ms/step - loss: 0.4080 - accuracy: 0.8184 - val_loss: 0.4368 - val_accuracy: 0.8030\n"
          ]
        }
      ]
    },
    {
      "cell_type": "code",
      "source": [
        "plt.plot(history.history['loss'])\n",
        "plt.plot(history.history['val_loss'])\n",
        "plt.xlabel('epoch')\n",
        "plt.ylabel('loss')\n",
        "plt.legend(['train', 'val'])\n",
        "plt.show()"
      ],
      "metadata": {
        "colab": {
          "base_uri": "https://localhost:8080/",
          "height": 279
        },
        "id": "w_n9MDL0hIkk",
        "outputId": "9b81ea89-7f75-49ae-baf8-b6c2ea59bcd5"
      },
      "execution_count": 19,
      "outputs": [
        {
          "output_type": "display_data",
          "data": {
            "text/plain": [
              "<Figure size 432x288 with 1 Axes>"
            ],
            "image/png": "[encoded data removed]"
          },
          "metadata": {
            "needs_background": "light"
          }
        }
      ]
    },
    {
      "cell_type": "markdown",
      "source": [
        "드롭아웃을 사용하지 않았기 때문에 이전보다 훈련 손실과 검증 손실 사이에 차이가 있지만 훈련 과정이 잘 수렴되고 있는 것을 확인할 수 있다."
      ],
      "metadata": {
        "id": "4farBH12hLYt"
      }
    },
    {
      "cell_type": "markdown",
      "source": [
        "이제 가장 좋았던 2개의 순환층을 쌓은 모델을 다시 로드하여 테스트 세트에 대한 성능을 확인해보자."
      ],
      "metadata": {
        "id": "ftrGQoVHhUQi"
      }
    },
    {
      "cell_type": "code",
      "source": [
        "test_seq = pad_sequences(test_input, maxlen=100)\n",
        "rnn_model = keras.models.load_model('best-2rnn-model.h5')\n",
        "rnn_model.evaluate(test_seq, test_target)"
      ],
      "metadata": {
        "colab": {
          "base_uri": "https://localhost:8080/"
        },
        "id": "t2eJ5UsrhZ8J",
        "outputId": "505dd6a3-781f-47b9-fa2d-9760b7ef1f66"
      },
      "execution_count": 20,
      "outputs": [
        {
          "output_type": "stream",
          "name": "stdout",
          "text": [
            "782/782 [==============================] - 5s 5ms/step - loss: 0.4316 - accuracy: 0.7974\n"
          ]
        },
        {
          "output_type": "execute_result",
          "data": {
            "text/plain": [
              "[0.43162739276885986, 0.7974399924278259]"
            ]
          },
          "metadata": {},
          "execution_count": 20
        }
      ]
    },
    {
      "cell_type": "markdown",
      "source": [
        "이 모델을 드롭아웃을 적용하여 과대적합을 잘 억제했기 때문에 테스트 세트의 성능이 검증 세트와 크게 차이나지 않는다."
      ],
      "metadata": {
        "id": "DiZjO0I_hbnT"
      }
    }
  ]
}