{
  "nbformat": 4,
  "nbformat_minor": 0,
  "metadata": {
    "colab": {
      "name": "09_02_순환싱경망으로IMDB리뷰분류하기.ipynb",
      "provenance": [],
      "collapsed_sections": []
    },
    "kernelspec": {
      "name": "python3",
      "display_name": "Python 3"
    },
    "language_info": {
      "name": "python"
    },
    "accelerator": "GPU",
    "gpuClass": "standard"
  },
  "cells": [
    {
      "cell_type": "markdown",
      "source": [
        "## **09-2) 순환 신경망으로 IMDB 리뷰 분류하기**"
      ],
      "metadata": {
        "id": "hmGnZPWJGIXH"
      }
    },
    {
      "cell_type": "markdown",
      "source": [
        "텐서플로를 사용해 순환 신경망을 만들어 영화 리뷰 데이터셋에 적용해서 리뷰를 긍정과 부정으로 분류한다."
      ],
      "metadata": {
        "id": "b2QrZBO1GN1H"
      }
    },
    {
      "cell_type": "markdown",
      "source": [
        "#### **용어 정리**\n",
        "- **말뭉치**(corpus): 자연어 처리에서 사용하는 텍스트 데이터의 모음 = 훈련 데이터셋\n",
        "- **토큰**: 텍스트에서 공백으로 구분되는 문자열. 종종 소문자로 변환하고 구둣점은 삭제한다.\n",
        "- **원-핫 인코딩**: 어떤 클래스에 해당하는 원소만 1이고 나머지는 모두 0인 벡터. 정수로 변환된 토큰을 원-핫 인코딩으로 변환하려면 어휘 사전 크기의 벡터가 만들어진다.\n",
        "- **단어 임베딩**: 정수로 변환된 토큰을 비교적 작은 크기의 실수 밀집 벡터로 변환한다. 이런 밀집 벡터는 단어 사이의 관계를 표현할 수 있기 때문에 자연어 처리에서 좋은 성능을 발휘한다."
      ],
      "metadata": {
        "id": "wu9Yf0o-GTS-"
      }
    },
    {
      "cell_type": "markdown",
      "source": [
        "<br><hr><br>\n",
        "\n",
        "### **IMDB 리뷰 데이터셋**"
      ],
      "metadata": {
        "id": "SWqKnpN2HIEZ"
      }
    },
    {
      "cell_type": "markdown",
      "source": [
        "IMDB 리뷰 데이터셋은 imdb.com에서 수집한 리뷰를 감상평에 따라 긍정과 부정으로 분류해 놓은 데이터셋으로,<br>\n",
        "총 50,000개의 샘플로 이루어져 있고 훈련 데이터와 테스트 데이터에 각각 25,000개씩 나누어져 있다."
      ],
      "metadata": {
        "id": "9BfmOXjsHNiu"
      }
    },
    {
      "cell_type": "markdown",
      "source": [
        "컴퓨터에서 처리하는 모든 것은 어떤 숫자 데이터이기 때문에 텍스트 데이터의 경우 단어를 숫자로 변환하는 과정이 필요하다.<br>\n",
        "일반적인 방법으로는 데이터에 등장하는 단어마다 고유한 정수를 부여하는 것이다.<br>\n",
        "단어에 매핑되는 정수는 단어의 의미나 크기와 관련이 없다."
      ],
      "metadata": {
        "id": "Zdx6j55sHjHH"
      }
    },
    {
      "cell_type": "markdown",
      "source": [
        "일반적으로 영어 문장은 모두 소문자로 바꾸고 구둣점을 삭제한 다음 공백 기준으로 분리하는데, 이렇게 분리된 단어를 **토큰**이라고 한다.<br>\n",
        "하나의 샘플은 여러 개의 토큰으로 이루어져 있고, 1개의 토큰이 하나의 타임스텝에 해당한다."
      ],
      "metadata": {
        "id": "zHKFXTb5H9Dn"
      }
    },
    {
      "cell_type": "markdown",
      "source": [
        "토큰에 할당하는 정수 중 몇 개는 특정 용도로 예약되어 있다. 예를 들어 0은 패딩, 1은 문장의 시작, 2는 어휘 사전에 없는 토큰을 나타낸다.<br>\n",
        "+) **어휘 사전**: 훈련 세트에서 고유한 단어를 뽑아 만든 목록"
      ],
      "metadata": {
        "id": "IRt4LB2YILtO"
      }
    },
    {
      "cell_type": "markdown",
      "source": [
        "IMDB 리뷰 데이터셋은 영어로된 문장이지만 텐서플로에는 이미 정수로 바꾼 데이터가 포함되어 있다.<br>\n",
        "아래와 같이 tensorflow.keras.datasets 패키지 아래 imdb 모듈을 임포트하여 사용하면 된다."
      ],
      "metadata": {
        "id": "ClOS_vLPIaff"
      }
    },
    {
      "cell_type": "code",
      "execution_count": 1,
      "metadata": {
        "colab": {
          "base_uri": "https://localhost:8080/"
        },
        "id": "NGcY0AWZF0EX",
        "outputId": "63f78f10-6112-417c-f45a-4eec5663520d"
      },
      "outputs": [
        {
          "output_type": "stream",
          "name": "stdout",
          "text": [
            "Downloading data from https://storage.googleapis.com/tensorflow/tf-keras-datasets/imdb.npz\n",
            "17465344/17464789 [==============================] - 0s 0us/step\n",
            "17473536/17464789 [==============================] - 0s 0us/step\n"
          ]
        }
      ],
      "source": [
        "from tensorflow.keras.datasets import imdb\n",
        "\n",
        "# num_words=500 ~> 전체 데이터셋에서 가장 자주 등장하는 단어 500개만 사용\n",
        "(train_input, train_target), (test_input, test_target) = imdb.load_data(num_words=500)"
      ]
    },
    {
      "cell_type": "markdown",
      "source": [
        "훈련 세트와 테스트 세트의 크기를 확인해보자."
      ],
      "metadata": {
        "id": "riA-iZXlI9KY"
      }
    },
    {
      "cell_type": "code",
      "source": [
        "print(train_input.shape, test_input.shape)"
      ],
      "metadata": {
        "colab": {
          "base_uri": "https://localhost:8080/"
        },
        "id": "GH0g4o-VI_6G",
        "outputId": "b11664df-d8bc-49ff-cec6-76b7fb31ca8f"
      },
      "execution_count": 2,
      "outputs": [
        {
          "output_type": "stream",
          "name": "stdout",
          "text": [
            "(25000,) (25000,)\n"
          ]
        }
      ]
    },
    {
      "cell_type": "markdown",
      "source": [
        "IMDB 리뷰 텍스트는 길이가 제각각이기 때문에 개별 리뷰는 각각 파이썬 리스트 객체로 이루어져 있다. <br>\n",
        "따라서 훈련 세트와 테스트 세트는 1차원 배열이 된다."
      ],
      "metadata": {
        "id": "ixmwTtFMJIcW"
      }
    },
    {
      "cell_type": "markdown",
      "source": [
        "첫 번째 리뷰와 두 번째 리뷰의 길이를 출력해보자."
      ],
      "metadata": {
        "id": "jWAwRqDNJszQ"
      }
    },
    {
      "cell_type": "code",
      "source": [
        "print(len(train_input[0]))\n",
        "print(len(train_input[1]))"
      ],
      "metadata": {
        "colab": {
          "base_uri": "https://localhost:8080/"
        },
        "id": "tkY4OJ6tJyT4",
        "outputId": "c7af8c37-324e-41e4-8fcc-c7936552ae04"
      },
      "execution_count": 4,
      "outputs": [
        {
          "output_type": "stream",
          "name": "stdout",
          "text": [
            "218\n",
            "189\n"
          ]
        }
      ]
    },
    {
      "cell_type": "markdown",
      "source": [
        "리뷰마다 길이가 다른 것을 확인할 수 있다. 이제 첫 번째 리뷰에 담긴 내용을 출력해보자."
      ],
      "metadata": {
        "id": "zrk3ejYKJ6oZ"
      }
    },
    {
      "cell_type": "code",
      "source": [
        "print(train_input[0])"
      ],
      "metadata": {
        "colab": {
          "base_uri": "https://localhost:8080/"
        },
        "id": "3qqlZL9xKAKG",
        "outputId": "c547dfc5-fa5d-4b61-eed1-04642aebdef9"
      },
      "execution_count": 5,
      "outputs": [
        {
          "output_type": "stream",
          "name": "stdout",
          "text": [
            "[1, 14, 22, 16, 43, 2, 2, 2, 2, 65, 458, 2, 66, 2, 4, 173, 36, 256, 5, 25, 100, 43, 2, 112, 50, 2, 2, 9, 35, 480, 284, 5, 150, 4, 172, 112, 167, 2, 336, 385, 39, 4, 172, 2, 2, 17, 2, 38, 13, 447, 4, 192, 50, 16, 6, 147, 2, 19, 14, 22, 4, 2, 2, 469, 4, 22, 71, 87, 12, 16, 43, 2, 38, 76, 15, 13, 2, 4, 22, 17, 2, 17, 12, 16, 2, 18, 2, 5, 62, 386, 12, 8, 316, 8, 106, 5, 4, 2, 2, 16, 480, 66, 2, 33, 4, 130, 12, 16, 38, 2, 5, 25, 124, 51, 36, 135, 48, 25, 2, 33, 6, 22, 12, 215, 28, 77, 52, 5, 14, 407, 16, 82, 2, 8, 4, 107, 117, 2, 15, 256, 4, 2, 7, 2, 5, 2, 36, 71, 43, 2, 476, 26, 400, 317, 46, 7, 4, 2, 2, 13, 104, 88, 4, 381, 15, 297, 98, 32, 2, 56, 26, 141, 6, 194, 2, 18, 4, 226, 22, 21, 134, 476, 26, 480, 5, 144, 30, 2, 18, 51, 36, 28, 224, 92, 25, 104, 4, 226, 65, 16, 38, 2, 88, 12, 16, 283, 5, 16, 2, 113, 103, 32, 15, 16, 2, 19, 178, 32]\n"
          ]
        }
      ]
    },
    {
      "cell_type": "markdown",
      "source": [
        "텐서플로에 있는 IMDB 리뷰 데이터는 이미 정수로 변환되어 있으며, 앞서 num_words=500으로 지정했기 때문에 어휘 사전에는 500개의 단어만 들어있다.<br>\n",
        "어휘 사전에 없는 단어는 모두 2로 표시되어 있다."
      ],
      "metadata": {
        "id": "G6gNnvWmKF03"
      }
    },
    {
      "cell_type": "markdown",
      "source": [
        "이번에는 타깃 데이터를 출력해보자."
      ],
      "metadata": {
        "id": "l2xI7j70KSke"
      }
    },
    {
      "cell_type": "code",
      "source": [
        "print(train_target[:20])"
      ],
      "metadata": {
        "colab": {
          "base_uri": "https://localhost:8080/"
        },
        "id": "KfNCxcukKUdN",
        "outputId": "18eb6524-8edb-43d9-b016-b66855b85868"
      },
      "execution_count": 6,
      "outputs": [
        {
          "output_type": "stream",
          "name": "stdout",
          "text": [
            "[1 0 0 1 0 0 1 0 1 0 1 0 0 0 0 0 1 1 0 1]\n"
          ]
        }
      ]
    },
    {
      "cell_type": "markdown",
      "source": [
        "해결해야 할 문제는 리뷰가 긍정(1)인지 부정(0)인지 판단하는 것이므로 이진 분류로 볼 수 있다."
      ],
      "metadata": {
        "id": "WlsSV0w4KXNO"
      }
    },
    {
      "cell_type": "markdown",
      "source": [
        "훈련 세트에서 검증 세트를 분리해보자.<br>\n",
        "20% 세트로 떼어 놓았으므로 훈련 세트의 크기는 20,000개로 줄어들 것이다."
      ],
      "metadata": {
        "id": "SD6TPGUgKfZ1"
      }
    },
    {
      "cell_type": "code",
      "source": [
        "from sklearn.model_selection import train_test_split\n",
        "\n",
        "train_input, val_input, train_target, val_target = train_test_split(train_input, train_target, test_size=0.2, random_state=42)"
      ],
      "metadata": {
        "id": "nrYU-V_LKpsf"
      },
      "execution_count": 7,
      "outputs": []
    },
    {
      "cell_type": "markdown",
      "source": [
        "이제 훈련 세트에 대해 몇 가지 조사를 해볼 것이다. 먼저 각 리뷰의 길이를 계산해 넘파이 배열에 담을 것이다.<br>\n",
        "평균적인 리뷰의 길이와 가장 짧은 리뷰의 길이, 가장 긴 리뷰의 길이를 확인할 것이기 때문이다."
      ],
      "metadata": {
        "id": "2cVaklwSL7zm"
      }
    },
    {
      "cell_type": "code",
      "source": [
        "import numpy as np\n",
        "lengths = np.array([len(x) for x in train_input])"
      ],
      "metadata": {
        "id": "N2dFIbH2MIkW"
      },
      "execution_count": 8,
      "outputs": []
    },
    {
      "cell_type": "code",
      "source": [
        "# 리뷰 길이의 평균값과 중간값 구하기\n",
        "print(np.mean(lengths), np.median(lengths))"
      ],
      "metadata": {
        "colab": {
          "base_uri": "https://localhost:8080/"
        },
        "id": "xIk7cIJ6MR0m",
        "outputId": "a13b2800-214b-445a-9ad5-9fa149f21efd"
      },
      "execution_count": 9,
      "outputs": [
        {
          "output_type": "stream",
          "name": "stdout",
          "text": [
            "239.00925 178.0\n"
          ]
        }
      ]
    },
    {
      "cell_type": "markdown",
      "source": [
        "리뷰의 평균 단어 개수가 239개, 중간값이 178인 것으로 보아 이 리뷰 길이 데이터는 한쪽으로 치우친 분포를 보일 것으로 예상된다."
      ],
      "metadata": {
        "id": "2b3CLkNoMaWn"
      }
    },
    {
      "cell_type": "markdown",
      "source": [
        "lengths 배열을 히스토그램을 표현해보자."
      ],
      "metadata": {
        "id": "PiAgEQtWMg8N"
      }
    },
    {
      "cell_type": "code",
      "source": [
        "import matplotlib.pyplot as plt\n",
        "\n",
        "plt.hist(lengths)\n",
        "plt.xlabel('length')\n",
        "plt.ylabel('frequency')\n",
        "plt.show()"
      ],
      "metadata": {
        "colab": {
          "base_uri": "https://localhost:8080/",
          "height": 279
        },
        "id": "6gDoXu9gMjI5",
        "outputId": "d47cb2cb-c0f0-49b9-fe57-59f1f29647b8"
      },
      "execution_count": 10,
      "outputs": [
        {
          "output_type": "display_data",
          "data": {
            "text/plain": [
              "<Figure size 432x288 with 1 Axes>"
            ],
            "image/png": "[encoded data removed]"
          },
          "metadata": {
            "needs_background": "light"
          }
        }
      ]
    },
    {
      "cell_type": "markdown",
      "source": [
        "역시 한쪽으로 치우친 것을 확인할 수 있다. 대부분의 리뷰 길이가 300미만이다."
      ],
      "metadata": {
        "id": "ULIEChO9MvQh"
      }
    },
    {
      "cell_type": "markdown",
      "source": [
        "리뷰는 대부분 짧아서 여기에서는 중간값보다 훨씬 짧은 100개의 단어만 사용할 것이다.<br>\n",
        "그러나 100개 단어보다 작은 리뷰가 있기 때문에 이 리뷰들의 길이를 100에 맞추기 위해 패딩을 할 것이다. <br>\n",
        "보통 패딩을 나타내는 토큰으로는 0을 사용한다."
      ],
      "metadata": {
        "id": "FMOMt0oGM2_-"
      }
    },
    {
      "cell_type": "markdown",
      "source": [
        "케라스는 시퀀스 데이터의 길이는 맞춰주는 pad_sequences() 함수를 제공한다."
      ],
      "metadata": {
        "id": "1Fz_peOCNInW"
      }
    },
    {
      "cell_type": "code",
      "source": [
        "from tensorflow.keras.preprocessing.sequence import pad_sequences\n",
        "\n",
        "# maxlen보다 긴 경우는 잘라내고, 짧은 경우는 0으로 패딩\n",
        "train_seq = pad_sequences(train_input, maxlen=100)"
      ],
      "metadata": {
        "id": "qaQLAVxxNQVF"
      },
      "execution_count": 11,
      "outputs": []
    },
    {
      "cell_type": "code",
      "source": [
        "print(train_seq.shape)"
      ],
      "metadata": {
        "colab": {
          "base_uri": "https://localhost:8080/"
        },
        "id": "8kDUluLhNgXf",
        "outputId": "6ba99ef1-6fda-4313-dc28-eb614d748edd"
      },
      "execution_count": 12,
      "outputs": [
        {
          "output_type": "stream",
          "name": "stdout",
          "text": [
            "(20000, 100)\n"
          ]
        }
      ]
    },
    {
      "cell_type": "markdown",
      "source": [
        "길이를 100으로 맞춘 train_seq는 이제 (20000, 100) 크기의 2차원 배열이 되었다."
      ],
      "metadata": {
        "id": "tESlCzWLNkWY"
      }
    },
    {
      "cell_type": "markdown",
      "source": [
        "train_seq에 있는 첫 번째 샘플을 출력해보자."
      ],
      "metadata": {
        "id": "-2j7qJLhNy-l"
      }
    },
    {
      "cell_type": "code",
      "source": [
        "print(train_seq[0])"
      ],
      "metadata": {
        "colab": {
          "base_uri": "https://localhost:8080/"
        },
        "id": "kzAY24KaNumN",
        "outputId": "6ee35fec-a89a-497c-b78d-295c5007ffc1"
      },
      "execution_count": 13,
      "outputs": [
        {
          "output_type": "stream",
          "name": "stdout",
          "text": [
            "[ 10   4  20   9   2 364 352   5  45   6   2   2  33 269   8   2 142   2\n",
            "   5   2  17  73  17 204   5   2  19  55   2   2  92  66 104  14  20  93\n",
            "  76   2 151  33   4  58  12 188   2 151  12 215  69 224 142  73 237   6\n",
            "   2   7   2   2 188   2 103  14  31  10  10 451   7   2   5   2  80  91\n",
            "   2  30   2  34  14  20 151  50  26 131  49   2  84  46  50  37  80  79\n",
            "   6   2  46   7  14  20  10  10 470 158]\n"
          ]
        }
      ]
    },
    {
      "cell_type": "code",
      "source": [
        "print(train_input[0][-10:])"
      ],
      "metadata": {
        "colab": {
          "base_uri": "https://localhost:8080/"
        },
        "id": "gIc9VZO0N27t",
        "outputId": "25b25f48-6a70-4b78-9b9f-7d3d9fc3c7b7"
      },
      "execution_count": 14,
      "outputs": [
        {
          "output_type": "stream",
          "name": "stdout",
          "text": [
            "[6, 2, 46, 7, 14, 20, 10, 10, 470, 158]\n"
          ]
        }
      ]
    },
    {
      "cell_type": "markdown",
      "source": [
        "pad_sequences()는 기본으로 maxlen보다 긴 시퀀스의 앞부분을 자른다.<br>\n",
        "보통 시퀀스의 뒷부분의 정보가 더 유용할 것이라고 기대하기 때문이다.<br>\n",
        "만약 시퀀스의 뒷부분을 잘라내고 싶다면 **`truncating='post'`**로 지정하면 된다.(기본값은 truncating='pre')"
      ],
      "metadata": {
        "id": "gHRnNL4INx1t"
      }
    },
    {
      "cell_type": "markdown",
      "source": [
        "이번에는 train_seq에 있는 여섯 번째 샘플을 출력해볼 것이다."
      ],
      "metadata": {
        "id": "85wx59MKOTq-"
      }
    },
    {
      "cell_type": "code",
      "source": [
        "print(train_seq[5])"
      ],
      "metadata": {
        "colab": {
          "base_uri": "https://localhost:8080/"
        },
        "id": "QDfD0MyrOXkV",
        "outputId": "94b141c3-8a48-42b2-93be-3d5fcb64a7e9"
      },
      "execution_count": 15,
      "outputs": [
        {
          "output_type": "stream",
          "name": "stdout",
          "text": [
            "[  0   0   0   0   1   2 195  19  49   2   2 190   4   2 352   2 183  10\n",
            "  10  13  82  79   4   2  36  71 269   8   2  25  19  49   7   4   2   2\n",
            "   2   2   2  10  10  48  25  40   2  11   2   2  40   2   2   5   4   2\n",
            "   2  95  14 238  56 129   2  10  10  21   2  94 364 352   2   2  11 190\n",
            "  24 484   2   7  94 205 405  10  10  87   2  34  49   2   7   2   2   2\n",
            "   2   2 290   2  46  48  64  18   4   2]\n"
          ]
        }
      ]
    },
    {
      "cell_type": "markdown",
      "source": [
        "이 샘플의 길이는 100보다 짧기 때문에 앞부분에 0으로 패딩된 것을 알 수 있다.<br>\n",
        "위와 같은 이유로 패딩 토큰은 시퀀스의 앞부분에 추가된다.<br>\n",
        "그러나 **`padding='post'`**로 바꾸면 샘플의 뒷부분에 패딩을 추가할 수 있다.(기본값은 padding='pre')"
      ],
      "metadata": {
        "id": "2UtiNMRFOabd"
      }
    },
    {
      "cell_type": "markdown",
      "source": [
        "그러면 같은 방식으로 검증 세트의 길이도 100으로 맞춰보자."
      ],
      "metadata": {
        "id": "MmUOdU0ZOtd9"
      }
    },
    {
      "cell_type": "code",
      "source": [
        "val_seq = pad_sequences(val_input, maxlen=100)"
      ],
      "metadata": {
        "id": "8D5UPpfGOxjt"
      },
      "execution_count": 16,
      "outputs": []
    },
    {
      "cell_type": "markdown",
      "source": [
        "<br><hr><br>\n",
        "훈련 세트와 검증 세트 준비를 마쳤으므로 본격적으로 순환 신경망 모델을 만들어 볼 것이다.\n",
        "\n",
        "### **순환 신경망 만들기**"
      ],
      "metadata": {
        "id": "eAwdxlnKO3n1"
      }
    },
    {
      "cell_type": "markdown",
      "source": [
        "케라스는 여러 종류의 순환층 클래스를 제공하는데, 그중 가장 간단한 **SimpleRNN **클래스를 사용할 것이다.<br>\n",
        "IMDB 리뷰 분류 문제는 이진 분류이므로 마지막 출력층은 1개의 뉴런을 가지고 시그모이드 활성화 함수를 사용해야 한다."
      ],
      "metadata": {
        "id": "Pri_3GZ3PBF1"
      }
    },
    {
      "cell_type": "code",
      "source": [
        "from tensorflow import keras\n",
        "\n",
        "model = keras.Sequential()\n",
        "model.add(keras.layers.SimpleRNN(8, input_shape=(100, 500)))\n",
        "model.add(keras.layers.Dense(1, activation='sigmoid'))"
      ],
      "metadata": {
        "id": "kQW9vb8WPRDw"
      },
      "execution_count": 17,
      "outputs": []
    },
    {
      "cell_type": "markdown",
      "source": [
        "정수 데이터를 신경망에 주입하면 큰 정수가 큰 활성화 출력을 만들게 된다.<br>\n",
        "그러나 우리가 사용할 토큰을 정수로 변환한 데이터들 사이에는 어떤 관련이 없다.<br> \n",
        "따라서 단순한 정숫값을 신경망에 입력하기 위해서는 정숫값에 있는 크기 속성을 없애야 하는데, 먼저 **원-핫 인코딩** 방식을 적용해 볼 것이다."
      ],
      "metadata": {
        "id": "XGK_Q-kNQT6N"
      }
    },
    {
      "cell_type": "markdown",
      "source": [
        "+) **원-핫 인코딩**: 정숫값을 배열에서 해당 정수 위치의 원소만 1이고 나머지는 모두 0으로 변환"
      ],
      "metadata": {
        "id": "KDP-ivVpRHxN"
      }
    },
    {
      "cell_type": "code",
      "source": [
        " train_oh = keras.utils.to_categorical(train_seq)"
      ],
      "metadata": {
        "id": "Gm3JuPamR-uV"
      },
      "execution_count": 18,
      "outputs": []
    },
    {
      "cell_type": "code",
      "source": [
        "print(train_oh.shape)"
      ],
      "metadata": {
        "colab": {
          "base_uri": "https://localhost:8080/"
        },
        "id": "1Onb_xKWSGxN",
        "outputId": "f53c9625-50ba-4fdc-af0d-e904260325dc"
      },
      "execution_count": 20,
      "outputs": [
        {
          "output_type": "stream",
          "name": "stdout",
          "text": [
            "(20000, 100, 500)\n"
          ]
        }
      ]
    },
    {
      "cell_type": "markdown",
      "source": [
        "정수 하나마다 모두 500차원의 배열로 변경되었기 때문에 (20000,100) 크기의 train_seq가 (20000, 100, 500)크기의 train_oh로 바뀌었다.<br>\n",
        "이렇게 샘플 데이터의 크기가 1차원 정수 배열(100,)에서 2차원 배열(100,500)으로 바뀌어야 하므로 SimpleRNN 클래스의 input_shape 값을 (100,500)으로 지정해줘야 한다."
      ],
      "metadata": {
        "id": "v0Su5zOXSNdL"
      }
    },
    {
      "cell_type": "markdown",
      "source": [
        "train_oh의 첫 번째 샘플의 첫 번째 토큰 10이 잘 인코딩되었는지 출력해보자."
      ],
      "metadata": {
        "id": "VI4MqE2lSs-W"
      }
    },
    {
      "cell_type": "code",
      "source": [
        "print(train_oh[0][0][:12])"
      ],
      "metadata": {
        "colab": {
          "base_uri": "https://localhost:8080/"
        },
        "id": "U8FUjD_JSxo5",
        "outputId": "e2413588-e7ac-4300-bba9-e093dc3f3a5c"
      },
      "execution_count": 22,
      "outputs": [
        {
          "output_type": "stream",
          "name": "stdout",
          "text": [
            "[0. 0. 0. 0. 0. 0. 0. 0. 0. 0. 1. 0.]\n"
          ]
        }
      ]
    },
    {
      "cell_type": "code",
      "source": [
        "print(np.sum(train_oh[0][0]))"
      ],
      "metadata": {
        "colab": {
          "base_uri": "https://localhost:8080/"
        },
        "id": "SFiEV7XtS41V",
        "outputId": "e93bf84b-0253-44c5-9887-320b11a041af"
      },
      "execution_count": 23,
      "outputs": [
        {
          "output_type": "stream",
          "name": "stdout",
          "text": [
            "1.0\n"
          ]
        }
      ]
    },
    {
      "cell_type": "markdown",
      "source": [
        "열한 번째 원소가 1이고, 모든 원소의 합이 1인 것을 보아 잘 인코딩 된 것을 알 수 있다."
      ],
      "metadata": {
        "id": "igojVTm9S8aV"
      }
    },
    {
      "cell_type": "markdown",
      "source": [
        "같은 방식으로 val_seq도 원-핫 인코딩으로 바꿔 놓으면 된다."
      ],
      "metadata": {
        "id": "OwwN2tqoTC-N"
      }
    },
    {
      "cell_type": "code",
      "source": [
        "val_oh = keras.utils.to_categorical(val_seq)"
      ],
      "metadata": {
        "id": "Lkw4t1MOTGp1"
      },
      "execution_count": 24,
      "outputs": []
    },
    {
      "cell_type": "markdown",
      "source": [
        "이제 훈련세 사용할 훈련 세트와 검증 세트가 모두 준비되었다.<br>\n",
        "앞서 만든 모델의 구조를 출력해보자."
      ],
      "metadata": {
        "id": "n-Mh9V7QTLt5"
      }
    },
    {
      "cell_type": "code",
      "source": [
        "model.summary()"
      ],
      "metadata": {
        "colab": {
          "base_uri": "https://localhost:8080/"
        },
        "id": "HPgHhAEeTKzM",
        "outputId": "63f6e6e2-22eb-488b-ad61-a1c91e23c92f"
      },
      "execution_count": 25,
      "outputs": [
        {
          "output_type": "stream",
          "name": "stdout",
          "text": [
            "Model: \"sequential\"\n",
            "_________________________________________________________________\n",
            " Layer (type)                Output Shape              Param #   \n",
            "=================================================================\n",
            " simple_rnn (SimpleRNN)      (None, 8)                 4072      \n",
            "                                                                 \n",
            " dense (Dense)               (None, 1)                 9         \n",
            "                                                                 \n",
            "=================================================================\n",
            "Total params: 4,081\n",
            "Trainable params: 4,081\n",
            "Non-trainable params: 0\n",
            "_________________________________________________________________\n"
          ]
        }
      ]
    },
    {
      "cell_type": "markdown",
      "source": [
        "SimpleRNN에 전달한 샘플의 크기는 (100,500)이지만 이 순환층은 마지막 타임스텝의 은닉 상태만 출력하므로, 출력 크기가 순환층의 뉴런 개수와 동일한 8임을 확인할 수 있다."
      ],
      "metadata": {
        "id": "GnSSb8aWTUz1"
      }
    },
    {
      "cell_type": "markdown",
      "source": [
        "**순환층에 사용된 모델 파라미터 개수 계산**\n",
        "- 입력 토큰은 500차원의 원-핫 인코딩 배열이고, 이 배열이 순환층의 뉴런 8개와 완전히 연결되므로 `500 * 8 = 4,000`개의 가중치가 있다.\n",
        "\n",
        "- 순환층의 은닉 상태는 다시 다음 타임스텝에 사용되기 위해 또 다른 가중치와 곱해지는데, 이 은닉 상태도 순환층의 뉴런과 완전히 연결되기 때문에 `8(은닉 상태 크기) * 8(뉴런 개수) = 64`개의 가중치가 필요하다.\n",
        "\n",
        "- 뉴런마다 하나의 절편이 있으므로, `4,000 + 64 + 8 = 4,072`개의 모델 파라미터가 필요하다."
      ],
      "metadata": {
        "id": "wcctdzDiTkRm"
      }
    },
    {
      "cell_type": "markdown",
      "source": [
        "<br><hr><br>\n",
        "\n",
        "### **순환 신경망 훈련하기**"
      ],
      "metadata": {
        "id": "ZCCuDIvfUKa-"
      }
    },
    {
      "cell_type": "markdown",
      "source": [
        "- 기본 RMSprop의 학습률을 0.0001로 지정하기 위해 별도의 객체를 만든다.\n",
        "- 에포크 횟수를 100으로 늘리고 배치 크기는 64개로 설정한다.\n",
        "- 나머지 체크포인트와 조기 종료를 구성하는 코드는 이전 신경망들과 거의 동일하다."
      ],
      "metadata": {
        "id": "Q3p7ut1CUPR1"
      }
    },
    {
      "cell_type": "code",
      "source": [
        "rmsprop = keras.optimizers.RMSprop(learning_rate=1e-4)\n",
        "model.compile(optimizer=rmsprop, loss='binary_crossentropy', \n",
        "              metrics=['accuracy'])\n",
        "checkpoint_cb = keras.callbacks.ModelCheckpoint('best-simplernn-model.h5', save_best_only=True)\n",
        "early_stopping_cb = keras.callbacks.EarlyStopping(patience=3, restore_best_weights=True)\n",
        "history = model.fit(train_oh, train_target, epochs=100, batch_size=64,\n",
        "                    validation_data=(val_oh, val_target),\n",
        "                    callbacks=[checkpoint_cb, early_stopping_cb])"
      ],
      "metadata": {
        "colab": {
          "base_uri": "https://localhost:8080/"
        },
        "id": "krBbfvC5Udq2",
        "outputId": "c3b77234-211d-465a-977e-5cd4b06cc409"
      },
      "execution_count": 26,
      "outputs": [
        {
          "output_type": "stream",
          "name": "stdout",
          "text": [
            "Epoch 1/100\n",
            "313/313 [==============================] - 33s 91ms/step - loss: 0.6982 - accuracy: 0.5010 - val_loss: 0.6970 - val_accuracy: 0.5040\n",
            "Epoch 2/100\n",
            "313/313 [==============================] - 25s 79ms/step - loss: 0.6952 - accuracy: 0.5093 - val_loss: 0.6955 - val_accuracy: 0.5084\n",
            "Epoch 3/100\n",
            "313/313 [==============================] - 25s 78ms/step - loss: 0.6932 - accuracy: 0.5169 - val_loss: 0.6945 - val_accuracy: 0.5094\n",
            "Epoch 4/100\n",
            "313/313 [==============================] - 26s 82ms/step - loss: 0.6916 - accuracy: 0.5227 - val_loss: 0.6937 - val_accuracy: 0.5154\n",
            "Epoch 5/100\n",
            "313/313 [==============================] - 25s 78ms/step - loss: 0.6901 - accuracy: 0.5294 - val_loss: 0.6929 - val_accuracy: 0.5144\n",
            "Epoch 6/100\n",
            "313/313 [==============================] - 25s 80ms/step - loss: 0.6888 - accuracy: 0.5357 - val_loss: 0.6923 - val_accuracy: 0.5220\n",
            "Epoch 7/100\n",
            "313/313 [==============================] - 25s 80ms/step - loss: 0.6875 - accuracy: 0.5411 - val_loss: 0.6916 - val_accuracy: 0.5256\n",
            "Epoch 8/100\n",
            "313/313 [==============================] - 25s 81ms/step - loss: 0.6862 - accuracy: 0.5465 - val_loss: 0.6911 - val_accuracy: 0.5274\n",
            "Epoch 9/100\n",
            "313/313 [==============================] - 25s 79ms/step - loss: 0.6849 - accuracy: 0.5519 - val_loss: 0.6906 - val_accuracy: 0.5324\n",
            "Epoch 10/100\n",
            "313/313 [==============================] - 25s 80ms/step - loss: 0.6835 - accuracy: 0.5571 - val_loss: 0.6901 - val_accuracy: 0.5362\n",
            "Epoch 11/100\n",
            "313/313 [==============================] - 26s 82ms/step - loss: 0.6822 - accuracy: 0.5621 - val_loss: 0.6897 - val_accuracy: 0.5366\n",
            "Epoch 12/100\n",
            "313/313 [==============================] - 26s 82ms/step - loss: 0.6807 - accuracy: 0.5659 - val_loss: 0.6893 - val_accuracy: 0.5384\n",
            "Epoch 13/100\n",
            "313/313 [==============================] - 25s 80ms/step - loss: 0.6793 - accuracy: 0.5702 - val_loss: 0.6889 - val_accuracy: 0.5378\n",
            "Epoch 14/100\n",
            "313/313 [==============================] - 25s 81ms/step - loss: 0.6778 - accuracy: 0.5737 - val_loss: 0.6886 - val_accuracy: 0.5382\n",
            "Epoch 15/100\n",
            "313/313 [==============================] - 25s 80ms/step - loss: 0.6761 - accuracy: 0.5788 - val_loss: 0.6884 - val_accuracy: 0.5378\n",
            "Epoch 16/100\n",
            "313/313 [==============================] - 25s 81ms/step - loss: 0.6745 - accuracy: 0.5810 - val_loss: 0.6880 - val_accuracy: 0.5368\n",
            "Epoch 17/100\n",
            "313/313 [==============================] - 25s 80ms/step - loss: 0.6728 - accuracy: 0.5853 - val_loss: 0.6878 - val_accuracy: 0.5384\n",
            "Epoch 18/100\n",
            "313/313 [==============================] - 25s 79ms/step - loss: 0.6710 - accuracy: 0.5897 - val_loss: 0.6877 - val_accuracy: 0.5370\n",
            "Epoch 19/100\n",
            "313/313 [==============================] - 25s 79ms/step - loss: 0.6691 - accuracy: 0.5928 - val_loss: 0.6875 - val_accuracy: 0.5432\n",
            "Epoch 20/100\n",
            "313/313 [==============================] - 25s 81ms/step - loss: 0.6672 - accuracy: 0.5980 - val_loss: 0.6874 - val_accuracy: 0.5422\n",
            "Epoch 21/100\n",
            "313/313 [==============================] - 25s 81ms/step - loss: 0.6652 - accuracy: 0.6000 - val_loss: 0.6872 - val_accuracy: 0.5452\n",
            "Epoch 22/100\n",
            "313/313 [==============================] - 25s 81ms/step - loss: 0.6632 - accuracy: 0.6046 - val_loss: 0.6871 - val_accuracy: 0.5426\n",
            "Epoch 23/100\n",
            "313/313 [==============================] - 25s 81ms/step - loss: 0.6612 - accuracy: 0.6088 - val_loss: 0.6867 - val_accuracy: 0.5494\n",
            "Epoch 24/100\n",
            "313/313 [==============================] - 26s 84ms/step - loss: 0.6590 - accuracy: 0.6113 - val_loss: 0.6866 - val_accuracy: 0.5426\n",
            "Epoch 25/100\n",
            "313/313 [==============================] - 25s 81ms/step - loss: 0.6569 - accuracy: 0.6144 - val_loss: 0.6865 - val_accuracy: 0.5480\n",
            "Epoch 26/100\n",
            "313/313 [==============================] - 25s 81ms/step - loss: 0.6546 - accuracy: 0.6176 - val_loss: 0.6860 - val_accuracy: 0.5504\n",
            "Epoch 27/100\n",
            "313/313 [==============================] - 25s 80ms/step - loss: 0.6524 - accuracy: 0.6222 - val_loss: 0.6858 - val_accuracy: 0.5516\n",
            "Epoch 28/100\n",
            "313/313 [==============================] - 26s 82ms/step - loss: 0.6500 - accuracy: 0.6261 - val_loss: 0.6857 - val_accuracy: 0.5534\n",
            "Epoch 29/100\n",
            "313/313 [==============================] - 25s 80ms/step - loss: 0.6478 - accuracy: 0.6272 - val_loss: 0.6855 - val_accuracy: 0.5548\n",
            "Epoch 30/100\n",
            "313/313 [==============================] - 25s 80ms/step - loss: 0.6455 - accuracy: 0.6324 - val_loss: 0.6853 - val_accuracy: 0.5570\n",
            "Epoch 31/100\n",
            "313/313 [==============================] - 25s 80ms/step - loss: 0.6431 - accuracy: 0.6345 - val_loss: 0.6852 - val_accuracy: 0.5568\n",
            "Epoch 32/100\n",
            "313/313 [==============================] - 25s 81ms/step - loss: 0.6409 - accuracy: 0.6388 - val_loss: 0.6850 - val_accuracy: 0.5566\n",
            "Epoch 33/100\n",
            "313/313 [==============================] - 25s 81ms/step - loss: 0.6387 - accuracy: 0.6410 - val_loss: 0.6848 - val_accuracy: 0.5580\n",
            "Epoch 34/100\n",
            "313/313 [==============================] - 25s 79ms/step - loss: 0.6363 - accuracy: 0.6439 - val_loss: 0.6838 - val_accuracy: 0.5596\n",
            "Epoch 35/100\n",
            "313/313 [==============================] - 25s 80ms/step - loss: 0.6339 - accuracy: 0.6482 - val_loss: 0.6842 - val_accuracy: 0.5610\n",
            "Epoch 36/100\n",
            "313/313 [==============================] - 26s 82ms/step - loss: 0.6318 - accuracy: 0.6478 - val_loss: 0.6839 - val_accuracy: 0.5634\n",
            "Epoch 37/100\n",
            "313/313 [==============================] - 25s 81ms/step - loss: 0.6294 - accuracy: 0.6502 - val_loss: 0.6845 - val_accuracy: 0.5604\n"
          ]
        }
      ]
    },
    {
      "cell_type": "markdown",
      "source": [
        "훈련 손실과 검증 손실을 그래프로 그려서 훈련 과정을 살펴보자."
      ],
      "metadata": {
        "id": "06co7zvvU-H-"
      }
    },
    {
      "cell_type": "code",
      "source": [
        "plt.plot(history.history['loss'])\n",
        "plt.plot(history.history['val_loss'])\n",
        "plt.xlabel('epoch')\n",
        "plt.ylabel('loss')\n",
        "plt.legend(['train', 'val'])\n",
        "plt.show()"
      ],
      "metadata": {
        "colab": {
          "base_uri": "https://localhost:8080/",
          "height": 279
        },
        "id": "frhQy6-dVDIe",
        "outputId": "034d4427-e087-49a6-8e40-0a6c23ac9c88"
      },
      "execution_count": 27,
      "outputs": [
        {
          "output_type": "display_data",
          "data": {
            "text/plain": [
              "<Figure size 432x288 with 1 Axes>"
            ],
            "image/png": "[encoded data removed]"
          },
          "metadata": {
            "needs_background": "light"
          }
        }
      ]
    },
    {
      "cell_type": "markdown",
      "source": [
        "훈련 손실은 꾸준히 감소하고 있지만 검증 손실은 대략 스무 번째 에포크에서 감소가 둔해지고 있는 것을 보아 적절한 에포크에서 훈련을 멈춘 것 같다.<br>\n",
        "순환 신경망을 성공적으로 훈련시켜서 IMDB 리뷰 데이터를 긍정과 부정으로 분류하는 작업을 수행했다."
      ],
      "metadata": {
        "id": "gYo_-yjbVHAt"
      }
    },
    {
      "cell_type": "markdown",
      "source": [
        "그러나 원-핫 인코딩의 단점이 있다. 입력 데이터가 엄청 커진다는 것이다.<br>\n",
        "토큰 1개를 500차원으로 늘렸기 때문에 약 500배가 커진다."
      ],
      "metadata": {
        "id": "87SZT09nVV-2"
      }
    },
    {
      "cell_type": "markdown",
      "source": [
        ""
      ],
      "metadata": {
        "id": "E0qOva_NV9Qo"
      }
    },
    {
      "cell_type": "code",
      "source": [
        "print(train_seq.nbytes, train_oh.nbytes)"
      ],
      "metadata": {
        "colab": {
          "base_uri": "https://localhost:8080/"
        },
        "id": "0oRFJb8cVnI7",
        "outputId": "f3c19a49-7ae2-4e7d-d719-24fce4590f0d"
      },
      "execution_count": 28,
      "outputs": [
        {
          "output_type": "stream",
          "name": "stdout",
          "text": [
            "8000000 4000000000\n"
          ]
        }
      ]
    },
    {
      "cell_type": "markdown",
      "source": [
        "<br><hr><br>\n",
        "\n",
        "### **단어 임베딩 사용하기**"
      ],
      "metadata": {
        "id": "xUhQWmE-VrsD"
      }
    },
    {
      "cell_type": "markdown",
      "source": [
        "순환 신경망에서 텍스트를 처리할 때는 **단어 임베딩**을 즐겨 사용한다.<br>\n",
        "단어 임베딩은 각 단어를 고정된 크기의 실수 벡터로 바꿔준다."
      ],
      "metadata": {
        "id": "W28DXLfTVwzS"
      }
    },
    {
      "cell_type": "markdown",
      "source": [
        "단어 임베딩으로 만들어진 벡터는 원-핫 인코딩된 벡터보다 훨씬 의미있는 값으로 채워지기 때문에 자연어 처리에서 더 좋은 성능을 내는 경우가 많다."
      ],
      "metadata": {
        "id": "xsiu5uIDV_ed"
      }
    },
    {
      "cell_type": "markdown",
      "source": [
        "케라스의 Embedding 클래스를 SimpleRNN 층 앞에 추가한 두 번째 순환 신경망을 만들어보자."
      ],
      "metadata": {
        "id": "K5ozEgA-WKxl"
      }
    },
    {
      "cell_type": "code",
      "source": [
        "model2 = keras.Sequential()\n",
        "# 임베딩 벡터 크기 = 16\n",
        "model2.add(keras.layers.Embedding(500, 16, input_length=100))\n",
        "model2.add(keras.layers.SimpleRNN(8))\n",
        "model2.add(keras.layers.Dense(1, activation='sigmoid'))\n",
        "\n",
        "model2.summary()"
      ],
      "metadata": {
        "colab": {
          "base_uri": "https://localhost:8080/"
        },
        "id": "9gQxw_9mWRNd",
        "outputId": "e5c334ba-dd6f-4b05-ade4-b2465d3746bf"
      },
      "execution_count": 29,
      "outputs": [
        {
          "output_type": "stream",
          "name": "stdout",
          "text": [
            "Model: \"sequential_1\"\n",
            "_________________________________________________________________\n",
            " Layer (type)                Output Shape              Param #   \n",
            "=================================================================\n",
            " embedding (Embedding)       (None, 100, 16)           8000      \n",
            "                                                                 \n",
            " simple_rnn_1 (SimpleRNN)    (None, 8)                 200       \n",
            "                                                                 \n",
            " dense_1 (Dense)             (None, 1)                 9         \n",
            "                                                                 \n",
            "=================================================================\n",
            "Total params: 8,209\n",
            "Trainable params: 8,209\n",
            "Non-trainable params: 0\n",
            "_________________________________________________________________\n"
          ]
        }
      ]
    },
    {
      "cell_type": "markdown",
      "source": [
        "**모델 파라미터 개수 계산**\n",
        "- Embedding 클래스는 500개의 각 토큰을 크기가 16인 벡터로 변경하기 때문에 총 `500 * 16 = 8,000`개의 모델 파라미터를 가진다.\n",
        "- SimpleRNN 층은 임베딩 벡터의 크기가 16이므로 8개의 뉴런과 곱하기 위해 필요한 가중치 `16 * 8 =128`개를 가진다.\n",
        "- 은닉 상태에 곱해지는 가중치 `8 * 8 =64`개\n",
        "- 8개의 절편이 있으므로 이 순환층에 있는 전체 모델 파라미터의 개수는 `128 + 4 + 8 = 200`개 이다.\n",
        "- 마지막 Dense 층의 가중치 개수는 이전과 동일하게 9개이다."
      ],
      "metadata": {
        "id": "kuRpPjJkWdJu"
      }
    },
    {
      "cell_type": "markdown",
      "source": [
        "모델 훈련 과정은 이전과 동일하다."
      ],
      "metadata": {
        "id": "xfOXW4TsW9LP"
      }
    },
    {
      "cell_type": "code",
      "source": [
        "rmsprop = keras.optimizers.RMSprop(learning_rate=1e-4)\n",
        "model2.compile(optimizer=rmsprop, loss='binary_crossentropy', \n",
        "               metrics=['accuracy'])\n",
        "checkpoint_cb = keras.callbacks.ModelCheckpoint('best-embedding-model.h5', \n",
        "                                                save_best_only=True)\n",
        "early_stopping_cb = keras.callbacks.EarlyStopping(patience=3,\n",
        "                                                  restore_best_weights=True)\n",
        "\n",
        "history = model2.fit(train_seq, train_target, epochs=100, batch_size=64,\n",
        "                     validation_data=(val_seq, val_target),\n",
        "                     callbacks=[checkpoint_cb, early_stopping_cb])"
      ],
      "metadata": {
        "colab": {
          "base_uri": "https://localhost:8080/"
        },
        "id": "Df0SnJ47XCD-",
        "outputId": "58e8bbd2-9d44-4518-9767-ca9350bc45e8"
      },
      "execution_count": 30,
      "outputs": [
        {
          "output_type": "stream",
          "name": "stdout",
          "text": [
            "Epoch 1/100\n",
            "313/313 [==============================] - 32s 100ms/step - loss: 0.6885 - accuracy: 0.5405 - val_loss: 0.6705 - val_accuracy: 0.6190\n",
            "Epoch 2/100\n",
            "313/313 [==============================] - 31s 97ms/step - loss: 0.6562 - accuracy: 0.6473 - val_loss: 0.6413 - val_accuracy: 0.6702\n",
            "Epoch 3/100\n",
            "313/313 [==============================] - 31s 100ms/step - loss: 0.6259 - accuracy: 0.6965 - val_loss: 0.6196 - val_accuracy: 0.6986\n",
            "Epoch 4/100\n",
            "313/313 [==============================] - 30s 97ms/step - loss: 0.5991 - accuracy: 0.7269 - val_loss: 0.5964 - val_accuracy: 0.7206\n",
            "Epoch 5/100\n",
            "313/313 [==============================] - 30s 97ms/step - loss: 0.5764 - accuracy: 0.7476 - val_loss: 0.5730 - val_accuracy: 0.7472\n",
            "Epoch 6/100\n",
            "313/313 [==============================] - 31s 99ms/step - loss: 0.5575 - accuracy: 0.7581 - val_loss: 0.5569 - val_accuracy: 0.7500\n",
            "Epoch 7/100\n",
            "313/313 [==============================] - 31s 98ms/step - loss: 0.5405 - accuracy: 0.7657 - val_loss: 0.5411 - val_accuracy: 0.7582\n",
            "Epoch 8/100\n",
            "313/313 [==============================] - 30s 97ms/step - loss: 0.5249 - accuracy: 0.7753 - val_loss: 0.5298 - val_accuracy: 0.7652\n",
            "Epoch 9/100\n",
            "313/313 [==============================] - 30s 94ms/step - loss: 0.5119 - accuracy: 0.7814 - val_loss: 0.5187 - val_accuracy: 0.7658\n",
            "Epoch 10/100\n",
            "313/313 [==============================] - 31s 98ms/step - loss: 0.4993 - accuracy: 0.7865 - val_loss: 0.5090 - val_accuracy: 0.7734\n",
            "Epoch 11/100\n",
            "313/313 [==============================] - 30s 97ms/step - loss: 0.4875 - accuracy: 0.7921 - val_loss: 0.5020 - val_accuracy: 0.7752\n",
            "Epoch 12/100\n",
            "313/313 [==============================] - 31s 98ms/step - loss: 0.4776 - accuracy: 0.7969 - val_loss: 0.4916 - val_accuracy: 0.7824\n",
            "Epoch 13/100\n",
            "313/313 [==============================] - 31s 99ms/step - loss: 0.4685 - accuracy: 0.8011 - val_loss: 0.4856 - val_accuracy: 0.7812\n",
            "Epoch 14/100\n",
            "313/313 [==============================] - 31s 98ms/step - loss: 0.4609 - accuracy: 0.8041 - val_loss: 0.4804 - val_accuracy: 0.7834\n",
            "Epoch 15/100\n",
            "313/313 [==============================] - 31s 98ms/step - loss: 0.4540 - accuracy: 0.8042 - val_loss: 0.4763 - val_accuracy: 0.7840\n",
            "Epoch 16/100\n",
            "313/313 [==============================] - 30s 96ms/step - loss: 0.4480 - accuracy: 0.8084 - val_loss: 0.4751 - val_accuracy: 0.7836\n",
            "Epoch 17/100\n",
            "313/313 [==============================] - 31s 100ms/step - loss: 0.4428 - accuracy: 0.8101 - val_loss: 0.4736 - val_accuracy: 0.7820\n",
            "Epoch 18/100\n",
            "313/313 [==============================] - 31s 100ms/step - loss: 0.4382 - accuracy: 0.8101 - val_loss: 0.4675 - val_accuracy: 0.7848\n",
            "Epoch 19/100\n",
            "313/313 [==============================] - 30s 95ms/step - loss: 0.4338 - accuracy: 0.8113 - val_loss: 0.4675 - val_accuracy: 0.7850\n",
            "Epoch 20/100\n",
            "313/313 [==============================] - 31s 98ms/step - loss: 0.4301 - accuracy: 0.8145 - val_loss: 0.4637 - val_accuracy: 0.7896\n",
            "Epoch 21/100\n",
            "313/313 [==============================] - 30s 97ms/step - loss: 0.4271 - accuracy: 0.8145 - val_loss: 0.4707 - val_accuracy: 0.7816\n",
            "Epoch 22/100\n",
            "313/313 [==============================] - 30s 97ms/step - loss: 0.4243 - accuracy: 0.8163 - val_loss: 0.4666 - val_accuracy: 0.7840\n",
            "Epoch 23/100\n",
            "313/313 [==============================] - 31s 99ms/step - loss: 0.4210 - accuracy: 0.8162 - val_loss: 0.4641 - val_accuracy: 0.7858\n"
          ]
        }
      ]
    },
    {
      "cell_type": "markdown",
      "source": [
        "출력 결과를 보면 원-핫 인코딩을 사용한 모델과 비슷한 성능을 냈다.<br>\n",
        "반면 순환층의 가중치 개수는 훨씬 작고 훈련 세트 크기도 훨씬 줄어들었다."
      ],
      "metadata": {
        "id": "2NjNODbVXFXd"
      }
    },
    {
      "cell_type": "markdown",
      "source": [
        "훈련 손실과 검증 손실을 그래프로 출력해보자."
      ],
      "metadata": {
        "id": "tywbw9tbXNcC"
      }
    },
    {
      "cell_type": "code",
      "source": [
        "plt.plot(history.history['loss'])\n",
        "plt.plot(history.history['val_loss'])\n",
        "plt.xlabel('epoch')\n",
        "plt.ylabel('loss')\n",
        "plt.legend(['train', 'val'])\n",
        "plt.show()"
      ],
      "metadata": {
        "colab": {
          "base_uri": "https://localhost:8080/",
          "height": 282
        },
        "id": "MKQ5QQomXSHD",
        "outputId": "6bbd80fc-73dd-4c5b-c840-8dc4589e9315"
      },
      "execution_count": 31,
      "outputs": [
        {
          "output_type": "display_data",
          "data": {
            "text/plain": [
              "<Figure size 432x288 with 1 Axes>"
            ],
            "image/png": "[encoded data removed]"
          },
          "metadata": {
            "needs_background": "light"
          }
        }
      ]
    },
    {
      "cell_type": "markdown",
      "source": [
        "검증 손실이 더 감소되지 않아 훈련이 적절히 조기 종료된 것 같다.<br>\n",
        "이에 비해 훈련 손실은 계속 감소되고 있다."
      ],
      "metadata": {
        "id": "6mbJr0mwXUFi"
      }
    }
  ]
}