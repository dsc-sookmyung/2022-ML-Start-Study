{
  "nbformat": 4,
  "nbformat_minor": 0,
  "metadata": {
    "colab": {
      "name": "09-2. 순환 신경망으로 IMDB 리뷰 분류하기.ipynb",
      "provenance": [],
      "collapsed_sections": []
    },
    "kernelspec": {
      "name": "python3",
      "display_name": "Python 3"
    },
    "language_info": {
      "name": "python"
    },
    "accelerator": "GPU",
    "gpuClass": "standard"
  },
  "cells": [
    {
      "cell_type": "markdown",
      "source": [
        "# 09-2 순환 신경망으로 IMDB 리뷰 분류하기"
      ],
      "metadata": {
        "id": "LPgUfpObryez"
      }
    },
    {
      "cell_type": "markdown",
      "source": [
        "## IMDB 리뷰 데이터셋"
      ],
      "metadata": {
        "id": "J02HnBXYr2lc"
      }
    },
    {
      "cell_type": "markdown",
      "source": [
        "### 케라스로 IMDB 데이터 불러오기"
      ],
      "metadata": {
        "id": "WvG92J9Tr2-9"
      }
    },
    {
      "cell_type": "code",
      "source": [
        "# imdb 모듈을 임포트하여 데이터를 적재한 후, 가장 자주 등장하는 단어 500개만 사용하도록 num_words 매개변수를 지정\n",
        "from tensorflow.keras.datasets import imdb\n",
        "(train_input, train_target), (test_input, test_target) = imdb.load_data(num_words=500)"
      ],
      "metadata": {
        "colab": {
          "base_uri": "https://localhost:8080/"
        },
        "id": "w-0_Clndr403",
        "outputId": "48619a79-5585-4390-dd84-a1bb0bda5162"
      },
      "execution_count": 1,
      "outputs": [
        {
          "output_type": "stream",
          "name": "stdout",
          "text": [
            "Downloading data from https://storage.googleapis.com/tensorflow/tf-keras-datasets/imdb.npz\n",
            "17465344/17464789 [==============================] - 0s 0us/step\n",
            "17473536/17464789 [==============================] - 0s 0us/step\n"
          ]
        }
      ]
    },
    {
      "cell_type": "code",
      "source": [
        "# 훈련 세트와 테스트 세트의 크기를 확인\n",
        "# 각각 25000개의 1차원 배열 샘플\n",
        "print(train_input.shape, test_input.shape)"
      ],
      "metadata": {
        "colab": {
          "base_uri": "https://localhost:8080/"
        },
        "id": "Mi-4rHGEsCNc",
        "outputId": "26ddc2a9-b4c8-485d-c22b-c455d3509a25"
      },
      "execution_count": 2,
      "outputs": [
        {
          "output_type": "stream",
          "name": "stdout",
          "text": [
            "(25000,) (25000,)\n"
          ]
        }
      ]
    },
    {
      "cell_type": "code",
      "source": [
        "# 첫 번째 리뷰에 담긴 내용을 출력\n",
        "print(train_input[0])"
      ],
      "metadata": {
        "colab": {
          "base_uri": "https://localhost:8080/"
        },
        "id": "Gaz1cl1SsDdY",
        "outputId": "86320306-b1da-4195-d55a-e340851899fc"
      },
      "execution_count": 3,
      "outputs": [
        {
          "output_type": "stream",
          "name": "stdout",
          "text": [
            "[1, 14, 22, 16, 43, 2, 2, 2, 2, 65, 458, 2, 66, 2, 4, 173, 36, 256, 5, 25, 100, 43, 2, 112, 50, 2, 2, 9, 35, 480, 284, 5, 150, 4, 172, 112, 167, 2, 336, 385, 39, 4, 172, 2, 2, 17, 2, 38, 13, 447, 4, 192, 50, 16, 6, 147, 2, 19, 14, 22, 4, 2, 2, 469, 4, 22, 71, 87, 12, 16, 43, 2, 38, 76, 15, 13, 2, 4, 22, 17, 2, 17, 12, 16, 2, 18, 2, 5, 62, 386, 12, 8, 316, 8, 106, 5, 4, 2, 2, 16, 480, 66, 2, 33, 4, 130, 12, 16, 38, 2, 5, 25, 124, 51, 36, 135, 48, 25, 2, 33, 6, 22, 12, 215, 28, 77, 52, 5, 14, 407, 16, 82, 2, 8, 4, 107, 117, 2, 15, 256, 4, 2, 7, 2, 5, 2, 36, 71, 43, 2, 476, 26, 400, 317, 46, 7, 4, 2, 2, 13, 104, 88, 4, 381, 15, 297, 98, 32, 2, 56, 26, 141, 6, 194, 2, 18, 4, 226, 22, 21, 134, 476, 26, 480, 5, 144, 30, 2, 18, 51, 36, 28, 224, 92, 25, 104, 4, 226, 65, 16, 38, 2, 88, 12, 16, 283, 5, 16, 2, 113, 103, 32, 15, 16, 2, 19, 178, 32]\n"
          ]
        }
      ]
    },
    {
      "cell_type": "code",
      "source": [
        "# 타깃값이 0(부정)과 1(긍정)으로 나누어짐 (이진 분류 문제)\n",
        "print(train_target[:20])"
      ],
      "metadata": {
        "colab": {
          "base_uri": "https://localhost:8080/"
        },
        "id": "wviwvIlIsFfe",
        "outputId": "000f524a-1e92-4157-c99a-446cad0be1da"
      },
      "execution_count": 4,
      "outputs": [
        {
          "output_type": "stream",
          "name": "stdout",
          "text": [
            "[1 0 0 1 0 0 1 0 1 0 1 0 0 0 0 0 1 1 0 1]\n"
          ]
        }
      ]
    },
    {
      "cell_type": "markdown",
      "source": [
        "### 훈련 세트 준비하기"
      ],
      "metadata": {
        "id": "Srof2HtWsL8W"
      }
    },
    {
      "cell_type": "code",
      "source": [
        "# 훈련 세트에서 20%를 검증 세트로 떼어 놓음\n",
        "from sklearn.model_selection import train_test_split\n",
        "train_input, val_input, train_target, val_target = train_test_split(train_input, train_target, test_size=0.2, random_state=42)"
      ],
      "metadata": {
        "id": "qxFefyDGsN8D"
      },
      "execution_count": 5,
      "outputs": []
    },
    {
      "cell_type": "code",
      "source": [
        "# 훈련 세트에 대해 각 리뷰의 길이를 계산해 넘파이 배열에 담은 후,\n",
        "import numpy as np\n",
        "lengths = np.array([len(x) for x in train_input])"
      ],
      "metadata": {
        "id": "L14hsyjcsQpW"
      },
      "execution_count": 6,
      "outputs": []
    },
    {
      "cell_type": "code",
      "source": [
        "# 평균적인 리뷰의 길이와 가장 짧은 리뷰의 길이 그리고 가장 긴 리뷰의 길이를 확인하도록 함\n",
        "print(np.mean(lengths), np.median(lengths))"
      ],
      "metadata": {
        "colab": {
          "base_uri": "https://localhost:8080/"
        },
        "id": "-diL-svssRda",
        "outputId": "2ad7816b-d3fe-4101-cd5e-8c341a35f765"
      },
      "execution_count": 7,
      "outputs": [
        {
          "output_type": "stream",
          "name": "stdout",
          "text": [
            "239.00925 178.0\n"
          ]
        }
      ]
    },
    {
      "cell_type": "code",
      "source": [
        "# 리뷰의 길이를 히스토그램으로 표현\n",
        "import matplotlib.pyplot as plt\n",
        "plt.hist(lengths)\n",
        "plt.xlabel('length')\n",
        "plt.ylabel('frequency')\n",
        "plt.show()"
      ],
      "metadata": {
        "colab": {
          "base_uri": "https://localhost:8080/",
          "height": 279
        },
        "id": "xI5x4nWZsTci",
        "outputId": "7502edcb-ced1-4edd-e64b-e918a21291dc"
      },
      "execution_count": 8,
      "outputs": [
        {
          "output_type": "display_data",
          "data": {
            "text/plain": [
              "<Figure size 432x288 with 1 Axes>"
            ],
            "image/png": "[encoded data removed]"
          },
          "metadata": {
            "needs_background": "light"
          }
        }
      ]
    },
    {
      "cell_type": "markdown",
      "source": [
        "### 시퀀스 패딩"
      ],
      "metadata": {
        "id": "QKH-IoLRse26"
      }
    },
    {
      "cell_type": "code",
      "source": [
        "# 케라스는 시퀀스 데이터의 길이를 맞추는 pad_sequences() 함수를 제공하므로 maxlen에 원하는 길이인 100을 지정\n",
        "from tensorflow.keras.preprocessing.sequence import pad_sequences\n",
        "train_seq = pad_sequences(train_input, maxlen=100)"
      ],
      "metadata": {
        "id": "NpewGgGDsf1t"
      },
      "execution_count": 9,
      "outputs": []
    },
    {
      "cell_type": "code",
      "source": [
        "# (20000, 100) 크기의 2차원 배열\n",
        "print(train_seq.shape)"
      ],
      "metadata": {
        "colab": {
          "base_uri": "https://localhost:8080/"
        },
        "id": "loMednHnsg70",
        "outputId": "0ec8ddfd-1540-479c-e0c5-104731d810e7"
      },
      "execution_count": 11,
      "outputs": [
        {
          "output_type": "stream",
          "name": "stdout",
          "text": [
            "(20000, 100)\n"
          ]
        }
      ]
    },
    {
      "cell_type": "code",
      "source": [
        "# 첫 번째 샘플을 출력\n",
        "print(train_seq[0])"
      ],
      "metadata": {
        "colab": {
          "base_uri": "https://localhost:8080/"
        },
        "id": "gqoWvQZ9sjOs",
        "outputId": "96248248-5fce-4d76-ce44-0cbd742f6ccf"
      },
      "execution_count": 12,
      "outputs": [
        {
          "output_type": "stream",
          "name": "stdout",
          "text": [
            "[ 10   4  20   9   2 364 352   5  45   6   2   2  33 269   8   2 142   2\n",
            "   5   2  17  73  17 204   5   2  19  55   2   2  92  66 104  14  20  93\n",
            "  76   2 151  33   4  58  12 188   2 151  12 215  69 224 142  73 237   6\n",
            "   2   7   2   2 188   2 103  14  31  10  10 451   7   2   5   2  80  91\n",
            "   2  30   2  34  14  20 151  50  26 131  49   2  84  46  50  37  80  79\n",
            "   6   2  46   7  14  20  10  10 470 158]\n"
          ]
        }
      ]
    },
    {
      "cell_type": "code",
      "source": [
        "print(train_input[0][-10:])"
      ],
      "metadata": {
        "colab": {
          "base_uri": "https://localhost:8080/"
        },
        "id": "RwFaI-PSsjUD",
        "outputId": "73e71397-e62e-4e84-e0f8-471ef24efd0f"
      },
      "execution_count": 13,
      "outputs": [
        {
          "output_type": "stream",
          "name": "stdout",
          "text": [
            "[6, 2, 46, 7, 14, 20, 10, 10, 470, 158]\n"
          ]
        }
      ]
    },
    {
      "cell_type": "code",
      "source": [
        "# 여섯 번째 샘플을 출력\n",
        "print(train_seq[5])"
      ],
      "metadata": {
        "colab": {
          "base_uri": "https://localhost:8080/"
        },
        "id": "4I4nVEe-slct",
        "outputId": "f577bb3e-3526-49ee-b017-d9632782d5dd"
      },
      "execution_count": 14,
      "outputs": [
        {
          "output_type": "stream",
          "name": "stdout",
          "text": [
            "[  0   0   0   0   1   2 195  19  49   2   2 190   4   2 352   2 183  10\n",
            "  10  13  82  79   4   2  36  71 269   8   2  25  19  49   7   4   2   2\n",
            "   2   2   2  10  10  48  25  40   2  11   2   2  40   2   2   5   4   2\n",
            "   2  95  14 238  56 129   2  10  10  21   2  94 364 352   2   2  11 190\n",
            "  24 484   2   7  94 205 405  10  10  87   2  34  49   2   7   2   2   2\n",
            "   2   2 290   2  46  48  64  18   4   2]\n"
          ]
        }
      ]
    },
    {
      "cell_type": "code",
      "source": [
        "# 검증 세트의 길이도 100으로 맞춤\n",
        "val_seq = pad_sequences(val_input, maxlen=100)"
      ],
      "metadata": {
        "id": "vgWYSAiGsnhN"
      },
      "execution_count": 15,
      "outputs": []
    },
    {
      "cell_type": "markdown",
      "source": [
        "## 순환 신경망 만들기"
      ],
      "metadata": {
        "id": "CX0RHne7srcs"
      }
    },
    {
      "cell_type": "markdown",
      "source": [
        "### 순환 신경망 모델 만들기"
      ],
      "metadata": {
        "id": "N2JMvUOQstLB"
      }
    },
    {
      "cell_type": "code",
      "source": [
        "from tensorflow import keras\n",
        "model = keras.Sequential() \n",
        "# 순환 신경망\n",
        "# 사용할 뉴런의 개수 8개, 입력 차원 (100, 500)\n",
        "model.add(keras.layers.SimpleRNN(8, input_shape=(100, 500)))\n",
        "model.add(keras.layers.Dense(1, activation='sigmoid'))"
      ],
      "metadata": {
        "id": "nAi1zHI2susn"
      },
      "execution_count": 16,
      "outputs": []
    },
    {
      "cell_type": "markdown",
      "source": [
        "### 원-핫 인코딩"
      ],
      "metadata": {
        "id": "gdwbmPzks0FX"
      }
    },
    {
      "cell_type": "code",
      "source": [
        "# 원-핫 인코딩 유틸리티 사용\n",
        "train_oh = keras.utils.to_categorical(train_seq)"
      ],
      "metadata": {
        "id": "uXW6Sxz0s04X"
      },
      "execution_count": 17,
      "outputs": []
    },
    {
      "cell_type": "code",
      "source": [
        "# 정수 하나마다 모두 500차원의 배열로 변경되었기 때문에 (20000, 100, 500) 크기로 변환됨\n",
        "print(train_oh.shape)"
      ],
      "metadata": {
        "colab": {
          "base_uri": "https://localhost:8080/"
        },
        "id": "5nlTfgdHs19m",
        "outputId": "3885a4d1-83eb-402c-a6dc-c124cc4bfa92"
      },
      "execution_count": 18,
      "outputs": [
        {
          "output_type": "stream",
          "name": "stdout",
          "text": [
            "(20000, 100, 500)\n"
          ]
        }
      ]
    },
    {
      "cell_type": "code",
      "source": [
        "# 첫 번째 샘플의 첫 번째 토큰 10이 잘 인코딩되었는지 확인\n",
        "print(train_oh[0][0][:12])"
      ],
      "metadata": {
        "colab": {
          "base_uri": "https://localhost:8080/"
        },
        "id": "H-Tt_g5Us4n3",
        "outputId": "7e876287-65e2-4bc2-fad3-d56cee8be5fd"
      },
      "execution_count": 19,
      "outputs": [
        {
          "output_type": "stream",
          "name": "stdout",
          "text": [
            "[0. 0. 0. 0. 0. 0. 0. 0. 0. 0. 1. 0.]\n"
          ]
        }
      ]
    },
    {
      "cell_type": "code",
      "source": [
        "# 나머지 원소를 모두 더하면 1이므로 \n",
        "# 열한 번째 원소만 1이고 나머지는 모두 0이어서 원-핫 인코딩이 잘된 것을 볼 수 있음\n",
        "print(np.sum(train_oh[0][0]))"
      ],
      "metadata": {
        "colab": {
          "base_uri": "https://localhost:8080/"
        },
        "id": "p-gjvLp0s5Jj",
        "outputId": "2b2e4164-d345-4ce3-b6c1-2c0c1454a56e"
      },
      "execution_count": 20,
      "outputs": [
        {
          "output_type": "stream",
          "name": "stdout",
          "text": [
            "1.0\n"
          ]
        }
      ]
    },
    {
      "cell_type": "code",
      "source": [
        "# 같은 방식으로 val_seq도 원-핫 인코딩으로 변환\n",
        "val_oh = keras.utils.to_categorical(val_seq)"
      ],
      "metadata": {
        "id": "rLlf-Pugs6PQ"
      },
      "execution_count": 21,
      "outputs": []
    },
    {
      "cell_type": "markdown",
      "source": [
        "### 모델 구조 확인"
      ],
      "metadata": {
        "id": "R9jixGl8s8oN"
      }
    },
    {
      "cell_type": "code",
      "source": [
        "model.summary()"
      ],
      "metadata": {
        "colab": {
          "base_uri": "https://localhost:8080/"
        },
        "id": "9VscGxpQs9XZ",
        "outputId": "89b063a8-659c-45b1-8e9f-66374a0756d0"
      },
      "execution_count": 22,
      "outputs": [
        {
          "output_type": "stream",
          "name": "stdout",
          "text": [
            "Model: \"sequential\"\n",
            "_________________________________________________________________\n",
            " Layer (type)                Output Shape              Param #   \n",
            "=================================================================\n",
            " simple_rnn (SimpleRNN)      (None, 8)                 4072      \n",
            "                                                                 \n",
            " dense (Dense)               (None, 1)                 9         \n",
            "                                                                 \n",
            "=================================================================\n",
            "Total params: 4,081\n",
            "Trainable params: 4,081\n",
            "Non-trainable params: 0\n",
            "_________________________________________________________________\n"
          ]
        }
      ]
    },
    {
      "cell_type": "markdown",
      "source": [
        "## 순환 신경망 훈련하기"
      ],
      "metadata": {
        "id": "j4mykNHwtCpg"
      }
    },
    {
      "cell_type": "markdown",
      "source": [
        "### 모델 훈련"
      ],
      "metadata": {
        "id": "U6Szp0F1tEUk"
      }
    },
    {
      "cell_type": "code",
      "source": [
        "# RMSprop 객체를 만들어 학습률을 0.0001로 지정하고 에포크 횟수를 100으로 늘리고 배치 크기는 64개로 설정\n",
        "# 그 밖에 체크포인트와 조기 종료를 구성하는 코드를 작성하여 훈련\n",
        "rmsprop = keras.optimizers.RMSprop(learning_rate=1e-4)\n",
        "model.compile(optimizer=rmsprop, loss='binary_crossentropy', metrics=['accuracy'])\n",
        "checkpoint_cb = keras.callbacks.ModelCheckpoint('best-simplernn-model.h5', save_best_only=True)\n",
        "early_stopping_cb = keras.callbacks.EarlyStopping(patience=3, restore_best_weights=True)\n",
        "history = model.fit(train_oh, train_target, epochs=100, batch_size=64,\n",
        "                    validation_data=(val_oh, val_target),\n",
        "                    callbacks=[checkpoint_cb, early_stopping_cb])"
      ],
      "metadata": {
        "colab": {
          "base_uri": "https://localhost:8080/"
        },
        "id": "Z6OkxDOhtFDM",
        "outputId": "9fde6ed4-a097-4b2c-8fe6-9db5bfea1cb0"
      },
      "execution_count": 23,
      "outputs": [
        {
          "output_type": "stream",
          "name": "stdout",
          "text": [
            "Epoch 1/100\n",
            "313/313 [==============================] - 28s 78ms/step - loss: 0.7001 - accuracy: 0.5005 - val_loss: 0.6937 - val_accuracy: 0.5246\n",
            "Epoch 2/100\n",
            "313/313 [==============================] - 24s 75ms/step - loss: 0.6917 - accuracy: 0.5279 - val_loss: 0.6845 - val_accuracy: 0.5640\n",
            "Epoch 3/100\n",
            "313/313 [==============================] - 24s 76ms/step - loss: 0.6809 - accuracy: 0.5710 - val_loss: 0.6763 - val_accuracy: 0.5870\n",
            "Epoch 4/100\n",
            "313/313 [==============================] - 23s 73ms/step - loss: 0.6710 - accuracy: 0.5996 - val_loss: 0.6675 - val_accuracy: 0.6056\n",
            "Epoch 5/100\n",
            "313/313 [==============================] - 23s 73ms/step - loss: 0.6582 - accuracy: 0.6237 - val_loss: 0.6524 - val_accuracy: 0.6328\n",
            "Epoch 6/100\n",
            "313/313 [==============================] - 23s 74ms/step - loss: 0.6416 - accuracy: 0.6521 - val_loss: 0.6372 - val_accuracy: 0.6556\n",
            "Epoch 7/100\n",
            "313/313 [==============================] - 23s 73ms/step - loss: 0.6219 - accuracy: 0.6763 - val_loss: 0.6178 - val_accuracy: 0.6724\n",
            "Epoch 8/100\n",
            "313/313 [==============================] - 24s 75ms/step - loss: 0.5994 - accuracy: 0.7012 - val_loss: 0.5979 - val_accuracy: 0.6968\n",
            "Epoch 9/100\n",
            "313/313 [==============================] - 23s 74ms/step - loss: 0.5786 - accuracy: 0.7219 - val_loss: 0.5796 - val_accuracy: 0.7170\n",
            "Epoch 10/100\n",
            "313/313 [==============================] - 23s 73ms/step - loss: 0.5611 - accuracy: 0.7358 - val_loss: 0.5643 - val_accuracy: 0.7276\n",
            "Epoch 11/100\n",
            "313/313 [==============================] - 23s 73ms/step - loss: 0.5456 - accuracy: 0.7494 - val_loss: 0.5497 - val_accuracy: 0.7434\n",
            "Epoch 12/100\n",
            "313/313 [==============================] - 23s 73ms/step - loss: 0.5326 - accuracy: 0.7579 - val_loss: 0.5399 - val_accuracy: 0.7498\n",
            "Epoch 13/100\n",
            "313/313 [==============================] - 24s 76ms/step - loss: 0.5210 - accuracy: 0.7656 - val_loss: 0.5286 - val_accuracy: 0.7550\n",
            "Epoch 14/100\n",
            "313/313 [==============================] - 23s 73ms/step - loss: 0.5111 - accuracy: 0.7706 - val_loss: 0.5190 - val_accuracy: 0.7596\n",
            "Epoch 15/100\n",
            "313/313 [==============================] - 23s 74ms/step - loss: 0.5020 - accuracy: 0.7767 - val_loss: 0.5131 - val_accuracy: 0.7630\n",
            "Epoch 16/100\n",
            "313/313 [==============================] - 23s 74ms/step - loss: 0.4936 - accuracy: 0.7803 - val_loss: 0.5021 - val_accuracy: 0.7680\n",
            "Epoch 17/100\n",
            "313/313 [==============================] - 24s 76ms/step - loss: 0.4857 - accuracy: 0.7836 - val_loss: 0.4972 - val_accuracy: 0.7716\n",
            "Epoch 18/100\n",
            "313/313 [==============================] - 23s 74ms/step - loss: 0.4788 - accuracy: 0.7880 - val_loss: 0.4934 - val_accuracy: 0.7768\n",
            "Epoch 19/100\n",
            "313/313 [==============================] - 23s 74ms/step - loss: 0.4726 - accuracy: 0.7911 - val_loss: 0.4902 - val_accuracy: 0.7734\n",
            "Epoch 20/100\n",
            "313/313 [==============================] - 23s 74ms/step - loss: 0.4673 - accuracy: 0.7946 - val_loss: 0.4821 - val_accuracy: 0.7820\n",
            "Epoch 21/100\n",
            "313/313 [==============================] - 23s 75ms/step - loss: 0.4624 - accuracy: 0.7959 - val_loss: 0.4767 - val_accuracy: 0.7844\n",
            "Epoch 22/100\n",
            "313/313 [==============================] - 24s 78ms/step - loss: 0.4579 - accuracy: 0.7980 - val_loss: 0.4731 - val_accuracy: 0.7858\n",
            "Epoch 23/100\n",
            "313/313 [==============================] - 23s 74ms/step - loss: 0.4537 - accuracy: 0.8000 - val_loss: 0.4734 - val_accuracy: 0.7822\n",
            "Epoch 24/100\n",
            "313/313 [==============================] - 23s 73ms/step - loss: 0.4504 - accuracy: 0.8028 - val_loss: 0.4675 - val_accuracy: 0.7882\n",
            "Epoch 25/100\n",
            "313/313 [==============================] - 23s 73ms/step - loss: 0.4466 - accuracy: 0.8052 - val_loss: 0.4651 - val_accuracy: 0.7876\n",
            "Epoch 26/100\n",
            "313/313 [==============================] - 23s 74ms/step - loss: 0.4433 - accuracy: 0.8053 - val_loss: 0.4649 - val_accuracy: 0.7896\n",
            "Epoch 27/100\n",
            "313/313 [==============================] - 24s 77ms/step - loss: 0.4403 - accuracy: 0.8074 - val_loss: 0.4656 - val_accuracy: 0.7878\n",
            "Epoch 28/100\n",
            "313/313 [==============================] - 23s 74ms/step - loss: 0.4379 - accuracy: 0.8080 - val_loss: 0.4608 - val_accuracy: 0.7864\n",
            "Epoch 29/100\n",
            "313/313 [==============================] - 23s 74ms/step - loss: 0.4351 - accuracy: 0.8102 - val_loss: 0.4584 - val_accuracy: 0.7912\n",
            "Epoch 30/100\n",
            "313/313 [==============================] - 23s 74ms/step - loss: 0.4329 - accuracy: 0.8102 - val_loss: 0.4599 - val_accuracy: 0.7886\n",
            "Epoch 31/100\n",
            "313/313 [==============================] - 23s 74ms/step - loss: 0.4306 - accuracy: 0.8115 - val_loss: 0.4578 - val_accuracy: 0.7894\n",
            "Epoch 32/100\n",
            "313/313 [==============================] - 24s 76ms/step - loss: 0.4287 - accuracy: 0.8127 - val_loss: 0.4585 - val_accuracy: 0.7896\n",
            "Epoch 33/100\n",
            "313/313 [==============================] - 23s 74ms/step - loss: 0.4265 - accuracy: 0.8129 - val_loss: 0.4588 - val_accuracy: 0.7882\n",
            "Epoch 34/100\n",
            "313/313 [==============================] - 23s 74ms/step - loss: 0.4248 - accuracy: 0.8140 - val_loss: 0.4565 - val_accuracy: 0.7904\n",
            "Epoch 35/100\n",
            "313/313 [==============================] - 23s 74ms/step - loss: 0.4232 - accuracy: 0.8140 - val_loss: 0.4549 - val_accuracy: 0.7922\n",
            "Epoch 36/100\n",
            "313/313 [==============================] - 23s 73ms/step - loss: 0.4217 - accuracy: 0.8143 - val_loss: 0.4549 - val_accuracy: 0.7934\n",
            "Epoch 37/100\n",
            "313/313 [==============================] - 24s 76ms/step - loss: 0.4202 - accuracy: 0.8159 - val_loss: 0.4524 - val_accuracy: 0.7954\n",
            "Epoch 38/100\n",
            "313/313 [==============================] - 23s 73ms/step - loss: 0.4186 - accuracy: 0.8173 - val_loss: 0.4534 - val_accuracy: 0.7924\n",
            "Epoch 39/100\n",
            "313/313 [==============================] - 23s 73ms/step - loss: 0.4166 - accuracy: 0.8156 - val_loss: 0.4560 - val_accuracy: 0.7918\n",
            "Epoch 40/100\n",
            "313/313 [==============================] - 23s 73ms/step - loss: 0.4161 - accuracy: 0.8167 - val_loss: 0.4582 - val_accuracy: 0.7908\n"
          ]
        }
      ]
    },
    {
      "cell_type": "code",
      "source": [
        "# 훈련 손실와 검증 손실 그래프\n",
        "plt.plot(history.history['loss'])\n",
        "plt.plot(history.history['val_loss'])\n",
        "plt.xlabel('epoch')\n",
        "plt.ylabel('loss')\n",
        "plt.legend(['train', 'val'])\n",
        "plt.show()"
      ],
      "metadata": {
        "colab": {
          "base_uri": "https://localhost:8080/",
          "height": 279
        },
        "id": "IFoEzUzvtQKD",
        "outputId": "78008106-ed7b-4a5f-d20b-1c7bfef7b7cb"
      },
      "execution_count": 24,
      "outputs": [
        {
          "output_type": "display_data",
          "data": {
            "text/plain": [
              "<Figure size 432x288 with 1 Axes>"
            ],
            "image/png": "[encoded data removed]"
          },
          "metadata": {
            "needs_background": "light"
          }
        }
      ]
    },
    {
      "cell_type": "markdown",
      "source": [
        "## 단어 임베딩을 사용하기"
      ],
      "metadata": {
        "id": "Z6D55xystQ3j"
      }
    },
    {
      "cell_type": "markdown",
      "source": [
        "### 임베딩"
      ],
      "metadata": {
        "id": "cCiqKSJstSHU"
      }
    },
    {
      "cell_type": "code",
      "source": [
        "# Embedding 클래스로 임베딩 기능을 제공\n",
        "# Embedding 클래스의 첫 번째 매개변수는 어휘 사전의 크기이므로 500으로 지정\n",
        "# 두 번째 매개변수는 임베딩 벡터의 크기이므로 16개의 벡터로 토큰 하나를 출력하도록 16으로 지정\n",
        "# 세 번째 매개변수는 시퀀스의 길이를 나타내므로 앞서 샘플의 길이를 100으로 맞추어 train_seq를 만들었으므로 100으로 지정\n",
        "model2 = keras.Sequential()\n",
        "model2.add(keras.layers.Embedding(500, 16, input_length=100))\n",
        "model2.add(keras.layers.SimpleRNN(8))\n",
        "model2.add(keras.layers.Dense(1, activation='sigmoid'))\n",
        "\n",
        "# 모델 구조\n",
        "model2.summary()"
      ],
      "metadata": {
        "colab": {
          "base_uri": "https://localhost:8080/"
        },
        "id": "Fr64VOFxtZgy",
        "outputId": "ef507c5c-2991-4bb5-c272-961f53c6169b"
      },
      "execution_count": 25,
      "outputs": [
        {
          "output_type": "stream",
          "name": "stdout",
          "text": [
            "Model: \"sequential_1\"\n",
            "_________________________________________________________________\n",
            " Layer (type)                Output Shape              Param #   \n",
            "=================================================================\n",
            " embedding (Embedding)       (None, 100, 16)           8000      \n",
            "                                                                 \n",
            " simple_rnn_1 (SimpleRNN)    (None, 8)                 200       \n",
            "                                                                 \n",
            " dense_1 (Dense)             (None, 1)                 9         \n",
            "                                                                 \n",
            "=================================================================\n",
            "Total params: 8,209\n",
            "Trainable params: 8,209\n",
            "Non-trainable params: 0\n",
            "_________________________________________________________________\n"
          ]
        }
      ]
    },
    {
      "cell_type": "code",
      "source": [
        "# 모델 훈련\n",
        "rmsprop = keras.optimizers.RMSprop(learning_rate=1e-4)\n",
        "model2.compile(optimizer=rmsprop, loss='binary_crossentropy', metrics=['accuracy'])\n",
        "checkpoint_cb = keras.callbacks.ModelCheckpoint('best-embedding-model.h5', save_best_only=True)\n",
        "early_stopping_cb = keras.callbacks.EarlyStopping(patience=3, restore_best_weights=True)\n",
        "history = model2.fit(train_seq, train_target, epochs=100, batch_size=64,\n",
        "                     validation_data=(val_seq, val_target),\n",
        "                     callbacks=[checkpoint_cb, early_stopping_cb])"
      ],
      "metadata": {
        "colab": {
          "base_uri": "https://localhost:8080/"
        },
        "id": "j7_rI2oGthlu",
        "outputId": "a4f73ea5-c0bd-44e5-ad01-e8a70654b391"
      },
      "execution_count": 26,
      "outputs": [
        {
          "output_type": "stream",
          "name": "stdout",
          "text": [
            "Epoch 1/100\n",
            "313/313 [==============================] - 29s 88ms/step - loss: 0.6953 - accuracy: 0.5048 - val_loss: 0.6927 - val_accuracy: 0.5144\n",
            "Epoch 2/100\n",
            "313/313 [==============================] - 28s 89ms/step - loss: 0.6886 - accuracy: 0.5378 - val_loss: 0.6848 - val_accuracy: 0.5584\n",
            "Epoch 3/100\n",
            "313/313 [==============================] - 28s 89ms/step - loss: 0.6698 - accuracy: 0.6383 - val_loss: 0.6629 - val_accuracy: 0.6578\n",
            "Epoch 4/100\n",
            "313/313 [==============================] - 27s 88ms/step - loss: 0.6498 - accuracy: 0.7005 - val_loss: 0.6455 - val_accuracy: 0.7108\n",
            "Epoch 5/100\n",
            "313/313 [==============================] - 28s 90ms/step - loss: 0.6332 - accuracy: 0.7302 - val_loss: 0.6313 - val_accuracy: 0.7232\n",
            "Epoch 6/100\n",
            "313/313 [==============================] - 27s 88ms/step - loss: 0.6185 - accuracy: 0.7429 - val_loss: 0.6275 - val_accuracy: 0.7158\n",
            "Epoch 7/100\n",
            "313/313 [==============================] - 27s 88ms/step - loss: 0.6052 - accuracy: 0.7531 - val_loss: 0.6065 - val_accuracy: 0.7466\n",
            "Epoch 8/100\n",
            "313/313 [==============================] - 28s 89ms/step - loss: 0.5920 - accuracy: 0.7582 - val_loss: 0.5979 - val_accuracy: 0.7436\n",
            "Epoch 9/100\n",
            "313/313 [==============================] - 28s 90ms/step - loss: 0.5824 - accuracy: 0.7574 - val_loss: 0.5901 - val_accuracy: 0.7350\n",
            "Epoch 10/100\n",
            "313/313 [==============================] - 27s 88ms/step - loss: 0.5697 - accuracy: 0.7649 - val_loss: 0.5753 - val_accuracy: 0.7526\n",
            "Epoch 11/100\n",
            "313/313 [==============================] - 28s 89ms/step - loss: 0.5589 - accuracy: 0.7676 - val_loss: 0.5631 - val_accuracy: 0.7574\n",
            "Epoch 12/100\n",
            "313/313 [==============================] - 27s 88ms/step - loss: 0.5507 - accuracy: 0.7649 - val_loss: 0.5657 - val_accuracy: 0.7418\n",
            "Epoch 13/100\n",
            "313/313 [==============================] - 28s 90ms/step - loss: 0.5487 - accuracy: 0.7569 - val_loss: 0.5619 - val_accuracy: 0.7374\n",
            "Epoch 14/100\n",
            "313/313 [==============================] - 28s 90ms/step - loss: 0.5390 - accuracy: 0.7608 - val_loss: 0.5575 - val_accuracy: 0.7382\n",
            "Epoch 15/100\n",
            "313/313 [==============================] - 28s 90ms/step - loss: 0.5294 - accuracy: 0.7678 - val_loss: 0.5438 - val_accuracy: 0.7504\n",
            "Epoch 16/100\n",
            "313/313 [==============================] - 27s 88ms/step - loss: 0.5215 - accuracy: 0.7717 - val_loss: 0.5430 - val_accuracy: 0.7482\n",
            "Epoch 17/100\n",
            "313/313 [==============================] - 28s 91ms/step - loss: 0.5160 - accuracy: 0.7732 - val_loss: 0.5378 - val_accuracy: 0.7504\n",
            "Epoch 18/100\n",
            "313/313 [==============================] - 27s 87ms/step - loss: 0.5085 - accuracy: 0.7779 - val_loss: 0.5317 - val_accuracy: 0.7556\n",
            "Epoch 19/100\n",
            "313/313 [==============================] - 28s 88ms/step - loss: 0.5013 - accuracy: 0.7811 - val_loss: 0.5250 - val_accuracy: 0.7560\n",
            "Epoch 20/100\n",
            "313/313 [==============================] - 28s 89ms/step - loss: 0.4966 - accuracy: 0.7845 - val_loss: 0.5223 - val_accuracy: 0.7612\n",
            "Epoch 21/100\n",
            "313/313 [==============================] - 28s 90ms/step - loss: 0.4917 - accuracy: 0.7866 - val_loss: 0.5204 - val_accuracy: 0.7594\n",
            "Epoch 22/100\n",
            "313/313 [==============================] - 28s 88ms/step - loss: 0.4871 - accuracy: 0.7878 - val_loss: 0.5168 - val_accuracy: 0.7582\n",
            "Epoch 23/100\n",
            "313/313 [==============================] - 27s 88ms/step - loss: 0.4828 - accuracy: 0.7906 - val_loss: 0.5191 - val_accuracy: 0.7562\n",
            "Epoch 24/100\n",
            "313/313 [==============================] - 28s 88ms/step - loss: 0.4786 - accuracy: 0.7930 - val_loss: 0.5112 - val_accuracy: 0.7636\n",
            "Epoch 25/100\n",
            "313/313 [==============================] - 29s 92ms/step - loss: 0.4732 - accuracy: 0.7970 - val_loss: 0.5120 - val_accuracy: 0.7634\n",
            "Epoch 26/100\n",
            "313/313 [==============================] - 28s 90ms/step - loss: 0.4699 - accuracy: 0.7983 - val_loss: 0.5127 - val_accuracy: 0.7640\n",
            "Epoch 27/100\n",
            "313/313 [==============================] - 28s 90ms/step - loss: 0.4692 - accuracy: 0.7962 - val_loss: 0.5206 - val_accuracy: 0.7550\n"
          ]
        }
      ]
    },
    {
      "cell_type": "code",
      "source": [
        "# # 훈련 손실와 검증 손실 그래프\n",
        "plt.plot(history.history['loss'])\n",
        "plt.plot(history.history['val_loss'])\n",
        "plt.xlabel('epoch')\n",
        "plt.ylabel('loss')\n",
        "plt.legend(['train', 'val'])\n",
        "plt.show()"
      ],
      "metadata": {
        "colab": {
          "base_uri": "https://localhost:8080/",
          "height": 279
        },
        "id": "6aso-5Rdtnok",
        "outputId": "bb2b02aa-bbca-498d-add4-c59b13b98b71"
      },
      "execution_count": 27,
      "outputs": [
        {
          "output_type": "display_data",
          "data": {
            "text/plain": [
              "<Figure size 432x288 with 1 Axes>"
            ],
            "image/png": "[encoded data removed]"
          },
          "metadata": {
            "needs_background": "light"
          }
        }
      ]
    }
  ]
}