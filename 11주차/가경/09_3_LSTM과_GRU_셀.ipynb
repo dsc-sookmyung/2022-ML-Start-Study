{
  "nbformat": 4,
  "nbformat_minor": 0,
  "metadata": {
    "colab": {
      "name": "09-3. LSTM과 GRU 셀.ipynb",
      "provenance": [],
      "collapsed_sections": []
    },
    "kernelspec": {
      "name": "python3",
      "display_name": "Python 3"
    },
    "language_info": {
      "name": "python"
    },
    "accelerator": "GPU",
    "gpuClass": "standard"
  },
  "cells": [
    {
      "cell_type": "markdown",
      "source": [
        "# 09-3 LSTM과 GRU 셀"
      ],
      "metadata": {
        "id": "uurF4_9E0NfY"
      }
    },
    {
      "cell_type": "markdown",
      "source": [
        "## LSTM 신경망 훈련하기"
      ],
      "metadata": {
        "id": "8wi8xzYp0PHG"
      }
    },
    {
      "cell_type": "markdown",
      "source": [
        "### LSTM 신경망"
      ],
      "metadata": {
        "id": "eGc6Z79a0Qth"
      }
    },
    {
      "cell_type": "code",
      "source": [
        "# IMDB 리뷰 데이터를 로드하고 훈련 세트와 검증 세트 나누기\n",
        "from tensorflow.keras.datasets import imdb\n",
        "from sklearn.model_selection import train_test_split\n",
        "(train_input, train_target), (test_input, test_target) = imdb.load_data(num_words=500)\n",
        "train_input, val_input, train_target, val_target = train_test_split(train_input, train_target, test_size=0.2, random_state=42)"
      ],
      "metadata": {
        "colab": {
          "base_uri": "https://localhost:8080/"
        },
        "id": "NAej4zHM0RsI",
        "outputId": "d7e3b683-2d09-4223-a894-cee636c61e55"
      },
      "execution_count": 1,
      "outputs": [
        {
          "output_type": "stream",
          "name": "stdout",
          "text": [
            "Downloading data from https://storage.googleapis.com/tensorflow/tf-keras-datasets/imdb.npz\n",
            "17465344/17464789 [==============================] - 0s 0us/step\n",
            "17473536/17464789 [==============================] - 0s 0us/step\n"
          ]
        }
      ]
    },
    {
      "cell_type": "code",
      "source": [
        "# 각 샘플의 길이를 100에 맞추기\n",
        "from tensorflow.keras.preprocessing.sequence import pad_sequences\n",
        "train_seq = pad_sequences(train_input, maxlen=100)\n",
        "val_seq = pad_sequences(val_input, maxlen=100)"
      ],
      "metadata": {
        "id": "N_Tu1yqx0veW"
      },
      "execution_count": 2,
      "outputs": []
    },
    {
      "cell_type": "code",
      "source": [
        "# LSTM 셀을 사용한 순환층\n",
        "from tensorflow import keras\n",
        "model = keras.Sequential()\n",
        "model.add(keras.layers.Embedding(500, 16, input_length=100))\n",
        "model.add(keras.layers.LSTM(8))\n",
        "model.add(keras.layers.Dense(1, activation='sigmoid'))"
      ],
      "metadata": {
        "id": "PkNKtVRg01Tu"
      },
      "execution_count": 3,
      "outputs": []
    },
    {
      "cell_type": "code",
      "source": [
        "# 모델 구조\n",
        "model.summary()"
      ],
      "metadata": {
        "colab": {
          "base_uri": "https://localhost:8080/"
        },
        "id": "czisDJBy03CQ",
        "outputId": "f22198fd-df3b-4514-cd12-7dadbf0eb34d"
      },
      "execution_count": 4,
      "outputs": [
        {
          "output_type": "stream",
          "name": "stdout",
          "text": [
            "Model: \"sequential\"\n",
            "_________________________________________________________________\n",
            " Layer (type)                Output Shape              Param #   \n",
            "=================================================================\n",
            " embedding (Embedding)       (None, 100, 16)           8000      \n",
            "                                                                 \n",
            " lstm (LSTM)                 (None, 8)                 800       \n",
            "                                                                 \n",
            " dense (Dense)               (None, 1)                 9         \n",
            "                                                                 \n",
            "=================================================================\n",
            "Total params: 8,809\n",
            "Trainable params: 8,809\n",
            "Non-trainable params: 0\n",
            "_________________________________________________________________\n"
          ]
        }
      ]
    },
    {
      "cell_type": "code",
      "source": [
        "# 모델 컴파일 및 훈련\n",
        "rmsprop = keras.optimizers.RMSprop(learning_rate=1e-4)\n",
        "model.compile(optimizer=rmsprop, loss='binary_crossentropy', metrics=['accuracy'])\n",
        "checkpoint_cb = keras.callbacks.ModelCheckpoint('best-lstm-model.h5', save_best_only=True)\n",
        "early_stopping_cb = keras.callbacks.EarlyStopping(patience=3, restore_best_weights=True)\n",
        "history = model.fit(train_seq, train_target, epochs=100, batch_size=64,\n",
        "                    validation_data=(val_seq, val_target),\n",
        "                    callbacks=[checkpoint_cb, early_stopping_cb])"
      ],
      "metadata": {
        "colab": {
          "base_uri": "https://localhost:8080/"
        },
        "id": "I8sDE4nR063A",
        "outputId": "b170822d-6a13-480c-ae60-5e043f3d608a"
      },
      "execution_count": 5,
      "outputs": [
        {
          "output_type": "stream",
          "name": "stdout",
          "text": [
            "Epoch 1/100\n",
            "313/313 [==============================] - 11s 9ms/step - loss: 0.6922 - accuracy: 0.5396 - val_loss: 0.6905 - val_accuracy: 0.6118\n",
            "Epoch 2/100\n",
            "313/313 [==============================] - 2s 8ms/step - loss: 0.6861 - accuracy: 0.5934 - val_loss: 0.6735 - val_accuracy: 0.5970\n",
            "Epoch 3/100\n",
            "313/313 [==============================] - 3s 8ms/step - loss: 0.6518 - accuracy: 0.6594 - val_loss: 0.6259 - val_accuracy: 0.7266\n",
            "Epoch 4/100\n",
            "313/313 [==============================] - 2s 8ms/step - loss: 0.6041 - accuracy: 0.7374 - val_loss: 0.5889 - val_accuracy: 0.7428\n",
            "Epoch 5/100\n",
            "313/313 [==============================] - 3s 8ms/step - loss: 0.5755 - accuracy: 0.7546 - val_loss: 0.5707 - val_accuracy: 0.7498\n",
            "Epoch 6/100\n",
            "313/313 [==============================] - 2s 8ms/step - loss: 0.5533 - accuracy: 0.7655 - val_loss: 0.5512 - val_accuracy: 0.7594\n",
            "Epoch 7/100\n",
            "313/313 [==============================] - 3s 8ms/step - loss: 0.5330 - accuracy: 0.7713 - val_loss: 0.5309 - val_accuracy: 0.7716\n",
            "Epoch 8/100\n",
            "313/313 [==============================] - 3s 8ms/step - loss: 0.5114 - accuracy: 0.7768 - val_loss: 0.5118 - val_accuracy: 0.7740\n",
            "Epoch 9/100\n",
            "313/313 [==============================] - 3s 8ms/step - loss: 0.4912 - accuracy: 0.7841 - val_loss: 0.4935 - val_accuracy: 0.7844\n",
            "Epoch 10/100\n",
            "313/313 [==============================] - 3s 8ms/step - loss: 0.4764 - accuracy: 0.7911 - val_loss: 0.4829 - val_accuracy: 0.7826\n",
            "Epoch 11/100\n",
            "313/313 [==============================] - 3s 8ms/step - loss: 0.4660 - accuracy: 0.7939 - val_loss: 0.4761 - val_accuracy: 0.7840\n",
            "Epoch 12/100\n",
            "313/313 [==============================] - 3s 8ms/step - loss: 0.4584 - accuracy: 0.7970 - val_loss: 0.4702 - val_accuracy: 0.7904\n",
            "Epoch 13/100\n",
            "313/313 [==============================] - 2s 8ms/step - loss: 0.4530 - accuracy: 0.7983 - val_loss: 0.4639 - val_accuracy: 0.7924\n",
            "Epoch 14/100\n",
            "313/313 [==============================] - 3s 8ms/step - loss: 0.4474 - accuracy: 0.8025 - val_loss: 0.4601 - val_accuracy: 0.7946\n",
            "Epoch 15/100\n",
            "313/313 [==============================] - 2s 8ms/step - loss: 0.4433 - accuracy: 0.8030 - val_loss: 0.4590 - val_accuracy: 0.7908\n",
            "Epoch 16/100\n",
            "313/313 [==============================] - 3s 8ms/step - loss: 0.4398 - accuracy: 0.8034 - val_loss: 0.4551 - val_accuracy: 0.7942\n",
            "Epoch 17/100\n",
            "313/313 [==============================] - 2s 8ms/step - loss: 0.4365 - accuracy: 0.8060 - val_loss: 0.4520 - val_accuracy: 0.7948\n",
            "Epoch 18/100\n",
            "313/313 [==============================] - 3s 8ms/step - loss: 0.4333 - accuracy: 0.8062 - val_loss: 0.4500 - val_accuracy: 0.7920\n",
            "Epoch 19/100\n",
            "313/313 [==============================] - 2s 8ms/step - loss: 0.4305 - accuracy: 0.8086 - val_loss: 0.4474 - val_accuracy: 0.7968\n",
            "Epoch 20/100\n",
            "313/313 [==============================] - 2s 8ms/step - loss: 0.4282 - accuracy: 0.8091 - val_loss: 0.4461 - val_accuracy: 0.7944\n",
            "Epoch 21/100\n",
            "313/313 [==============================] - 3s 8ms/step - loss: 0.4254 - accuracy: 0.8084 - val_loss: 0.4438 - val_accuracy: 0.7968\n",
            "Epoch 22/100\n",
            "313/313 [==============================] - 3s 8ms/step - loss: 0.4228 - accuracy: 0.8106 - val_loss: 0.4469 - val_accuracy: 0.8000\n",
            "Epoch 23/100\n",
            "313/313 [==============================] - 3s 8ms/step - loss: 0.4215 - accuracy: 0.8111 - val_loss: 0.4409 - val_accuracy: 0.7982\n",
            "Epoch 24/100\n",
            "313/313 [==============================] - 2s 8ms/step - loss: 0.4197 - accuracy: 0.8104 - val_loss: 0.4498 - val_accuracy: 0.7956\n",
            "Epoch 25/100\n",
            "313/313 [==============================] - 3s 8ms/step - loss: 0.4182 - accuracy: 0.8123 - val_loss: 0.4422 - val_accuracy: 0.7912\n",
            "Epoch 26/100\n",
            "313/313 [==============================] - 3s 8ms/step - loss: 0.4166 - accuracy: 0.8126 - val_loss: 0.4385 - val_accuracy: 0.7988\n",
            "Epoch 27/100\n",
            "313/313 [==============================] - 2s 8ms/step - loss: 0.4155 - accuracy: 0.8124 - val_loss: 0.4370 - val_accuracy: 0.7996\n",
            "Epoch 28/100\n",
            "313/313 [==============================] - 3s 8ms/step - loss: 0.4141 - accuracy: 0.8144 - val_loss: 0.4376 - val_accuracy: 0.8012\n",
            "Epoch 29/100\n",
            "313/313 [==============================] - 3s 8ms/step - loss: 0.4130 - accuracy: 0.8141 - val_loss: 0.4441 - val_accuracy: 0.7892\n",
            "Epoch 30/100\n",
            "313/313 [==============================] - 2s 8ms/step - loss: 0.4118 - accuracy: 0.8149 - val_loss: 0.4356 - val_accuracy: 0.8010\n",
            "Epoch 31/100\n",
            "313/313 [==============================] - 2s 8ms/step - loss: 0.4105 - accuracy: 0.8153 - val_loss: 0.4360 - val_accuracy: 0.8020\n",
            "Epoch 32/100\n",
            "313/313 [==============================] - 2s 8ms/step - loss: 0.4096 - accuracy: 0.8152 - val_loss: 0.4343 - val_accuracy: 0.8018\n",
            "Epoch 33/100\n",
            "313/313 [==============================] - 2s 8ms/step - loss: 0.4088 - accuracy: 0.8155 - val_loss: 0.4360 - val_accuracy: 0.8010\n",
            "Epoch 34/100\n",
            "313/313 [==============================] - 2s 8ms/step - loss: 0.4082 - accuracy: 0.8148 - val_loss: 0.4348 - val_accuracy: 0.8036\n",
            "Epoch 35/100\n",
            "313/313 [==============================] - 3s 8ms/step - loss: 0.4074 - accuracy: 0.8158 - val_loss: 0.4333 - val_accuracy: 0.8038\n",
            "Epoch 36/100\n",
            "313/313 [==============================] - 3s 8ms/step - loss: 0.4066 - accuracy: 0.8180 - val_loss: 0.4320 - val_accuracy: 0.8014\n",
            "Epoch 37/100\n",
            "313/313 [==============================] - 2s 8ms/step - loss: 0.4055 - accuracy: 0.8170 - val_loss: 0.4343 - val_accuracy: 0.7998\n",
            "Epoch 38/100\n",
            "313/313 [==============================] - 3s 8ms/step - loss: 0.4049 - accuracy: 0.8167 - val_loss: 0.4321 - val_accuracy: 0.8026\n",
            "Epoch 39/100\n",
            "313/313 [==============================] - 2s 8ms/step - loss: 0.4042 - accuracy: 0.8173 - val_loss: 0.4318 - val_accuracy: 0.8042\n",
            "Epoch 40/100\n",
            "313/313 [==============================] - 3s 8ms/step - loss: 0.4037 - accuracy: 0.8184 - val_loss: 0.4315 - val_accuracy: 0.8010\n",
            "Epoch 41/100\n",
            "313/313 [==============================] - 2s 8ms/step - loss: 0.4027 - accuracy: 0.8174 - val_loss: 0.4312 - val_accuracy: 0.8044\n",
            "Epoch 42/100\n",
            "313/313 [==============================] - 3s 8ms/step - loss: 0.4021 - accuracy: 0.8181 - val_loss: 0.4301 - val_accuracy: 0.8044\n",
            "Epoch 43/100\n",
            "313/313 [==============================] - 2s 8ms/step - loss: 0.4017 - accuracy: 0.8187 - val_loss: 0.4324 - val_accuracy: 0.8030\n",
            "Epoch 44/100\n",
            "313/313 [==============================] - 3s 8ms/step - loss: 0.4008 - accuracy: 0.8183 - val_loss: 0.4293 - val_accuracy: 0.8032\n",
            "Epoch 45/100\n",
            "313/313 [==============================] - 3s 8ms/step - loss: 0.3999 - accuracy: 0.8188 - val_loss: 0.4354 - val_accuracy: 0.7988\n",
            "Epoch 46/100\n",
            "313/313 [==============================] - 3s 8ms/step - loss: 0.3997 - accuracy: 0.8188 - val_loss: 0.4288 - val_accuracy: 0.8038\n",
            "Epoch 47/100\n",
            "313/313 [==============================] - 3s 8ms/step - loss: 0.3986 - accuracy: 0.8206 - val_loss: 0.4279 - val_accuracy: 0.8070\n",
            "Epoch 48/100\n",
            "313/313 [==============================] - 3s 8ms/step - loss: 0.3980 - accuracy: 0.8202 - val_loss: 0.4277 - val_accuracy: 0.8050\n",
            "Epoch 49/100\n",
            "313/313 [==============================] - 3s 8ms/step - loss: 0.3974 - accuracy: 0.8199 - val_loss: 0.4307 - val_accuracy: 0.8040\n",
            "Epoch 50/100\n",
            "313/313 [==============================] - 2s 8ms/step - loss: 0.3966 - accuracy: 0.8213 - val_loss: 0.4280 - val_accuracy: 0.8036\n",
            "Epoch 51/100\n",
            "313/313 [==============================] - 2s 8ms/step - loss: 0.3963 - accuracy: 0.8206 - val_loss: 0.4279 - val_accuracy: 0.8036\n"
          ]
        }
      ]
    },
    {
      "cell_type": "code",
      "source": [
        "# 훈련 손실과 검증 손실 그래프\n",
        "import matplotlib.pyplot as plt\n",
        "plt.plot(history.history['loss'])\n",
        "plt.plot(history.history['val_loss'])\n",
        "plt.xlabel('epoch')\n",
        "plt.ylabel('loss')\n",
        "plt.legend(['train', 'val'])\n",
        "plt.show()"
      ],
      "metadata": {
        "colab": {
          "base_uri": "https://localhost:8080/",
          "height": 279
        },
        "id": "wgf73xvW1Aaq",
        "outputId": "d4153eb1-ad9b-4b14-fbce-20d426f7c4d4"
      },
      "execution_count": 6,
      "outputs": [
        {
          "output_type": "display_data",
          "data": {
            "text/plain": [
              "<Figure size 432x288 with 1 Axes>"
            ],
            "image/png": "[encoded data removed]"
          },
          "metadata": {
            "needs_background": "light"
          }
        }
      ]
    },
    {
      "cell_type": "markdown",
      "source": [
        "## 순환층에 드롭아웃 적용하기"
      ],
      "metadata": {
        "id": "LtNSYgIB1Dfp"
      }
    },
    {
      "cell_type": "markdown",
      "source": [
        "### 드롭아웃 적용하기"
      ],
      "metadata": {
        "id": "8SWIWHYM1Ejz"
      }
    },
    {
      "cell_type": "code",
      "source": [
        "# dropout 매개변수로 드롭아웃 30% 적용\n",
        "model2 = keras.Sequential()\n",
        "model2.add(keras.layers.Embedding(500, 16, input_length=100))\n",
        "model2.add(keras.layers.LSTM(8, dropout=0.3))\n",
        "model2.add(keras.layers.Dense(1, activation='sigmoid'))"
      ],
      "metadata": {
        "id": "bXxCT9FO1GAr"
      },
      "execution_count": 7,
      "outputs": []
    },
    {
      "cell_type": "code",
      "source": [
        "# 모델 컴파일 및 훈련\n",
        "rmsprop = keras.optimizers.RMSprop(learning_rate=1e-4)\n",
        "model2.compile(optimizer=rmsprop, loss='binary_crossentropy', metrics=['accuracy'])\n",
        "checkpoint_cb = keras.callbacks.ModelCheckpoint('best-dropout-model.h5', save_best_only=True)\n",
        "early_stopping_cb = keras.callbacks.EarlyStopping(patience=3, restore_best_weights=True)\n",
        "history = model2.fit(train_seq, train_target, epochs=100, batch_size=64,\n",
        "                     validation_data=(val_seq, val_target),\n",
        "                     callbacks=[checkpoint_cb, early_stopping_cb])"
      ],
      "metadata": {
        "colab": {
          "base_uri": "https://localhost:8080/"
        },
        "id": "BoA_qUQQ1H8E",
        "outputId": "7dc42e17-c68b-439a-8027-de1e484d2673"
      },
      "execution_count": 8,
      "outputs": [
        {
          "output_type": "stream",
          "name": "stdout",
          "text": [
            "Epoch 1/100\n",
            "313/313 [==============================] - 5s 9ms/step - loss: 0.6927 - accuracy: 0.5236 - val_loss: 0.6918 - val_accuracy: 0.5830\n",
            "Epoch 2/100\n",
            "313/313 [==============================] - 3s 8ms/step - loss: 0.6907 - accuracy: 0.5907 - val_loss: 0.6889 - val_accuracy: 0.6356\n",
            "Epoch 3/100\n",
            "313/313 [==============================] - 3s 8ms/step - loss: 0.6856 - accuracy: 0.6366 - val_loss: 0.6808 - val_accuracy: 0.6640\n",
            "Epoch 4/100\n",
            "313/313 [==============================] - 3s 8ms/step - loss: 0.6676 - accuracy: 0.6716 - val_loss: 0.6415 - val_accuracy: 0.7008\n",
            "Epoch 5/100\n",
            "313/313 [==============================] - 3s 8ms/step - loss: 0.6050 - accuracy: 0.7117 - val_loss: 0.5797 - val_accuracy: 0.7288\n",
            "Epoch 6/100\n",
            "313/313 [==============================] - 3s 8ms/step - loss: 0.5710 - accuracy: 0.7327 - val_loss: 0.5558 - val_accuracy: 0.7452\n",
            "Epoch 7/100\n",
            "313/313 [==============================] - 3s 8ms/step - loss: 0.5485 - accuracy: 0.7497 - val_loss: 0.5383 - val_accuracy: 0.7554\n",
            "Epoch 8/100\n",
            "313/313 [==============================] - 3s 8ms/step - loss: 0.5271 - accuracy: 0.7628 - val_loss: 0.5208 - val_accuracy: 0.7624\n",
            "Epoch 9/100\n",
            "313/313 [==============================] - 3s 8ms/step - loss: 0.5107 - accuracy: 0.7714 - val_loss: 0.5033 - val_accuracy: 0.7714\n",
            "Epoch 10/100\n",
            "313/313 [==============================] - 3s 8ms/step - loss: 0.4969 - accuracy: 0.7772 - val_loss: 0.4928 - val_accuracy: 0.7770\n",
            "Epoch 11/100\n",
            "313/313 [==============================] - 3s 8ms/step - loss: 0.4838 - accuracy: 0.7830 - val_loss: 0.4875 - val_accuracy: 0.7802\n",
            "Epoch 12/100\n",
            "313/313 [==============================] - 2s 8ms/step - loss: 0.4752 - accuracy: 0.7890 - val_loss: 0.4763 - val_accuracy: 0.7848\n",
            "Epoch 13/100\n",
            "313/313 [==============================] - 2s 8ms/step - loss: 0.4695 - accuracy: 0.7900 - val_loss: 0.4706 - val_accuracy: 0.7874\n",
            "Epoch 14/100\n",
            "313/313 [==============================] - 3s 8ms/step - loss: 0.4639 - accuracy: 0.7922 - val_loss: 0.4655 - val_accuracy: 0.7884\n",
            "Epoch 15/100\n",
            "313/313 [==============================] - 3s 8ms/step - loss: 0.4595 - accuracy: 0.7926 - val_loss: 0.4619 - val_accuracy: 0.7888\n",
            "Epoch 16/100\n",
            "313/313 [==============================] - 3s 8ms/step - loss: 0.4546 - accuracy: 0.7961 - val_loss: 0.4581 - val_accuracy: 0.7898\n",
            "Epoch 17/100\n",
            "313/313 [==============================] - 3s 8ms/step - loss: 0.4512 - accuracy: 0.7972 - val_loss: 0.4564 - val_accuracy: 0.7878\n",
            "Epoch 18/100\n",
            "313/313 [==============================] - 3s 8ms/step - loss: 0.4479 - accuracy: 0.7990 - val_loss: 0.4529 - val_accuracy: 0.7922\n",
            "Epoch 19/100\n",
            "313/313 [==============================] - 2s 8ms/step - loss: 0.4434 - accuracy: 0.8001 - val_loss: 0.4540 - val_accuracy: 0.7884\n",
            "Epoch 20/100\n",
            "313/313 [==============================] - 3s 8ms/step - loss: 0.4422 - accuracy: 0.8015 - val_loss: 0.4496 - val_accuracy: 0.7916\n",
            "Epoch 21/100\n",
            "313/313 [==============================] - 2s 8ms/step - loss: 0.4420 - accuracy: 0.8001 - val_loss: 0.4491 - val_accuracy: 0.7924\n",
            "Epoch 22/100\n",
            "313/313 [==============================] - 3s 9ms/step - loss: 0.4355 - accuracy: 0.8049 - val_loss: 0.4470 - val_accuracy: 0.7922\n",
            "Epoch 23/100\n",
            "313/313 [==============================] - 3s 8ms/step - loss: 0.4346 - accuracy: 0.8040 - val_loss: 0.4487 - val_accuracy: 0.7932\n",
            "Epoch 24/100\n",
            "313/313 [==============================] - 3s 8ms/step - loss: 0.4331 - accuracy: 0.8053 - val_loss: 0.4459 - val_accuracy: 0.7950\n",
            "Epoch 25/100\n",
            "313/313 [==============================] - 3s 8ms/step - loss: 0.4324 - accuracy: 0.8036 - val_loss: 0.4439 - val_accuracy: 0.7940\n",
            "Epoch 26/100\n",
            "313/313 [==============================] - 3s 8ms/step - loss: 0.4318 - accuracy: 0.8037 - val_loss: 0.4424 - val_accuracy: 0.7936\n",
            "Epoch 27/100\n",
            "313/313 [==============================] - 3s 8ms/step - loss: 0.4290 - accuracy: 0.8046 - val_loss: 0.4419 - val_accuracy: 0.7956\n",
            "Epoch 28/100\n",
            "313/313 [==============================] - 2s 8ms/step - loss: 0.4275 - accuracy: 0.8051 - val_loss: 0.4420 - val_accuracy: 0.7956\n",
            "Epoch 29/100\n",
            "313/313 [==============================] - 3s 8ms/step - loss: 0.4255 - accuracy: 0.8061 - val_loss: 0.4405 - val_accuracy: 0.7950\n",
            "Epoch 30/100\n",
            "313/313 [==============================] - 3s 8ms/step - loss: 0.4253 - accuracy: 0.8086 - val_loss: 0.4398 - val_accuracy: 0.7954\n",
            "Epoch 31/100\n",
            "313/313 [==============================] - 3s 8ms/step - loss: 0.4247 - accuracy: 0.8080 - val_loss: 0.4391 - val_accuracy: 0.7956\n",
            "Epoch 32/100\n",
            "313/313 [==============================] - 2s 8ms/step - loss: 0.4233 - accuracy: 0.8079 - val_loss: 0.4384 - val_accuracy: 0.7954\n",
            "Epoch 33/100\n",
            "313/313 [==============================] - 3s 8ms/step - loss: 0.4208 - accuracy: 0.8077 - val_loss: 0.4386 - val_accuracy: 0.7980\n",
            "Epoch 34/100\n",
            "313/313 [==============================] - 3s 8ms/step - loss: 0.4221 - accuracy: 0.8056 - val_loss: 0.4370 - val_accuracy: 0.7958\n",
            "Epoch 35/100\n",
            "313/313 [==============================] - 3s 8ms/step - loss: 0.4202 - accuracy: 0.8094 - val_loss: 0.4378 - val_accuracy: 0.7942\n",
            "Epoch 36/100\n",
            "313/313 [==============================] - 2s 8ms/step - loss: 0.4218 - accuracy: 0.8077 - val_loss: 0.4379 - val_accuracy: 0.8010\n",
            "Epoch 37/100\n",
            "313/313 [==============================] - 3s 8ms/step - loss: 0.4205 - accuracy: 0.8098 - val_loss: 0.4354 - val_accuracy: 0.7952\n",
            "Epoch 38/100\n",
            "313/313 [==============================] - 3s 8ms/step - loss: 0.4180 - accuracy: 0.8076 - val_loss: 0.4424 - val_accuracy: 0.7978\n",
            "Epoch 39/100\n",
            "313/313 [==============================] - 3s 8ms/step - loss: 0.4183 - accuracy: 0.8087 - val_loss: 0.4363 - val_accuracy: 0.8004\n",
            "Epoch 40/100\n",
            "313/313 [==============================] - 3s 8ms/step - loss: 0.4169 - accuracy: 0.8103 - val_loss: 0.4346 - val_accuracy: 0.7964\n",
            "Epoch 41/100\n",
            "313/313 [==============================] - 3s 8ms/step - loss: 0.4173 - accuracy: 0.8092 - val_loss: 0.4350 - val_accuracy: 0.7996\n",
            "Epoch 42/100\n",
            "313/313 [==============================] - 3s 8ms/step - loss: 0.4167 - accuracy: 0.8117 - val_loss: 0.4354 - val_accuracy: 0.8010\n",
            "Epoch 43/100\n",
            "313/313 [==============================] - 3s 8ms/step - loss: 0.4134 - accuracy: 0.8121 - val_loss: 0.4342 - val_accuracy: 0.8004\n",
            "Epoch 44/100\n",
            "313/313 [==============================] - 3s 8ms/step - loss: 0.4155 - accuracy: 0.8088 - val_loss: 0.4339 - val_accuracy: 0.7994\n",
            "Epoch 45/100\n",
            "313/313 [==============================] - 3s 8ms/step - loss: 0.4165 - accuracy: 0.8087 - val_loss: 0.4326 - val_accuracy: 0.8016\n",
            "Epoch 46/100\n",
            "313/313 [==============================] - 3s 8ms/step - loss: 0.4139 - accuracy: 0.8120 - val_loss: 0.4327 - val_accuracy: 0.7982\n",
            "Epoch 47/100\n",
            "313/313 [==============================] - 3s 8ms/step - loss: 0.4131 - accuracy: 0.8108 - val_loss: 0.4325 - val_accuracy: 0.7964\n",
            "Epoch 48/100\n",
            "313/313 [==============================] - 3s 8ms/step - loss: 0.4138 - accuracy: 0.8113 - val_loss: 0.4324 - val_accuracy: 0.7976\n",
            "Epoch 49/100\n",
            "313/313 [==============================] - 3s 8ms/step - loss: 0.4124 - accuracy: 0.8101 - val_loss: 0.4349 - val_accuracy: 0.7990\n",
            "Epoch 50/100\n",
            "313/313 [==============================] - 3s 8ms/step - loss: 0.4129 - accuracy: 0.8117 - val_loss: 0.4317 - val_accuracy: 0.7980\n",
            "Epoch 51/100\n",
            "313/313 [==============================] - 3s 8ms/step - loss: 0.4115 - accuracy: 0.8131 - val_loss: 0.4353 - val_accuracy: 0.7924\n",
            "Epoch 52/100\n",
            "313/313 [==============================] - 3s 8ms/step - loss: 0.4128 - accuracy: 0.8101 - val_loss: 0.4333 - val_accuracy: 0.8032\n",
            "Epoch 53/100\n",
            "313/313 [==============================] - 3s 8ms/step - loss: 0.4124 - accuracy: 0.8117 - val_loss: 0.4315 - val_accuracy: 0.7978\n",
            "Epoch 54/100\n",
            "313/313 [==============================] - 3s 8ms/step - loss: 0.4098 - accuracy: 0.8126 - val_loss: 0.4310 - val_accuracy: 0.8030\n",
            "Epoch 55/100\n",
            "313/313 [==============================] - 3s 8ms/step - loss: 0.4110 - accuracy: 0.8122 - val_loss: 0.4306 - val_accuracy: 0.8022\n",
            "Epoch 56/100\n",
            "313/313 [==============================] - 3s 8ms/step - loss: 0.4119 - accuracy: 0.8124 - val_loss: 0.4299 - val_accuracy: 0.8014\n",
            "Epoch 57/100\n",
            "313/313 [==============================] - 3s 8ms/step - loss: 0.4097 - accuracy: 0.8128 - val_loss: 0.4318 - val_accuracy: 0.8034\n",
            "Epoch 58/100\n",
            "313/313 [==============================] - 3s 8ms/step - loss: 0.4093 - accuracy: 0.8149 - val_loss: 0.4310 - val_accuracy: 0.8048\n",
            "Epoch 59/100\n",
            "313/313 [==============================] - 3s 8ms/step - loss: 0.4090 - accuracy: 0.8132 - val_loss: 0.4293 - val_accuracy: 0.8012\n",
            "Epoch 60/100\n",
            "313/313 [==============================] - 3s 8ms/step - loss: 0.4087 - accuracy: 0.8135 - val_loss: 0.4299 - val_accuracy: 0.8004\n",
            "Epoch 61/100\n",
            "313/313 [==============================] - 3s 8ms/step - loss: 0.4090 - accuracy: 0.8143 - val_loss: 0.4327 - val_accuracy: 0.8056\n",
            "Epoch 62/100\n",
            "313/313 [==============================] - 3s 8ms/step - loss: 0.4084 - accuracy: 0.8127 - val_loss: 0.4315 - val_accuracy: 0.8056\n"
          ]
        }
      ]
    },
    {
      "cell_type": "code",
      "source": [
        "# 훈련 손실과 검증 손실 그래프\n",
        "plt.plot(history.history['loss'])\n",
        "plt.plot(history.history['val_loss'])\n",
        "plt.xlabel('epoch')\n",
        "plt.ylabel('loss')\n",
        "plt.legend(['train', 'val'])\n",
        "plt.show()"
      ],
      "metadata": {
        "colab": {
          "base_uri": "https://localhost:8080/",
          "height": 279
        },
        "id": "Uxm80etS1M-a",
        "outputId": "9d22a6ca-5798-4499-9454-272735ba8cd3"
      },
      "execution_count": 9,
      "outputs": [
        {
          "output_type": "display_data",
          "data": {
            "text/plain": [
              "<Figure size 432x288 with 1 Axes>"
            ],
            "image/png": "[encoded data removed]"
          },
          "metadata": {
            "needs_background": "light"
          }
        }
      ]
    },
    {
      "cell_type": "markdown",
      "source": [
        "## 2개의 층을 연결하기"
      ],
      "metadata": {
        "id": "IvOo6GoP1OVF"
      }
    },
    {
      "cell_type": "markdown",
      "source": [
        "### 2개의 층을 연결하기"
      ],
      "metadata": {
        "id": "gcgp7PnN1P-W"
      }
    },
    {
      "cell_type": "code",
      "source": [
        "# 순환층 2개 연결\n",
        "model3 = keras.Sequential()\n",
        "model3.add(keras.layers.Embedding(500, 16, input_length=100))\n",
        "model3.add(keras.layers.LSTM(8, dropout=0.3, return_sequences=True)) # return_sequences=True 적용\n",
        "model3.add(keras.layers.LSTM(8, dropout=0.3)) # 마지막 순환층\n",
        "model3.add(keras.layers.Dense(1, activation='sigmoid'))"
      ],
      "metadata": {
        "id": "2mDZZku_1QgM"
      },
      "execution_count": 10,
      "outputs": []
    },
    {
      "cell_type": "code",
      "source": [
        "# 모델 구조\n",
        "model3.summary()"
      ],
      "metadata": {
        "colab": {
          "base_uri": "https://localhost:8080/"
        },
        "id": "c597gdNx1UE9",
        "outputId": "f3b26e11-a522-41c1-de61-1276725d6abd"
      },
      "execution_count": 11,
      "outputs": [
        {
          "output_type": "stream",
          "name": "stdout",
          "text": [
            "Model: \"sequential_2\"\n",
            "_________________________________________________________________\n",
            " Layer (type)                Output Shape              Param #   \n",
            "=================================================================\n",
            " embedding_2 (Embedding)     (None, 100, 16)           8000      \n",
            "                                                                 \n",
            " lstm_2 (LSTM)               (None, 100, 8)            800       \n",
            "                                                                 \n",
            " lstm_3 (LSTM)               (None, 8)                 544       \n",
            "                                                                 \n",
            " dense_2 (Dense)             (None, 1)                 9         \n",
            "                                                                 \n",
            "=================================================================\n",
            "Total params: 9,353\n",
            "Trainable params: 9,353\n",
            "Non-trainable params: 0\n",
            "_________________________________________________________________\n"
          ]
        }
      ]
    },
    {
      "cell_type": "code",
      "source": [
        "# 모델 컴파일 및 훈련\n",
        "rmsprop = keras.optimizers.RMSprop(learning_rate=1e-4)\n",
        "model3.compile(optimizer=rmsprop, loss='binary_crossentropy', metrics=['accuracy'])\n",
        "checkpoint_cb = keras.callbacks.ModelCheckpoint('best-2rnn-model.h5', save_best_only=True)\n",
        "early_stopping_cb = keras.callbacks.EarlyStopping(patience=3, restore_best_weights=True)\n",
        "history = model3.fit(train_seq, train_target, epochs=100, batch_size=64,\n",
        "                     validation_data=(val_seq, val_target),\n",
        "                     callbacks=[checkpoint_cb, early_stopping_cb])"
      ],
      "metadata": {
        "colab": {
          "base_uri": "https://localhost:8080/"
        },
        "id": "EeV4SYxz1UdF",
        "outputId": "a91f1666-2dac-48c2-bb56-85f51f3017fa"
      },
      "execution_count": 12,
      "outputs": [
        {
          "output_type": "stream",
          "name": "stdout",
          "text": [
            "Epoch 1/100\n",
            "313/313 [==============================] - 8s 15ms/step - loss: 0.6926 - accuracy: 0.5314 - val_loss: 0.6921 - val_accuracy: 0.5654\n",
            "Epoch 2/100\n",
            "313/313 [==============================] - 4s 12ms/step - loss: 0.6901 - accuracy: 0.5964 - val_loss: 0.6878 - val_accuracy: 0.6462\n",
            "Epoch 3/100\n",
            "313/313 [==============================] - 4s 12ms/step - loss: 0.6803 - accuracy: 0.6514 - val_loss: 0.6699 - val_accuracy: 0.6770\n",
            "Epoch 4/100\n",
            "313/313 [==============================] - 4s 12ms/step - loss: 0.6362 - accuracy: 0.6849 - val_loss: 0.5885 - val_accuracy: 0.7170\n",
            "Epoch 5/100\n",
            "313/313 [==============================] - 4s 12ms/step - loss: 0.5485 - accuracy: 0.7348 - val_loss: 0.5248 - val_accuracy: 0.7416\n",
            "Epoch 6/100\n",
            "313/313 [==============================] - 4s 12ms/step - loss: 0.5169 - accuracy: 0.7516 - val_loss: 0.5016 - val_accuracy: 0.7600\n",
            "Epoch 7/100\n",
            "313/313 [==============================] - 4s 12ms/step - loss: 0.4968 - accuracy: 0.7665 - val_loss: 0.4853 - val_accuracy: 0.7694\n",
            "Epoch 8/100\n",
            "313/313 [==============================] - 4s 12ms/step - loss: 0.4831 - accuracy: 0.7746 - val_loss: 0.4762 - val_accuracy: 0.7736\n",
            "Epoch 9/100\n",
            "313/313 [==============================] - 4s 12ms/step - loss: 0.4754 - accuracy: 0.7797 - val_loss: 0.4686 - val_accuracy: 0.7800\n",
            "Epoch 10/100\n",
            "313/313 [==============================] - 4s 12ms/step - loss: 0.4661 - accuracy: 0.7832 - val_loss: 0.4639 - val_accuracy: 0.7848\n",
            "Epoch 11/100\n",
            "313/313 [==============================] - 4s 12ms/step - loss: 0.4615 - accuracy: 0.7865 - val_loss: 0.4620 - val_accuracy: 0.7836\n",
            "Epoch 12/100\n",
            "313/313 [==============================] - 4s 13ms/step - loss: 0.4557 - accuracy: 0.7921 - val_loss: 0.4540 - val_accuracy: 0.7870\n",
            "Epoch 13/100\n",
            "313/313 [==============================] - 4s 12ms/step - loss: 0.4542 - accuracy: 0.7906 - val_loss: 0.4513 - val_accuracy: 0.7880\n",
            "Epoch 14/100\n",
            "313/313 [==============================] - 4s 13ms/step - loss: 0.4477 - accuracy: 0.7950 - val_loss: 0.4491 - val_accuracy: 0.7880\n",
            "Epoch 15/100\n",
            "313/313 [==============================] - 4s 12ms/step - loss: 0.4463 - accuracy: 0.7975 - val_loss: 0.4487 - val_accuracy: 0.7916\n",
            "Epoch 16/100\n",
            "313/313 [==============================] - 4s 12ms/step - loss: 0.4449 - accuracy: 0.7974 - val_loss: 0.4480 - val_accuracy: 0.7892\n",
            "Epoch 17/100\n",
            "313/313 [==============================] - 4s 12ms/step - loss: 0.4414 - accuracy: 0.8004 - val_loss: 0.4566 - val_accuracy: 0.7890\n",
            "Epoch 18/100\n",
            "313/313 [==============================] - 4s 12ms/step - loss: 0.4399 - accuracy: 0.7979 - val_loss: 0.4459 - val_accuracy: 0.7904\n",
            "Epoch 19/100\n",
            "313/313 [==============================] - 4s 12ms/step - loss: 0.4356 - accuracy: 0.8016 - val_loss: 0.4432 - val_accuracy: 0.7948\n",
            "Epoch 20/100\n",
            "313/313 [==============================] - 4s 12ms/step - loss: 0.4380 - accuracy: 0.7991 - val_loss: 0.4424 - val_accuracy: 0.7952\n",
            "Epoch 21/100\n",
            "313/313 [==============================] - 4s 12ms/step - loss: 0.4344 - accuracy: 0.8023 - val_loss: 0.4403 - val_accuracy: 0.7956\n",
            "Epoch 22/100\n",
            "313/313 [==============================] - 4s 12ms/step - loss: 0.4335 - accuracy: 0.8026 - val_loss: 0.4390 - val_accuracy: 0.7952\n",
            "Epoch 23/100\n",
            "313/313 [==============================] - 4s 12ms/step - loss: 0.4329 - accuracy: 0.8029 - val_loss: 0.4382 - val_accuracy: 0.7962\n",
            "Epoch 24/100\n",
            "313/313 [==============================] - 4s 12ms/step - loss: 0.4298 - accuracy: 0.8041 - val_loss: 0.4396 - val_accuracy: 0.7968\n",
            "Epoch 25/100\n",
            "313/313 [==============================] - 4s 12ms/step - loss: 0.4321 - accuracy: 0.8036 - val_loss: 0.4369 - val_accuracy: 0.7982\n",
            "Epoch 26/100\n",
            "313/313 [==============================] - 4s 12ms/step - loss: 0.4305 - accuracy: 0.8038 - val_loss: 0.4364 - val_accuracy: 0.7928\n",
            "Epoch 27/100\n",
            "313/313 [==============================] - 4s 12ms/step - loss: 0.4274 - accuracy: 0.8044 - val_loss: 0.4363 - val_accuracy: 0.7970\n",
            "Epoch 28/100\n",
            "313/313 [==============================] - 4s 12ms/step - loss: 0.4264 - accuracy: 0.8036 - val_loss: 0.4355 - val_accuracy: 0.7944\n",
            "Epoch 29/100\n",
            "313/313 [==============================] - 4s 12ms/step - loss: 0.4254 - accuracy: 0.8050 - val_loss: 0.4350 - val_accuracy: 0.7964\n",
            "Epoch 30/100\n",
            "313/313 [==============================] - 4s 12ms/step - loss: 0.4250 - accuracy: 0.8053 - val_loss: 0.4348 - val_accuracy: 0.7974\n",
            "Epoch 31/100\n",
            "313/313 [==============================] - 4s 12ms/step - loss: 0.4243 - accuracy: 0.8087 - val_loss: 0.4339 - val_accuracy: 0.8002\n",
            "Epoch 32/100\n",
            "313/313 [==============================] - 4s 12ms/step - loss: 0.4247 - accuracy: 0.8054 - val_loss: 0.4365 - val_accuracy: 0.7948\n",
            "Epoch 33/100\n",
            "313/313 [==============================] - 4s 12ms/step - loss: 0.4231 - accuracy: 0.8067 - val_loss: 0.4342 - val_accuracy: 0.7996\n",
            "Epoch 34/100\n",
            "313/313 [==============================] - 4s 12ms/step - loss: 0.4229 - accuracy: 0.8076 - val_loss: 0.4333 - val_accuracy: 0.8020\n",
            "Epoch 35/100\n",
            "313/313 [==============================] - 4s 12ms/step - loss: 0.4216 - accuracy: 0.8095 - val_loss: 0.4337 - val_accuracy: 0.8036\n",
            "Epoch 36/100\n",
            "313/313 [==============================] - 4s 12ms/step - loss: 0.4219 - accuracy: 0.8091 - val_loss: 0.4326 - val_accuracy: 0.8000\n",
            "Epoch 37/100\n",
            "313/313 [==============================] - 4s 12ms/step - loss: 0.4199 - accuracy: 0.8088 - val_loss: 0.4334 - val_accuracy: 0.8008\n",
            "Epoch 38/100\n",
            "313/313 [==============================] - 4s 12ms/step - loss: 0.4203 - accuracy: 0.8107 - val_loss: 0.4329 - val_accuracy: 0.7984\n",
            "Epoch 39/100\n",
            "313/313 [==============================] - 4s 12ms/step - loss: 0.4201 - accuracy: 0.8077 - val_loss: 0.4320 - val_accuracy: 0.8040\n",
            "Epoch 40/100\n",
            "313/313 [==============================] - 4s 12ms/step - loss: 0.4192 - accuracy: 0.8065 - val_loss: 0.4330 - val_accuracy: 0.8004\n",
            "Epoch 41/100\n",
            "313/313 [==============================] - 4s 12ms/step - loss: 0.4185 - accuracy: 0.8089 - val_loss: 0.4320 - val_accuracy: 0.8028\n",
            "Epoch 42/100\n",
            "313/313 [==============================] - 4s 13ms/step - loss: 0.4185 - accuracy: 0.8076 - val_loss: 0.4313 - val_accuracy: 0.8038\n",
            "Epoch 43/100\n",
            "313/313 [==============================] - 4s 12ms/step - loss: 0.4173 - accuracy: 0.8077 - val_loss: 0.4336 - val_accuracy: 0.8052\n",
            "Epoch 44/100\n",
            "313/313 [==============================] - 4s 12ms/step - loss: 0.4165 - accuracy: 0.8098 - val_loss: 0.4319 - val_accuracy: 0.8050\n",
            "Epoch 45/100\n",
            "313/313 [==============================] - 4s 12ms/step - loss: 0.4156 - accuracy: 0.8128 - val_loss: 0.4318 - val_accuracy: 0.8058\n"
          ]
        }
      ]
    },
    {
      "cell_type": "code",
      "source": [
        "# 훈련 손실과 검증 손실 그래프\n",
        "plt.plot(history.history['loss'])\n",
        "plt.plot(history.history['val_loss'])\n",
        "plt.xlabel('epoch')\n",
        "plt.ylabel('loss')\n",
        "plt.legend(['train', 'val'])\n",
        "plt.show()"
      ],
      "metadata": {
        "colab": {
          "base_uri": "https://localhost:8080/",
          "height": 279
        },
        "id": "_vLhpZnu1ZKd",
        "outputId": "b69f413a-1b23-4220-e0cd-bf52cdbbf9eb"
      },
      "execution_count": 14,
      "outputs": [
        {
          "output_type": "display_data",
          "data": {
            "text/plain": [
              "<Figure size 432x288 with 1 Axes>"
            ],
            "image/png": "[encoded data removed]"
          },
          "metadata": {
            "needs_background": "light"
          }
        }
      ]
    },
    {
      "cell_type": "markdown",
      "source": [
        "## GRU 신경망 훈련하기"
      ],
      "metadata": {
        "id": "CB0LZmUO1doW"
      }
    },
    {
      "cell_type": "markdown",
      "source": [
        "### GRU 신경망"
      ],
      "metadata": {
        "id": "MJ2fwnEq1eju"
      }
    },
    {
      "cell_type": "code",
      "source": [
        "# GRU 셀을 사용한 순환층\n",
        "model4 = keras.Sequential()\n",
        "model4.add(keras.layers.Embedding(500, 16, input_length=100))\n",
        "model4.add(keras.layers.GRU(8))\n",
        "model4.add(keras.layers.Dense(1, activation='sigmoid'))"
      ],
      "metadata": {
        "id": "vxx8gTJJ1fjf"
      },
      "execution_count": 15,
      "outputs": []
    },
    {
      "cell_type": "code",
      "source": [
        "# 모델 구조\n",
        "model4.summary()"
      ],
      "metadata": {
        "colab": {
          "base_uri": "https://localhost:8080/"
        },
        "id": "4WjjqEkR1g04",
        "outputId": "fc8bdb8d-0b61-4a1c-ff46-5f4496a10aac"
      },
      "execution_count": 16,
      "outputs": [
        {
          "output_type": "stream",
          "name": "stdout",
          "text": [
            "Model: \"sequential_3\"\n",
            "_________________________________________________________________\n",
            " Layer (type)                Output Shape              Param #   \n",
            "=================================================================\n",
            " embedding_3 (Embedding)     (None, 100, 16)           8000      \n",
            "                                                                 \n",
            " gru (GRU)                   (None, 8)                 624       \n",
            "                                                                 \n",
            " dense_3 (Dense)             (None, 1)                 9         \n",
            "                                                                 \n",
            "=================================================================\n",
            "Total params: 8,633\n",
            "Trainable params: 8,633\n",
            "Non-trainable params: 0\n",
            "_________________________________________________________________\n"
          ]
        }
      ]
    },
    {
      "cell_type": "code",
      "source": [
        "# 모델 컴파일 및 훈련\n",
        "rmsprop = keras.optimizers.RMSprop(learning_rate=1e-4)\n",
        "model4.compile(optimizer=rmsprop, loss='binary_crossentropy', metrics=['accuracy'])\n",
        "checkpoint_cb = keras.callbacks.ModelCheckpoint('best-gru-model.h5', save_best_only=True)\n",
        "early_stopping_cb = keras.callbacks.EarlyStopping(patience=3, restore_best_weights=True)\n",
        "history = model4.fit(train_seq, train_target, epochs=100, batch_size=64,\n",
        "                     validation_data=(val_seq, val_target),\n",
        "                     callbacks=[checkpoint_cb, early_stopping_cb])"
      ],
      "metadata": {
        "colab": {
          "base_uri": "https://localhost:8080/"
        },
        "id": "5M1AhtOC1iCB",
        "outputId": "15626208-fe31-473e-95b7-ab30d258bf08"
      },
      "execution_count": 17,
      "outputs": [
        {
          "output_type": "stream",
          "name": "stdout",
          "text": [
            "Epoch 1/100\n",
            "313/313 [==============================] - 4s 9ms/step - loss: 0.6924 - accuracy: 0.5292 - val_loss: 0.6915 - val_accuracy: 0.5390\n",
            "Epoch 2/100\n",
            "313/313 [==============================] - 2s 8ms/step - loss: 0.6895 - accuracy: 0.5888 - val_loss: 0.6879 - val_accuracy: 0.6058\n",
            "Epoch 3/100\n",
            "313/313 [==============================] - 2s 8ms/step - loss: 0.6844 - accuracy: 0.6258 - val_loss: 0.6817 - val_accuracy: 0.6252\n",
            "Epoch 4/100\n",
            "313/313 [==============================] - 2s 8ms/step - loss: 0.6749 - accuracy: 0.6416 - val_loss: 0.6697 - val_accuracy: 0.6440\n",
            "Epoch 5/100\n",
            "313/313 [==============================] - 3s 8ms/step - loss: 0.6575 - accuracy: 0.6654 - val_loss: 0.6470 - val_accuracy: 0.6730\n",
            "Epoch 6/100\n",
            "313/313 [==============================] - 2s 8ms/step - loss: 0.6185 - accuracy: 0.6977 - val_loss: 0.5910 - val_accuracy: 0.7134\n",
            "Epoch 7/100\n",
            "313/313 [==============================] - 2s 8ms/step - loss: 0.5466 - accuracy: 0.7414 - val_loss: 0.5293 - val_accuracy: 0.7492\n",
            "Epoch 8/100\n",
            "313/313 [==============================] - 2s 8ms/step - loss: 0.5141 - accuracy: 0.7602 - val_loss: 0.5105 - val_accuracy: 0.7616\n",
            "Epoch 9/100\n",
            "313/313 [==============================] - 3s 8ms/step - loss: 0.4964 - accuracy: 0.7711 - val_loss: 0.4984 - val_accuracy: 0.7638\n",
            "Epoch 10/100\n",
            "313/313 [==============================] - 2s 8ms/step - loss: 0.4833 - accuracy: 0.7787 - val_loss: 0.4871 - val_accuracy: 0.7756\n",
            "Epoch 11/100\n",
            "313/313 [==============================] - 2s 8ms/step - loss: 0.4720 - accuracy: 0.7861 - val_loss: 0.4789 - val_accuracy: 0.7796\n",
            "Epoch 12/100\n",
            "313/313 [==============================] - 2s 8ms/step - loss: 0.4636 - accuracy: 0.7918 - val_loss: 0.4787 - val_accuracy: 0.7704\n",
            "Epoch 13/100\n",
            "313/313 [==============================] - 2s 8ms/step - loss: 0.4567 - accuracy: 0.7951 - val_loss: 0.4680 - val_accuracy: 0.7812\n",
            "Epoch 14/100\n",
            "313/313 [==============================] - 2s 8ms/step - loss: 0.4508 - accuracy: 0.7984 - val_loss: 0.4683 - val_accuracy: 0.7762\n",
            "Epoch 15/100\n",
            "313/313 [==============================] - 2s 8ms/step - loss: 0.4461 - accuracy: 0.7993 - val_loss: 0.4619 - val_accuracy: 0.7884\n",
            "Epoch 16/100\n",
            "313/313 [==============================] - 3s 8ms/step - loss: 0.4417 - accuracy: 0.8030 - val_loss: 0.4620 - val_accuracy: 0.7796\n",
            "Epoch 17/100\n",
            "313/313 [==============================] - 3s 8ms/step - loss: 0.4383 - accuracy: 0.8044 - val_loss: 0.4566 - val_accuracy: 0.7894\n",
            "Epoch 18/100\n",
            "313/313 [==============================] - 2s 8ms/step - loss: 0.4355 - accuracy: 0.8066 - val_loss: 0.4543 - val_accuracy: 0.7888\n",
            "Epoch 19/100\n",
            "313/313 [==============================] - 2s 8ms/step - loss: 0.4326 - accuracy: 0.8087 - val_loss: 0.4531 - val_accuracy: 0.7912\n",
            "Epoch 20/100\n",
            "313/313 [==============================] - 2s 8ms/step - loss: 0.4305 - accuracy: 0.8097 - val_loss: 0.4522 - val_accuracy: 0.7914\n",
            "Epoch 21/100\n",
            "313/313 [==============================] - 3s 8ms/step - loss: 0.4286 - accuracy: 0.8114 - val_loss: 0.4512 - val_accuracy: 0.7892\n",
            "Epoch 22/100\n",
            "313/313 [==============================] - 3s 8ms/step - loss: 0.4270 - accuracy: 0.8116 - val_loss: 0.4514 - val_accuracy: 0.7892\n",
            "Epoch 23/100\n",
            "313/313 [==============================] - 3s 8ms/step - loss: 0.4256 - accuracy: 0.8118 - val_loss: 0.4495 - val_accuracy: 0.7900\n",
            "Epoch 24/100\n",
            "313/313 [==============================] - 2s 8ms/step - loss: 0.4245 - accuracy: 0.8133 - val_loss: 0.4492 - val_accuracy: 0.7910\n",
            "Epoch 25/100\n",
            "313/313 [==============================] - 3s 8ms/step - loss: 0.4229 - accuracy: 0.8142 - val_loss: 0.4530 - val_accuracy: 0.7864\n",
            "Epoch 26/100\n",
            "313/313 [==============================] - 2s 8ms/step - loss: 0.4223 - accuracy: 0.8123 - val_loss: 0.4480 - val_accuracy: 0.7910\n",
            "Epoch 27/100\n",
            "313/313 [==============================] - 2s 8ms/step - loss: 0.4217 - accuracy: 0.8142 - val_loss: 0.4479 - val_accuracy: 0.7914\n",
            "Epoch 28/100\n",
            "313/313 [==============================] - 2s 8ms/step - loss: 0.4201 - accuracy: 0.8151 - val_loss: 0.4518 - val_accuracy: 0.7856\n",
            "Epoch 29/100\n",
            "313/313 [==============================] - 2s 8ms/step - loss: 0.4201 - accuracy: 0.8158 - val_loss: 0.4464 - val_accuracy: 0.7928\n",
            "Epoch 30/100\n",
            "313/313 [==============================] - 2s 8ms/step - loss: 0.4194 - accuracy: 0.8156 - val_loss: 0.4459 - val_accuracy: 0.7932\n",
            "Epoch 31/100\n",
            "313/313 [==============================] - 2s 8ms/step - loss: 0.4186 - accuracy: 0.8138 - val_loss: 0.4449 - val_accuracy: 0.7952\n",
            "Epoch 32/100\n",
            "313/313 [==============================] - 2s 8ms/step - loss: 0.4178 - accuracy: 0.8150 - val_loss: 0.4458 - val_accuracy: 0.7904\n",
            "Epoch 33/100\n",
            "313/313 [==============================] - 2s 8ms/step - loss: 0.4176 - accuracy: 0.8150 - val_loss: 0.4458 - val_accuracy: 0.7932\n",
            "Epoch 34/100\n",
            "313/313 [==============================] - 2s 8ms/step - loss: 0.4171 - accuracy: 0.8169 - val_loss: 0.4460 - val_accuracy: 0.7914\n"
          ]
        }
      ]
    },
    {
      "cell_type": "code",
      "source": [
        "# 훈련 손실과 검증 손실 그래프\n",
        "plt.plot(history.history['loss'])\n",
        "plt.plot(history.history['val_loss'])\n",
        "plt.xlabel('epoch')\n",
        "plt.ylabel('loss')\n",
        "plt.legend(['train', 'val'])\n",
        "plt.show()"
      ],
      "metadata": {
        "colab": {
          "base_uri": "https://localhost:8080/",
          "height": 279
        },
        "id": "HvF02dVp1l7O",
        "outputId": "9ca12b39-2b85-4de7-955b-c814d18330f8"
      },
      "execution_count": 18,
      "outputs": [
        {
          "output_type": "display_data",
          "data": {
            "text/plain": [
              "<Figure size 432x288 with 1 Axes>"
            ],
            "image/png": "[encoded data removed]"
          },
          "metadata": {
            "needs_background": "light"
          }
        }
      ]
    },
    {
      "cell_type": "code",
      "source": [
        "# 테스트 세트에 대한 성능 확인\n",
        "# 테스트 세트를 훈련 세트와 동일한 방식으로 변환한 후 \n",
        "# best-gru-model.h5 파일을 읽고 evaluate() 메소드로 테스트 세트에서 성능을 계산\n",
        "test_seq = pad_sequences(test_input, maxlen=100)\n",
        "rnn_model = keras.models.load_model('best-2rnn-model.h5')\n",
        "rnn_model.evaluate(test_seq, test_target)"
      ],
      "metadata": {
        "colab": {
          "base_uri": "https://localhost:8080/"
        },
        "id": "n5WnswAG1r2i",
        "outputId": "f15064c5-b949-4280-cbb9-259ada5d3a6b"
      },
      "execution_count": 19,
      "outputs": [
        {
          "output_type": "stream",
          "name": "stdout",
          "text": [
            "782/782 [==============================] - 5s 5ms/step - loss: 0.4244 - accuracy: 0.8014\n"
          ]
        },
        {
          "output_type": "execute_result",
          "data": {
            "text/plain": [
              "[0.4244369566440582, 0.8014400005340576]"
            ]
          },
          "metadata": {},
          "execution_count": 19
        }
      ]
    }
  ]
}