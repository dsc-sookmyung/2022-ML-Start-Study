{
  "nbformat": 4,
  "nbformat_minor": 0,
  "metadata": {
    "colab": {
      "name": "07_03_신경망모델훈련.ipynb",
      "provenance": [],
      "collapsed_sections": []
    },
    "kernelspec": {
      "name": "python3",
      "display_name": "Python 3"
    },
    "language_info": {
      "name": "python"
    },
    "accelerator": "GPU",
    "gpuClass": "standard"
  },
  "cells": [
    {
      "cell_type": "markdown",
      "source": [
        "## **07-3) 신경망 모델 훈련**"
      ],
      "metadata": {
        "id": "UFsGzWIf6ath"
      }
    },
    {
      "cell_type": "markdown",
      "source": [
        "인공 신경망 모델을 훈련하는 모범 사례와 필요한 도구들을 살펴본다."
      ],
      "metadata": {
        "id": "HHO7oPEN7Gmp"
      }
    },
    {
      "cell_type": "markdown",
      "source": [
        "#### **용어 정리**\n",
        "- **드롭 아웃**: 은닉층에 있는 뉴런의 출력을 랜덤하게 꺼서 과대적합을 막는 기법. 드롭아웃은 훈련 중에 적용되며 평가나 예측에서는 적용하지 않는다. 텐서플로는 이를 자동으로 처리해준다.\n",
        "\n",
        "- **콜백**: 케라스 모델을 훈련하는 도중에 어떤 작업을 수행할 수 있도록 도와주는 도구. 대표적으로 최상의 모델을 자동으로 저장해주거나 검증 점수가 더 이상 향상되지 않으면 일찍 종료할 수 있다.\n",
        "\n",
        "- **조기 종료**: 검증 점수가 더 이상 감소하지 않고 상승하여 과대적합이 일어나면 훈련을 계속 진행하지 않고 멈추는 기법으로, 계산 비용과 시간을 절약할 수 있다."
      ],
      "metadata": {
        "id": "zd3ZvhYi6dvg"
      }
    },
    {
      "cell_type": "markdown",
      "source": [
        "<br><hr><br>\n",
        "\n",
        "### **손실 곡선**"
      ],
      "metadata": {
        "id": "0abezAGD7Byr"
      }
    },
    {
      "cell_type": "markdown",
      "source": [
        "케라스의 fit() 메서드는 **History 클래스 객체**를 반환한다.<br>\n",
        "History 객체에는 훈련 과정에서 계산한 지표인 손실과 정확도 값이 저장되어 있다.<br>\n",
        "이 값을 사용하여 그래프를 그려볼 것이다."
      ],
      "metadata": {
        "id": "3v6wYUpE7axq"
      }
    },
    {
      "cell_type": "markdown",
      "source": [
        "먼저 패션 MNIST 데이터셋을 적재하고 훈련 세트와 검증 세트로 나눈다."
      ],
      "metadata": {
        "id": "grkZbqds7sZy"
      }
    },
    {
      "cell_type": "code",
      "execution_count": 2,
      "metadata": {
        "colab": {
          "base_uri": "https://localhost:8080/"
        },
        "id": "qC_xXKuU6XK7",
        "outputId": "a4497538-af5a-4818-9641-82bb1d5cbcd0"
      },
      "outputs": [
        {
          "output_type": "stream",
          "name": "stdout",
          "text": [
            "Downloading data from https://storage.googleapis.com/tensorflow/tf-keras-datasets/train-labels-idx1-ubyte.gz\n",
            "32768/29515 [=================================] - 0s 0us/step\n",
            "40960/29515 [=========================================] - 0s 0us/step\n",
            "Downloading data from https://storage.googleapis.com/tensorflow/tf-keras-datasets/train-images-idx3-ubyte.gz\n",
            "26427392/26421880 [==============================] - 0s 0us/step\n",
            "26435584/26421880 [==============================] - 0s 0us/step\n",
            "Downloading data from https://storage.googleapis.com/tensorflow/tf-keras-datasets/t10k-labels-idx1-ubyte.gz\n",
            "16384/5148 [===============================================================================================] - 0s 0us/step\n",
            "Downloading data from https://storage.googleapis.com/tensorflow/tf-keras-datasets/t10k-images-idx3-ubyte.gz\n",
            "4423680/4422102 [==============================] - 0s 0us/step\n",
            "4431872/4422102 [==============================] - 0s 0us/step\n"
          ]
        }
      ],
      "source": [
        "from tensorflow import keras\n",
        "from sklearn.model_selection import train_test_split\n",
        "\n",
        "(train_input, train_target), (test_input, test_target) = keras.datasets.fashion_mnist.load_data()\n",
        "train_scaled = train_input / 255.0\n",
        "train_scaled, val_scaled, train_target, val_target = train_test_split(train_scaled, train_target, test_size=0.2, random_state=42)"
      ]
    },
    {
      "cell_type": "markdown",
      "source": [
        "그다음 모델을 만들 건데, 이번에는 모델을 만드는 간단한 함수를 정의해볼 것이다."
      ],
      "metadata": {
        "id": "ZWvGjhpP8MAo"
      }
    },
    {
      "cell_type": "code",
      "source": [
        "def model_fn(a_layer=None):\n",
        "    model = keras.Sequential()\n",
        "    model.add(keras.layers.Flatten(input_shape=(28, 28))) # Flatten\n",
        "    model.add(keras.layers.Dense(100, activation='relu')) # relu\n",
        "    if a_layer: # 케라스 층을 추가하면 은닉층 뒤에 하나의 층 추가\n",
        "        model.add(a_layer)\n",
        "    model.add(keras.layers.Dense(10, activation='softmax'))\n",
        "    return model"
      ],
      "metadata": {
        "id": "nBn6ZhO-8R-_"
      },
      "execution_count": 3,
      "outputs": []
    },
    {
      "cell_type": "code",
      "source": [
        "# 매개변수로 층 추가하지 않고 모델 생성\n",
        "model = model_fn()\n",
        "model.summary()"
      ],
      "metadata": {
        "colab": {
          "base_uri": "https://localhost:8080/"
        },
        "id": "jhQQlzCX8yb3",
        "outputId": "831dc419-ae4b-45d6-d225-817ae14f13f8"
      },
      "execution_count": 4,
      "outputs": [
        {
          "output_type": "stream",
          "name": "stdout",
          "text": [
            "Model: \"sequential\"\n",
            "_________________________________________________________________\n",
            " Layer (type)                Output Shape              Param #   \n",
            "=================================================================\n",
            " flatten (Flatten)           (None, 784)               0         \n",
            "                                                                 \n",
            " dense (Dense)               (None, 100)               78500     \n",
            "                                                                 \n",
            " dense_1 (Dense)             (None, 10)                1010      \n",
            "                                                                 \n",
            "=================================================================\n",
            "Total params: 79,510\n",
            "Trainable params: 79,510\n",
            "Non-trainable params: 0\n",
            "_________________________________________________________________\n"
          ]
        }
      ]
    },
    {
      "cell_type": "markdown",
      "source": [
        "이전 절과 동일하게 모델을 훈련하지만 fit() 메서드의 결과를 history 변수에 담을 것이다."
      ],
      "metadata": {
        "id": "1MAMPMz29pki"
      }
    },
    {
      "cell_type": "code",
      "source": [
        "model.compile(loss='sparse_categorical_crossentropy', metrics='accuracy')\n",
        "history = model.fit(train_scaled, train_target, epochs=5, verbose=0)"
      ],
      "metadata": {
        "id": "M0gLZpts9vmM"
      },
      "execution_count": 5,
      "outputs": []
    },
    {
      "cell_type": "markdown",
      "source": [
        "- **verbose**: 훈련 과정 출력 조절\n",
        "  - verbose=0: 훈련 과정 나타내지 않음\n",
        "  - verbose=1: 에포크마다 진행 막대와 함께 손실 등 지표 출력\n",
        "  - verbose=2: 진행 막대 빼고 출력"
      ],
      "metadata": {
        "id": "nf8J5zmO902G"
      }
    },
    {
      "cell_type": "markdown",
      "source": [
        "history 객체에는 훈련 측정값이 담겨 있는 history 딕셔너리가 들어있다."
      ],
      "metadata": {
        "id": "uOUv14yM-FlQ"
      }
    },
    {
      "cell_type": "code",
      "source": [
        "print(history.history.keys())"
      ],
      "metadata": {
        "colab": {
          "base_uri": "https://localhost:8080/"
        },
        "id": "qfpbD548-KOY",
        "outputId": "51b2b907-d145-4b94-a066-545228b2f70c"
      },
      "execution_count": 6,
      "outputs": [
        {
          "output_type": "stream",
          "name": "stdout",
          "text": [
            "dict_keys(['loss', 'accuracy'])\n"
          ]
        }
      ]
    },
    {
      "cell_type": "markdown",
      "source": [
        "이 딕셔너리에는 손실과 정확도가 포함되어 있다. <br>\n",
        "compile() 메서드에서 metrics='accuracy'를 지정해줬기 때문에 history 속성에 정확도가 추가된 것이다."
      ],
      "metadata": {
        "id": "iMy_IuHP-Zgk"
      }
    },
    {
      "cell_type": "markdown",
      "source": [
        "history 속성에 포함된 손실과 정확도는 에포크마다 계산한 값이 순서대로 나열된 단순한 리스트로, 맷플롯립을 사용해 그래프로 그려볼 수 있다."
      ],
      "metadata": {
        "id": "m9DCTxB9-l7a"
      }
    },
    {
      "cell_type": "code",
      "source": [
        "import matplotlib.pyplot as plt\n",
        "plt.plot(history.history['loss'])\n",
        "plt.xlabel('epoch')\n",
        "plt.ylabel('loss')\n",
        "plt.show()"
      ],
      "metadata": {
        "colab": {
          "base_uri": "https://localhost:8080/",
          "height": 279
        },
        "id": "22PwX0mh-usK",
        "outputId": "044d2ad6-3efa-4b59-9b48-1d26c6767106"
      },
      "execution_count": 7,
      "outputs": [
        {
          "output_type": "display_data",
          "data": {
            "text/plain": [
              "<Figure size 432x288 with 1 Axes>"
            ],
            "image/png": "[encoded data removed]"
          },
          "metadata": {
            "needs_background": "light"
          }
        }
      ]
    },
    {
      "cell_type": "markdown",
      "source": [
        "이번에는 정확도를 출력해보자."
      ],
      "metadata": {
        "id": "R1K9DMJ1-0P4"
      }
    },
    {
      "cell_type": "code",
      "source": [
        "plt.plot(history.history['accuracy'])\n",
        "plt.xlabel('epoch')\n",
        "plt.ylabel('accuracy')\n",
        "plt.show()"
      ],
      "metadata": {
        "colab": {
          "base_uri": "https://localhost:8080/",
          "height": 279
        },
        "id": "dr0KBd7J-3eB",
        "outputId": "5484c029-54bf-4f5f-a166-9804dc8f3962"
      },
      "execution_count": 8,
      "outputs": [
        {
          "output_type": "display_data",
          "data": {
            "text/plain": [
              "<Figure size 432x288 with 1 Axes>"
            ],
            "image/png": "[encoded data removed]"
          },
          "metadata": {
            "needs_background": "light"
          }
        }
      ]
    },
    {
      "cell_type": "markdown",
      "source": [
        "확실히 에포크마다 손실이 감소하고 정확도가 향상한다."
      ],
      "metadata": {
        "id": "4XYaMbqZ-5Sq"
      }
    },
    {
      "cell_type": "markdown",
      "source": [
        "그럼 이번에는 에포크 횟수를 20으로 늘려서 모델을 훈련하고 손실 그래프를 그려볼 것이다.<br>\n",
        "예상대로 손실이 잘 감소하는 것을 확인할 수 있다."
      ],
      "metadata": {
        "id": "WEuWnlWB-9Oc"
      }
    },
    {
      "cell_type": "code",
      "source": [
        "model = model_fn()\n",
        "model.compile(loss='sparse_categorical_crossentropy', metrics='accuracy')\n",
        "history = model.fit(train_scaled, train_target, epochs=20, verbose=0)\n",
        "plt.plot(history.history['loss'])\n",
        "plt.xlabel('epoch')\n",
        "plt.ylabel('loss')\n",
        "plt.show()"
      ],
      "metadata": {
        "colab": {
          "base_uri": "https://localhost:8080/",
          "height": 279
        },
        "id": "JQNMxr3k_EvZ",
        "outputId": "8cba45ce-7a55-4c89-8440-aee4d16dddd9"
      },
      "execution_count": 9,
      "outputs": [
        {
          "output_type": "display_data",
          "data": {
            "text/plain": [
              "<Figure size 432x288 with 1 Axes>"
            ],
            "image/png": "[encoded data removed]"
          },
          "metadata": {
            "needs_background": "light"
          }
        }
      ]
    },
    {
      "cell_type": "markdown",
      "source": [
        "<br><hr><br>\n",
        "\n",
        "### **검증 손실**"
      ],
      "metadata": {
        "id": "YW-_pzoN_NDK"
      }
    },
    {
      "cell_type": "markdown",
      "source": [
        "에포크에 따른 과대적합과 과소적합을 파악하려면 훈련 세트뿐만 아니라 검증 세트에 대한 점수도 필요하다.<br>\n",
        "이번에는 손실을 사용하여 과대/과소 적합을 다뤄볼 것이다."
      ],
      "metadata": {
        "id": "Df2sFdzgCV41"
      }
    },
    {
      "cell_type": "markdown",
      "source": [
        "에포크마다 검증 손실을 계산하기 위해 케라스 모델의 fit() 메서드에서 validation_data 매개변수를 지정한다.<br>\n",
        "검증에 사용할 입력과 타깃값을 튜플로 전달하면 된다."
      ],
      "metadata": {
        "id": "tp-CqE8vCzuX"
      }
    },
    {
      "cell_type": "code",
      "source": [
        "model = model_fn()\n",
        "model.compile(loss='sparse_categorical_crossentropy', metrics='accuracy')\n",
        "history = model.fit(train_scaled, train_target, epochs=20, verbose=0, validation_data=(val_scaled, val_target))"
      ],
      "metadata": {
        "id": "nLzNek5FDNwz"
      },
      "execution_count": 10,
      "outputs": []
    },
    {
      "cell_type": "markdown",
      "source": [
        " 반환된 history.history 딕셔너리에 어떤 값이 들어있는지 키를 확인해보자."
      ],
      "metadata": {
        "id": "3qk80gi8DfVJ"
      }
    },
    {
      "cell_type": "code",
      "source": [
        "print(history.history.keys())"
      ],
      "metadata": {
        "colab": {
          "base_uri": "https://localhost:8080/"
        },
        "id": "uiMGROJTDltS",
        "outputId": "3c94ce7a-1310-4dc0-bf34-8afaf454fb4e"
      },
      "execution_count": 11,
      "outputs": [
        {
          "output_type": "stream",
          "name": "stdout",
          "text": [
            "dict_keys(['loss', 'accuracy', 'val_loss', 'val_accuracy'])\n"
          ]
        }
      ]
    },
    {
      "cell_type": "markdown",
      "source": [
        "검증 세트에 대한 손실은 'val_loss', 정확도는 'val_accuracy'에 들어있다."
      ],
      "metadata": {
        "id": "CFxZrhY6DpYb"
      }
    },
    {
      "cell_type": "markdown",
      "source": [
        "과대/과소적합 문제를 조사하기 위해 훈련 손실과 검증 손실을 한 그래프에 그려 비교해볼 것이다."
      ],
      "metadata": {
        "id": "shgKIUo_DwRV"
      }
    },
    {
      "cell_type": "code",
      "source": [
        "plt.plot(history.history['loss'])\n",
        "plt.plot(history.history['val_loss'])\n",
        "plt.xlabel('epoch')\n",
        "plt.ylabel('loss')\n",
        "plt.legend(['train', 'val'])\n",
        "plt.show()"
      ],
      "metadata": {
        "colab": {
          "base_uri": "https://localhost:8080/",
          "height": 279
        },
        "id": "LrvW4-12D6ZH",
        "outputId": "3b340934-1007-44cb-bb80-4201a29cbb6f"
      },
      "execution_count": 12,
      "outputs": [
        {
          "output_type": "display_data",
          "data": {
            "text/plain": [
              "<Figure size 432x288 with 1 Axes>"
            ],
            "image/png": "[encoded data removed]"
          },
          "metadata": {
            "needs_background": "light"
          }
        }
      ]
    },
    {
      "cell_type": "markdown",
      "source": [
        "초기에 검증 손실이 감소하다가 5번째 에포크 만에 다시 상승한다.<br>\n",
        "훈련 손실은 꾸준히 감소하기 때문에 전형적인 과대적합 모델이 만들어진다."
      ],
      "metadata": {
        "id": "FFOnp-XSD8uH"
      }
    },
    {
      "cell_type": "markdown",
      "source": [
        "검증 손실이 상승하는 시점을 가능한 뒤로 늦추면 검증 세트에 대한 손실이 줄어들 뿐만 아니라 검증 세트에 대한 정확도도 증가할 것이다."
      ],
      "metadata": {
        "id": "kp4SFKT_EHwy"
      }
    },
    {
      "cell_type": "markdown",
      "source": [
        "옵티마이저 하이퍼파라미터를 조정하여 과대적합을 완화해보자.<br>\n",
        "Adam 옵티마이저를 적용해보고 훈련 손실과 검증 손실을 다시 그려볼 것이다."
      ],
      "metadata": {
        "id": "K97_uXKPERjK"
      }
    },
    {
      "cell_type": "code",
      "source": [
        "model = model_fn()\n",
        "model.compile(optimizer='adam', loss='sparse_categorical_crossentropy', metrics='accuracy')\n",
        "history = model.fit(train_scaled, train_target, epochs=20, verbose=0, validation_data=(val_scaled, val_target))\n",
        "\n",
        "plt.plot(history.history['loss'])\n",
        "plt.plot(history.history['val_loss'])\n",
        "plt.xlabel('epoch')\n",
        "plt.ylabel('loss')\n",
        "plt.legend(['train', 'val'])\n",
        "plt.show()"
      ],
      "metadata": {
        "colab": {
          "base_uri": "https://localhost:8080/",
          "height": 279
        },
        "id": "WEn7YHEhEZ1Z",
        "outputId": "59db6425-fe8e-417d-f085-cdd9903b1766"
      },
      "execution_count": 13,
      "outputs": [
        {
          "output_type": "display_data",
          "data": {
            "text/plain": [
              "<Figure size 432x288 with 1 Axes>"
            ],
            "image/png": "[encoded data removed]"
          },
          "metadata": {
            "needs_background": "light"
          }
        }
      ]
    },
    {
      "cell_type": "markdown",
      "source": [
        "과대적합이 많이 줄었다. 열 번째 에포크까지 전반적인 감소 추세가 이어지고 있다.<br>\n",
        "이는 Adam 옵티마이저가 이 데이터셋에 잘 맞는다는 것을 의미한다."
      ],
      "metadata": {
        "id": "oQ1YoVLME4Q4"
      }
    },
    {
      "cell_type": "markdown",
      "source": [
        "<br><hr><br>\n",
        "\n",
        "### **드롭아웃** "
      ],
      "metadata": {
        "id": "MvsRsnOBFCmJ"
      }
    },
    {
      "cell_type": "markdown",
      "source": [
        "**드롭아웃**은 훈련 과정에서 층에 있는 일부 뉴런을 랜덤하게 꺼서(뉴런의 출력을 0으로 만들어서) 과대적합을 방지한다."
      ],
      "metadata": {
        "id": "eTRzvxPpFHoy"
      }
    },
    {
      "cell_type": "markdown",
      "source": [
        "또한, 드롭아웃을 적용해 훈련하는 것은 마치 2개의 신경망을 앙상블 하는 것처럼 상상할 수 있다.<br>\n",
        "앙상블은 과대적합을 막을 수 있는 아주 좋은 기법이다.\n",
        "\n",
        "+) **앙상블**: 더 좋은 예측 결과를 만들기 위해 여러 개의 모델을 훈련하는 머신러닝 알고리즘"
      ],
      "metadata": {
        "id": "F1FFTPcuFSf4"
      }
    },
    {
      "cell_type": "markdown",
      "source": [
        "케라스에서는 드롭아웃을 keras.layers 패키지 아래 Dropout 클래스로 제공한다.<br>\n",
        "드롭아웃이 층처럼 사용되지만 훈련되는 모델 파라미터는 없다."
      ],
      "metadata": {
        "id": "WVLOmvbVFyLx"
      }
    },
    {
      "cell_type": "markdown",
      "source": [
        "그럼 앞서 정의한 model_fn() 함수에 드롭아웃 객체를 전달하여 층을 추가해볼 것이다.<br>\n",
        "여기서는 30% 정도를 드롭아웃한다."
      ],
      "metadata": {
        "id": "ApbAcBQTF-q3"
      }
    },
    {
      "cell_type": "code",
      "source": [
        "model = model_fn(keras.layers.Dropout(0.3))\n",
        "model.summary()"
      ],
      "metadata": {
        "colab": {
          "base_uri": "https://localhost:8080/"
        },
        "id": "I_m0ibEiGHy4",
        "outputId": "47766c9d-602f-49cc-9b8d-d1713e9f9cc7"
      },
      "execution_count": 14,
      "outputs": [
        {
          "output_type": "stream",
          "name": "stdout",
          "text": [
            "Model: \"sequential_4\"\n",
            "_________________________________________________________________\n",
            " Layer (type)                Output Shape              Param #   \n",
            "=================================================================\n",
            " flatten_4 (Flatten)         (None, 784)               0         \n",
            "                                                                 \n",
            " dense_8 (Dense)             (None, 100)               78500     \n",
            "                                                                 \n",
            " dropout (Dropout)           (None, 100)               0         \n",
            "                                                                 \n",
            " dense_9 (Dense)             (None, 10)                1010      \n",
            "                                                                 \n",
            "=================================================================\n",
            "Total params: 79,510\n",
            "Trainable params: 79,510\n",
            "Non-trainable params: 0\n",
            "_________________________________________________________________\n"
          ]
        }
      ]
    },
    {
      "cell_type": "markdown",
      "source": [
        "드롭아웃 층은 입력과 출력의 크기가 같다 \n",
        "<br> \n",
        "또한 일부 뉴런의 출력을 0으로 만들지만, 전체 출력 배열의 크기를 바꾸지는 않는다."
      ],
      "metadata": {
        "id": "gVl4PtLmGKAi"
      }
    },
    {
      "cell_type": "markdown",
      "source": [
        "이전과 마찬가지로 훈련 손실과 검증 손실의 그래프를 그려 비교해보자."
      ],
      "metadata": {
        "id": "-K1mX4C6GW6A"
      }
    },
    {
      "cell_type": "code",
      "source": [
        "model.compile(optimizer='adam', loss='sparse_categorical_crossentropy', metrics='accuracy')\n",
        "history = model.fit(train_scaled, train_target, epochs=20, verbose=0, validation_data=(val_scaled, val_target))\n",
        "\n",
        "plt.plot(history.history['loss'])\n",
        "plt.plot(history.history['val_loss'])\n",
        "plt.xlabel('epoch')\n",
        "plt.ylabel('loss')\n",
        "plt.legend(['train', 'val'])\n",
        "plt.show()"
      ],
      "metadata": {
        "colab": {
          "base_uri": "https://localhost:8080/",
          "height": 279
        },
        "id": "7E7tDCWLGm4p",
        "outputId": "b5d347be-1ed0-41db-c82b-12963f7c3c6f"
      },
      "execution_count": 15,
      "outputs": [
        {
          "output_type": "display_data",
          "data": {
            "text/plain": [
              "<Figure size 432x288 with 1 Axes>"
            ],
            "image/png": "[encoded data removed]"
          },
          "metadata": {
            "needs_background": "light"
          }
        }
      ]
    },
    {
      "cell_type": "markdown",
      "source": [
        "과대적합이 확실히 줄었다. 열 번째 에포크 정도에서 검증 손실의 감소가 멈추지만 크게 상승하지 않고 어느 정도 유지되고 있다.<br>\n",
        "그러나 이 모델은 20번의 에포크 동안 훈련을 했기 때문에 결국 다소 과대적합되어 있다.<br>\n",
        "과대적합되지 않은 모델을 얻기 위해서는 에포크 횟수를 10으로 하고 다시 훈련해야 할 것이다."
      ],
      "metadata": {
        "id": "KM9HbjmJGrJ1"
      }
    },
    {
      "cell_type": "markdown",
      "source": [
        "<br><hr><br>\n",
        "\n",
        "### **모델 저장과 복원**"
      ],
      "metadata": {
        "id": "5xGJ4OhdGx7R"
      }
    },
    {
      "cell_type": "markdown",
      "source": [
        "에포크 횟수를 다시 10으로 지정하고 모델을 훈련한다."
      ],
      "metadata": {
        "id": "z0OO83ZgHPuf"
      }
    },
    {
      "cell_type": "code",
      "source": [
        "model = model_fn(keras.layers.Dropout(0.3))\n",
        "model.compile(optimizer='adam', loss='sparse_categorical_crossentropy', metrics='accuracy')\n",
        "history = model.fit(train_scaled, train_target, epochs=10, verbose=0, validation_data=(val_scaled, val_target))"
      ],
      "metadata": {
        "id": "7kDxxC4-HOCu"
      },
      "execution_count": 16,
      "outputs": []
    },
    {
      "cell_type": "markdown",
      "source": [
        "케라스의 **save_weights()** 메서드를 사용하면 훈련된 모델의 파라미터를 저장할 수 있다.<br>\n",
        "이 메서드는 기본적으로 텐서플로의 체크포인트 포맷으로 저장하지만, 파일의 확장자가 '.h5'일 경우 HDF5 포맷으로 저장한다."
      ],
      "metadata": {
        "id": "185XTBr0HWwn"
      }
    },
    {
      "cell_type": "code",
      "source": [
        "model.save_weights('model-weights.h5')"
      ],
      "metadata": {
        "id": "7494TvVcHn25"
      },
      "execution_count": 17,
      "outputs": []
    },
    {
      "cell_type": "markdown",
      "source": [
        "save() 메서드를 사용하면 모델 구조와 모델 파라미터를 함께 저장할 수 있다.<br>\n",
        "이 메서드는 기본적으로 텐서플로의 SavedModel 포맷으로 저장하지만, 파일의 확장자가 '.h5'일 경우 HDF5 포맷으로 저장한다."
      ],
      "metadata": {
        "id": "Gch8kQuVHpQi"
      }
    },
    {
      "cell_type": "code",
      "source": [
        "model.save('model-whole.h5')"
      ],
      "metadata": {
        "id": "JjcT7NbvHySZ"
      },
      "execution_count": 18,
      "outputs": []
    },
    {
      "cell_type": "markdown",
      "source": [
        "두 파일이 잘 만들어졌는지 확인해보자."
      ],
      "metadata": {
        "id": "k2qYlH86HzUA"
      }
    },
    {
      "cell_type": "code",
      "source": [
        "!ls -al *.h5"
      ],
      "metadata": {
        "colab": {
          "base_uri": "https://localhost:8080/"
        },
        "id": "g420fS_dH2gW",
        "outputId": "44431220-c8b8-4d1b-d145-b54449c1a2cb"
      },
      "execution_count": 19,
      "outputs": [
        {
          "output_type": "stream",
          "name": "stdout",
          "text": [
            "-rw-r--r-- 1 root root 333448 Jul  7 14:43 model-weights.h5\n",
            "-rw-r--r-- 1 root root 982664 Jul  7 14:44 model-whole.h5\n"
          ]
        }
      ]
    },
    {
      "cell_type": "markdown",
      "source": [
        "이제 두 가지 실험을 해볼 것이다.<br>\n",
        "1. 훈련을 하지 않은 새로운 모델을 만들고 model-weight.h5 파일에서 훈련된 모델 파라미터를 읽어서 사용한다.\n",
        "\n",
        "2. 아예 model-whole.h5 파일에서 새로운 모델을 만들어 바로 사용한다."
      ],
      "metadata": {
        "id": "mU1wHj-4H7Ke"
      }
    },
    {
      "cell_type": "markdown",
      "source": [
        "<br><br>\n",
        "\n",
        "**1. 훈련을 하지 않은 새로운 모델을 만들고 model-weight.h5 파일에서 훈련된 모델 파라미터를 읽어서 사용**"
      ],
      "metadata": {
        "id": "2AxKFZHAIK8h"
      }
    },
    {
      "cell_type": "code",
      "source": [
        "model = model_fn(keras.layers.Dropout(0.3))\n",
        "model.load_weights('model-weights.h5') # save_weights로 저장한 파일은 load_weights로 적재"
      ],
      "metadata": {
        "id": "uRv2S4yGIQOu"
      },
      "execution_count": 20,
      "outputs": []
    },
    {
      "cell_type": "markdown",
      "source": [
        "이제 이 모델의 검증 정확도를 확인해볼 건데, 케라스에서 예측을 수행하는 predict() 메서드는 사이킷런과 달리 샘플마다 10개의 클래스에 대한 확률을 반환한다.\n",
        "패션 MNIST 데이터셋이 다중 분류이기 때문인데, 10개 확률 중에 가장 큰 값의 인덱스를 골라 타깃 레이블과 비교하여 정확도를 계산해보도록 하자."
      ],
      "metadata": {
        "id": "hW9ES6d6Icxo"
      }
    },
    {
      "cell_type": "code",
      "source": [
        "import numpy as np\n",
        "\n",
        "# axis=-1 ~> 배열의 마지막 차원을 따라 최댓값 고름\n",
        "val_labels = np.argmax(model.predict(val_scaled), axis=-1)\n",
        "print(np.mean(val_labels == val_target))"
      ],
      "metadata": {
        "colab": {
          "base_uri": "https://localhost:8080/"
        },
        "id": "WmVOuKStI5Ho",
        "outputId": "d192d88b-356b-45f5-fabf-efb51da7de38"
      },
      "execution_count": 21,
      "outputs": [
        {
          "output_type": "stream",
          "name": "stdout",
          "text": [
            "0.8793333333333333\n"
          ]
        }
      ]
    },
    {
      "cell_type": "markdown",
      "source": [
        "<br><br>\n",
        "\n",
        "**2. model-whole.h5 파일에서 새로운 모델을 만들어 바로 사용**"
      ],
      "metadata": {
        "id": "yUFgMzQkJGcB"
      }
    },
    {
      "cell_type": "code",
      "source": [
        "model = keras.models.load_model('model-whole.h5') # 모델이 저장된 파일 읽을 때 ~> load_model()\n",
        "model.evaluate(val_scaled, val_target)"
      ],
      "metadata": {
        "colab": {
          "base_uri": "https://localhost:8080/"
        },
        "id": "uH_2PlBBJX6h",
        "outputId": "dc872506-d38e-4c83-b587-7caebdad6383"
      },
      "execution_count": 22,
      "outputs": [
        {
          "output_type": "stream",
          "name": "stdout",
          "text": [
            "375/375 [==============================] - 1s 2ms/step - loss: 0.3360 - accuracy: 0.8793\n"
          ]
        },
        {
          "output_type": "execute_result",
          "data": {
            "text/plain": [
              "[0.3360385596752167, 0.8793333172798157]"
            ]
          },
          "metadata": {},
          "execution_count": 22
        }
      ]
    },
    {
      "cell_type": "markdown",
      "source": [
        "방법 1,2는 같은 모델을 저장하고 다시 불러들였기 때문에 동일한 정확도를 얻는다."
      ],
      "metadata": {
        "id": "NdnJWJEpJhQg"
      }
    },
    {
      "cell_type": "markdown",
      "source": [
        "<br><hr><br>\n",
        "\n",
        "### **콜백**"
      ],
      "metadata": {
        "id": "HTAXS81EJp8w"
      }
    },
    {
      "cell_type": "markdown",
      "source": [
        "**콜백**은 훈련 과정 중간에 어떤 작업을 수행할 수 있게 하는 객체로 keras.callbacks 패키지 아래에 있는 클래스들이다.<br>\n",
        "fit() 메서드의 callbacks 매개변수에 리스트로 전달하여 사용한다."
      ],
      "metadata": {
        "id": "QpKuUXKHJssY"
      }
    },
    {
      "cell_type": "markdown",
      "source": [
        "**ModelCheckpoint** 콜백은 기본적으로 에포크마다 모델을 저장한다.<br>\n",
        "**save_best_only=True** 매개변수를 지정하여 가장 낮은 검증 점수를 만드는 모델을 저장할 수 있다."
      ],
      "metadata": {
        "id": "uz4Hdq5WKDLx"
      }
    },
    {
      "cell_type": "code",
      "source": [
        "model = model_fn(keras.layers.Dropout(0.3))\n",
        "model.compile(optimizer='adam', loss='sparse_categorical_crossentropy', metrics='accuracy')\n",
        "checkpoint_cb = keras.callbacks.ModelCheckpoint('best-model.h5', save_best_only=True)\n",
        "model.fit(train_scaled, train_target, epochs=20, verbose=0, validation_data=(val_scaled, val_target), callbacks=[checkpoint_cb])"
      ],
      "metadata": {
        "colab": {
          "base_uri": "https://localhost:8080/"
        },
        "id": "6JhYSQEKKOGw",
        "outputId": "5ab8190a-1ab4-4d56-9e20-2bb3a1fd3ce5"
      },
      "execution_count": 23,
      "outputs": [
        {
          "output_type": "execute_result",
          "data": {
            "text/plain": [
              "<keras.callbacks.History at 0x7fd8b99fbe90>"
            ]
          },
          "metadata": {},
          "execution_count": 23
        }
      ]
    },
    {
      "cell_type": "markdown",
      "source": [
        "best-model.h5에 저장된 모델을 다시 읽어서 예측을 수행해보자."
      ],
      "metadata": {
        "id": "3Dk5KcfYKag6"
      }
    },
    {
      "cell_type": "code",
      "source": [
        "model = keras.models.load_model('best-model.h5')\n",
        "model.evaluate(val_scaled, val_target)"
      ],
      "metadata": {
        "colab": {
          "base_uri": "https://localhost:8080/"
        },
        "id": "9KA9eBg0KiBk",
        "outputId": "959ecb9d-5b45-40c4-fb31-1bc07c210130"
      },
      "execution_count": 24,
      "outputs": [
        {
          "output_type": "stream",
          "name": "stdout",
          "text": [
            "375/375 [==============================] - 1s 2ms/step - loss: 0.3117 - accuracy: 0.8863\n"
          ]
        },
        {
          "output_type": "execute_result",
          "data": {
            "text/plain": [
              "[0.3117174208164215, 0.8863333463668823]"
            ]
          },
          "metadata": {},
          "execution_count": 24
        }
      ]
    },
    {
      "cell_type": "markdown",
      "source": [
        "하지만 여전히 20번의 에포크 동안 훈련을 하고 있으니, 과대적합이 시작되기 전에 훈련을 **조기종료**를 하는 것이 좋다."
      ],
      "metadata": {
        "id": "d0rYAFyrK7cI"
      }
    },
    {
      "cell_type": "markdown",
      "source": [
        "케라스는 조기종료를 위한 **EarlyStopping 콜백**을 제공한다.\n",
        "- **patience**: 검증 점수가 향상되지 않더라도 참을 에포크 횟수\n",
        "- **restore_best_weights=True**: 가장 낮은 검증 손실을 낸 모델 파라미터로 복구"
      ],
      "metadata": {
        "id": "3vnWdze6MNav"
      }
    },
    {
      "cell_type": "markdown",
      "source": [
        "EarlyStopping 콜백을 ModelCheckpoint 콜백과 함께 사용하면 가장 낮은 검증 손실의 모델을 파일에 저장하고 검증 손실이 다시 상승할 때 훈련을 중지할 수 있다.<br>\n",
        "또한 훈련을 중지한 다음 현재 모델의 파라미터를 최상의 파라미터로 되돌린다."
      ],
      "metadata": {
        "id": "PqnBNHUoMqEo"
      }
    },
    {
      "cell_type": "code",
      "source": [
        "model = model_fn(keras.layers.Dropout(0.3))\n",
        "model.compile(optimizer='adam', loss='sparse_categorical_crossentropy', metrics='accuracy')\n",
        "checkpoint_cb = keras.callbacks.ModelCheckpoint('best-model.h5', save_best_only=True)\n",
        "early_stopping_cb = keras.callbacks.EarlyStopping(patience=2, restore_best_weights=True)\n",
        "history = model.fit(train_scaled, train_target, epochs=20, verbose=0, validation_data=(val_scaled, val_target),\n",
        "                    callbacks=[checkpoint_cb, early_stopping_cb])"
      ],
      "metadata": {
        "id": "niM6tkyuM6Wv"
      },
      "execution_count": 25,
      "outputs": []
    },
    {
      "cell_type": "markdown",
      "source": [
        "훈련을 마치고 난 후 몇 번째 에포크에서 훈련이 중지되었는지는 **early_stopping_cb 객체**의 **`stopped_epoch 속성`**에서 확인할 수 있다."
      ],
      "metadata": {
        "id": "GoMghcULM_a8"
      }
    },
    {
      "cell_type": "code",
      "source": [
        "print(early_stopping_cb.stopped_epoch)"
      ],
      "metadata": {
        "colab": {
          "base_uri": "https://localhost:8080/"
        },
        "id": "muB_B4lYNRpP",
        "outputId": "afb11c76-2929-410d-fc81-1ca0b64f9659"
      },
      "execution_count": 26,
      "outputs": [
        {
          "output_type": "stream",
          "name": "stdout",
          "text": [
            "11\n"
          ]
        }
      ]
    },
    {
      "cell_type": "markdown",
      "source": [
        "훈련 손실과 검증 손실을 출력해서 확인해보자."
      ],
      "metadata": {
        "id": "e3gxwR5MNSmv"
      }
    },
    {
      "cell_type": "code",
      "source": [
        "plt.plot(history.history['loss'])\n",
        "plt.plot(history.history['val_loss'])\n",
        "plt.xlabel('epoch')\n",
        "plt.ylabel('loss')\n",
        "plt.legend(['train', 'val'])\n",
        "plt.show()"
      ],
      "metadata": {
        "colab": {
          "base_uri": "https://localhost:8080/",
          "height": 279
        },
        "id": "UL4XflicNX0A",
        "outputId": "ecdc4c4b-49df-43f1-df8d-48e9216563e1"
      },
      "execution_count": 27,
      "outputs": [
        {
          "output_type": "display_data",
          "data": {
            "text/plain": [
              "<Figure size 432x288 with 1 Axes>"
            ],
            "image/png": "[encoded data removed]"
          },
          "metadata": {
            "needs_background": "light"
          }
        }
      ]
    },
    {
      "cell_type": "markdown",
      "source": [
        "마지막으로 조기 종료로 얻은 모델을 사용해 검증 세트에 대한 성능을 확인해보자."
      ],
      "metadata": {
        "id": "4mhIQjx8NZYQ"
      }
    },
    {
      "cell_type": "code",
      "source": [
        "model.evaluate(val_scaled, val_target)"
      ],
      "metadata": {
        "id": "9JjYK4cSNjWI",
        "outputId": "75f6df9a-f597-4a68-8a87-eba3a4eca6b1",
        "colab": {
          "base_uri": "https://localhost:8080/"
        }
      },
      "execution_count": 28,
      "outputs": [
        {
          "output_type": "stream",
          "name": "stdout",
          "text": [
            "375/375 [==============================] - 1s 2ms/step - loss: 0.3224 - accuracy: 0.8817\n"
          ]
        },
        {
          "output_type": "execute_result",
          "data": {
            "text/plain": [
              "[0.3224020004272461, 0.8817499876022339]"
            ]
          },
          "metadata": {},
          "execution_count": 28
        }
      ]
    }
  ]
}