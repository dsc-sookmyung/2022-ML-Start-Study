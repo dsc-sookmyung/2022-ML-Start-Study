{
  "nbformat": 4,
  "nbformat_minor": 0,
  "metadata": {
    "colab": {
      "name": "07-3. 신경망 모델 훈련.ipynb",
      "provenance": [],
      "collapsed_sections": []
    },
    "kernelspec": {
      "name": "python3",
      "display_name": "Python 3"
    },
    "language_info": {
      "name": "python"
    },
    "accelerator": "GPU",
    "gpuClass": "standard"
  },
  "cells": [
    {
      "cell_type": "markdown",
      "source": [
        "# 07-3 신경망 모델 훈련"
      ],
      "metadata": {
        "id": "l7htVF1Fr5Rj"
      }
    },
    {
      "cell_type": "markdown",
      "source": [
        "## 손실 곡선"
      ],
      "metadata": {
        "id": "sMpzv0jYr6wK"
      }
    },
    {
      "cell_type": "markdown",
      "source": [
        "### 손실 곡선"
      ],
      "metadata": {
        "id": "b4fOpTukr8Ep"
      }
    },
    {
      "cell_type": "code",
      "source": [
        "# 패션 MNIST 적재 후 훈련 세트와 검증 세트로 나눔\n",
        "from tensorflow import keras\n",
        "from sklearn.model_selection import train_test_split\n",
        "(train_input, train_target), (test_input, test_target) = \\\n",
        "    keras.datasets.fashion_mnist.load_data()\n",
        "train_scaled = train_input / 255.0\n",
        "train_scaled, val_scaled, train_target, val_target = train_test_split(train_scaled, train_target, test_size=0.2, random_state=42)"
      ],
      "metadata": {
        "colab": {
          "base_uri": "https://localhost:8080/"
        },
        "id": "V1GiajNar8ix",
        "outputId": "1e7f55c2-d8c6-42eb-ce78-9e0b770261c5"
      },
      "execution_count": 1,
      "outputs": [
        {
          "output_type": "stream",
          "name": "stdout",
          "text": [
            "Downloading data from https://storage.googleapis.com/tensorflow/tf-keras-datasets/train-labels-idx1-ubyte.gz\n",
            "32768/29515 [=================================] - 0s 0us/step\n",
            "40960/29515 [=========================================] - 0s 0us/step\n",
            "Downloading data from https://storage.googleapis.com/tensorflow/tf-keras-datasets/train-images-idx3-ubyte.gz\n",
            "26427392/26421880 [==============================] - 0s 0us/step\n",
            "26435584/26421880 [==============================] - 0s 0us/step\n",
            "Downloading data from https://storage.googleapis.com/tensorflow/tf-keras-datasets/t10k-labels-idx1-ubyte.gz\n",
            "16384/5148 [===============================================================================================] - 0s 0us/step\n",
            "Downloading data from https://storage.googleapis.com/tensorflow/tf-keras-datasets/t10k-images-idx3-ubyte.gz\n",
            "4423680/4422102 [==============================] - 0s 0us/step\n",
            "4431872/4422102 [==============================] - 0s 0us/step\n"
          ]
        }
      ]
    },
    {
      "cell_type": "code",
      "source": [
        "# 모델 생성\n",
        "def model_fn(a_layer=None):\n",
        "    model = keras.Sequential()\n",
        "    model.add(keras.layers.Flatten(input_shape=(28, 28))) # Flatten\n",
        "    model.add(keras.layers.Dense(100, activation='relu')) # relu\n",
        "    if a_layer:\n",
        "        model.add(a_layer)\n",
        "    model.add(keras.layers.Dense(10, activation='softmax'))\n",
        "    return model"
      ],
      "metadata": {
        "id": "yVgf6pR_r-nZ"
      },
      "execution_count": 2,
      "outputs": []
    },
    {
      "cell_type": "code",
      "source": [
        "# 모델 구조 출력\n",
        "model = model_fn()\n",
        "model.summary()"
      ],
      "metadata": {
        "colab": {
          "base_uri": "https://localhost:8080/"
        },
        "id": "-0Xc3_FqsAH0",
        "outputId": "74862ea7-c22f-42f1-dc0a-b6fc6dee129b"
      },
      "execution_count": 3,
      "outputs": [
        {
          "output_type": "stream",
          "name": "stdout",
          "text": [
            "Model: \"sequential\"\n",
            "_________________________________________________________________\n",
            " Layer (type)                Output Shape              Param #   \n",
            "=================================================================\n",
            " flatten (Flatten)           (None, 784)               0         \n",
            "                                                                 \n",
            " dense (Dense)               (None, 100)               78500     \n",
            "                                                                 \n",
            " dense_1 (Dense)             (None, 10)                1010      \n",
            "                                                                 \n",
            "=================================================================\n",
            "Total params: 79,510\n",
            "Trainable params: 79,510\n",
            "Non-trainable params: 0\n",
            "_________________________________________________________________\n"
          ]
        }
      ]
    },
    {
      "cell_type": "code",
      "source": [
        "# 모델 훈련 및 fit() 메소드의 결과를 history 변수에 담기\n",
        "model.compile(loss='sparse_categorical_crossentropy', metrics='accuracy')\n",
        "history = model.fit(train_scaled, train_target, epochs=5, verbose=0)"
      ],
      "metadata": {
        "id": "bL0aAZ1jsDkc"
      },
      "execution_count": 4,
      "outputs": []
    },
    {
      "cell_type": "code",
      "source": [
        "# history 딕셔너리에 손실과 정확도가 포함됨\n",
        "print(history.history.keys())"
      ],
      "metadata": {
        "colab": {
          "base_uri": "https://localhost:8080/"
        },
        "id": "LG7HMTFUsEsz",
        "outputId": "552529ab-8f31-42e5-959e-8cc62c7e9104"
      },
      "execution_count": 5,
      "outputs": [
        {
          "output_type": "stream",
          "name": "stdout",
          "text": [
            "dict_keys(['loss', 'accuracy'])\n"
          ]
        }
      ]
    },
    {
      "cell_type": "code",
      "source": [
        "# 손실\n",
        "import matplotlib.pyplot as plt\n",
        "plt.plot(history.history['loss'])\n",
        "plt.xlabel('epoch')\n",
        "plt.ylabel('loss')\n",
        "plt.show()"
      ],
      "metadata": {
        "colab": {
          "base_uri": "https://localhost:8080/",
          "height": 279
        },
        "id": "EqgaBvc6sGti",
        "outputId": "c6efdcfc-33fe-42be-aad3-373ddae544ff"
      },
      "execution_count": 6,
      "outputs": [
        {
          "output_type": "display_data",
          "data": {
            "text/plain": [
              "<Figure size 432x288 with 1 Axes>"
            ],
            "image/png": "[encoded data removed]"
          },
          "metadata": {
            "needs_background": "light"
          }
        }
      ]
    },
    {
      "cell_type": "code",
      "source": [
        "# 정확도\n",
        "plt.plot(history.history['accuracy'])\n",
        "plt.xlabel('epoch')\n",
        "plt.ylabel('accuracy')\n",
        "plt.show()"
      ],
      "metadata": {
        "colab": {
          "base_uri": "https://localhost:8080/",
          "height": 283
        },
        "id": "PEU62xb9sHf6",
        "outputId": "5e611ecb-01d9-4fff-e213-f507325c7dd8"
      },
      "execution_count": 7,
      "outputs": [
        {
          "output_type": "display_data",
          "data": {
            "text/plain": [
              "<Figure size 432x288 with 1 Axes>"
            ],
            "image/png": "[encoded data removed]"
          },
          "metadata": {
            "needs_background": "light"
          }
        }
      ]
    },
    {
      "cell_type": "markdown",
      "source": [
        "### 더 많은 에포크"
      ],
      "metadata": {
        "id": "Tr4tq4mrtEGt"
      }
    },
    {
      "cell_type": "code",
      "source": [
        "# 에포크 횟수를 20으로 늘려서 모델을 훈련\n",
        "model = model_fn()\n",
        "model.compile(loss='sparse_categorical_crossentropy', metrics='accuracy')\n",
        "history = model.fit(train_scaled, train_target, epochs=20, verbose=0)"
      ],
      "metadata": {
        "id": "TnOXY1SmtIWc"
      },
      "execution_count": 8,
      "outputs": []
    },
    {
      "cell_type": "code",
      "source": [
        "# 손실\n",
        "plt.plot(history.history['loss'])\n",
        "plt.xlabel('epoch')\n",
        "plt.ylabel('loss')\n",
        "plt.show()"
      ],
      "metadata": {
        "colab": {
          "base_uri": "https://localhost:8080/",
          "height": 279
        },
        "id": "Y3lpmCeHtK1x",
        "outputId": "cc001954-f2d3-4b2e-d7c0-de308f15fc3c"
      },
      "execution_count": 9,
      "outputs": [
        {
          "output_type": "display_data",
          "data": {
            "text/plain": [
              "<Figure size 432x288 with 1 Axes>"
            ],
            "image/png": "[encoded data removed]"
          },
          "metadata": {
            "needs_background": "light"
          }
        }
      ]
    },
    {
      "cell_type": "markdown",
      "source": [
        "## 검증 손실"
      ],
      "metadata": {
        "id": "hT77peMnth2q"
      }
    },
    {
      "cell_type": "markdown",
      "source": [
        "### 검증 손실"
      ],
      "metadata": {
        "id": "5WHs2lGZtiTS"
      }
    },
    {
      "cell_type": "code",
      "source": [
        "# 에포크마다 검증 손실도 계산\n",
        "model = model_fn()\n",
        "model.compile(loss='sparse_categorical_crossentropy', metrics='accuracy')\n",
        "history = model.fit(train_scaled, train_target, epochs=20, verbose=0, \n",
        "                    validation_data=(val_scaled, val_target))"
      ],
      "metadata": {
        "id": "R3ELnshmtivC"
      },
      "execution_count": 10,
      "outputs": []
    },
    {
      "cell_type": "code",
      "source": [
        "# 훈련 세트에 대한 손실, 정확도, 검증 세트에 대한 손실, 정확도\n",
        "print(history.history.keys())"
      ],
      "metadata": {
        "colab": {
          "base_uri": "https://localhost:8080/"
        },
        "id": "QQuu6PPOtl3D",
        "outputId": "ce938c65-35d2-49b2-de01-6de946b72d4d"
      },
      "execution_count": 11,
      "outputs": [
        {
          "output_type": "stream",
          "name": "stdout",
          "text": [
            "dict_keys(['loss', 'accuracy', 'val_loss', 'val_accuracy'])\n"
          ]
        }
      ]
    },
    {
      "cell_type": "code",
      "source": [
        "# 훈련 손실과 검증 손실\n",
        "plt.plot(history.history['loss'])\n",
        "plt.plot(history.history['val_loss'])\n",
        "plt.xlabel('epoch')\n",
        "plt.ylabel('loss')\n",
        "plt.legend(['train', 'val'])\n",
        "plt.show()"
      ],
      "metadata": {
        "colab": {
          "base_uri": "https://localhost:8080/",
          "height": 283
        },
        "id": "zL12-iv1tmzc",
        "outputId": "a9167e3a-3e68-4a4d-f997-5840635b87be"
      },
      "execution_count": 12,
      "outputs": [
        {
          "output_type": "display_data",
          "data": {
            "text/plain": [
              "<Figure size 432x288 with 1 Axes>"
            ],
            "image/png": "[encoded data removed]"
          },
          "metadata": {
            "needs_background": "light"
          }
        }
      ]
    },
    {
      "cell_type": "markdown",
      "source": [
        "## 드롭아웃"
      ],
      "metadata": {
        "id": "s1Xwynwgt_wx"
      }
    },
    {
      "cell_type": "markdown",
      "source": [
        "### 드롭아웃"
      ],
      "metadata": {
        "id": "6h8ZjvezuAm0"
      }
    },
    {
      "cell_type": "code",
      "source": [
        "# 30% 드롭아웃\n",
        "model = model_fn(keras.layers.Dropout(0.3))\n",
        "model.summary()"
      ],
      "metadata": {
        "colab": {
          "base_uri": "https://localhost:8080/"
        },
        "id": "OElwylBpuBn8",
        "outputId": "a768ddc8-bf39-413c-9c6a-cec9d28c87ac"
      },
      "execution_count": 13,
      "outputs": [
        {
          "output_type": "stream",
          "name": "stdout",
          "text": [
            "Model: \"sequential_3\"\n",
            "_________________________________________________________________\n",
            " Layer (type)                Output Shape              Param #   \n",
            "=================================================================\n",
            " flatten_3 (Flatten)         (None, 784)               0         \n",
            "                                                                 \n",
            " dense_6 (Dense)             (None, 100)               78500     \n",
            "                                                                 \n",
            " dropout (Dropout)           (None, 100)               0         \n",
            "                                                                 \n",
            " dense_7 (Dense)             (None, 10)                1010      \n",
            "                                                                 \n",
            "=================================================================\n",
            "Total params: 79,510\n",
            "Trainable params: 79,510\n",
            "Non-trainable params: 0\n",
            "_________________________________________________________________\n"
          ]
        }
      ]
    },
    {
      "cell_type": "code",
      "source": [
        "# 옵티마이저 하이퍼파라미터를 적응적 학습률을 사용하는 Adam을 사용해 과대적합을 완화\n",
        "# 에포크마다 검증 손실도 계산\n",
        "model.compile(optimizer='adam', loss='sparse_categorical_crossentropy', metrics='accuracy')\n",
        "history = model.fit(train_scaled, train_target, epochs=20, verbose=0, \n",
        "                    validation_data=(val_scaled, val_target))"
      ],
      "metadata": {
        "id": "828xb310uJOV"
      },
      "execution_count": 14,
      "outputs": []
    },
    {
      "cell_type": "code",
      "source": [
        "# 훈련 손실과 검증 손실\n",
        "plt.plot(history.history['loss'])\n",
        "plt.plot(history.history['val_loss'])\n",
        "plt.xlabel('epoch')\n",
        "plt.ylabel('loss')\n",
        "plt.legend(['train', 'val'])\n",
        "plt.show()"
      ],
      "metadata": {
        "colab": {
          "base_uri": "https://localhost:8080/",
          "height": 281
        },
        "id": "n_UNGCd1udAN",
        "outputId": "12849470-0bf6-4724-e327-971e12369d4b"
      },
      "execution_count": 15,
      "outputs": [
        {
          "output_type": "display_data",
          "data": {
            "text/plain": [
              "<Figure size 432x288 with 1 Axes>"
            ],
            "image/png": "[encoded data removed]"
          },
          "metadata": {
            "needs_background": "light"
          }
        }
      ]
    },
    {
      "cell_type": "markdown",
      "source": [
        "## 모델 저장과 복원"
      ],
      "metadata": {
        "id": "dh7T-fU_u8Pf"
      }
    },
    {
      "cell_type": "markdown",
      "source": [
        "### 모델 저장과 복원"
      ],
      "metadata": {
        "id": "qhdV7KTTu9yr"
      }
    },
    {
      "cell_type": "code",
      "source": [
        "# 에포크 횟수를 10으로 다시 지정하고 모델 훈련\n",
        "model = model_fn(keras.layers.Dropout(0.3))\n",
        "model.compile(optimizer='adam', loss='sparse_categorical_crossentropy', metrics='accuracy')\n",
        "history = model.fit(train_scaled, train_target, epochs=10, verbose=0, \n",
        "                    validation_data=(val_scaled, val_target))"
      ],
      "metadata": {
        "id": "1QQu4YvCu-N8"
      },
      "execution_count": 16,
      "outputs": []
    },
    {
      "cell_type": "code",
      "source": [
        "# 모델의 파라미터를 저장\n",
        "model.save_weights('model-weights.h5')"
      ],
      "metadata": {
        "id": "BV003i55vBKL"
      },
      "execution_count": 17,
      "outputs": []
    },
    {
      "cell_type": "code",
      "source": [
        "# 모델 구조와 모델 파라미터를 함께 저장\n",
        "model.save('model-whole.h5')"
      ],
      "metadata": {
        "id": "VgAg51I4vB66"
      },
      "execution_count": 18,
      "outputs": []
    },
    {
      "cell_type": "code",
      "source": [
        "# (1) 훈련을 하지 않은 새로운 모델을 만들고 mode-weights.h5 파일에서 훈련된 모델 파라미터 읽어서 사용\n",
        "model = model_fn(keras.layers.Dropout(0.3))\n",
        "model.load_weights('model-weights.h5')"
      ],
      "metadata": {
        "id": "QvqB0dNMvDay"
      },
      "execution_count": 19,
      "outputs": []
    },
    {
      "cell_type": "code",
      "source": [
        "# 모델의 검증 정확도 확인\n",
        "import numpy as np\n",
        "val_labels = np.argmax(model.predict(val_scaled), axis=-1)\n",
        "print(np.mean(val_labels == val_target))"
      ],
      "metadata": {
        "colab": {
          "base_uri": "https://localhost:8080/"
        },
        "id": "Fzl7rGPnvFc0",
        "outputId": "54428a4f-d503-4e05-8d56-dc1091b4d6f7"
      },
      "execution_count": 20,
      "outputs": [
        {
          "output_type": "stream",
          "name": "stdout",
          "text": [
            "0.88\n"
          ]
        }
      ]
    },
    {
      "cell_type": "code",
      "source": [
        "# (2) model_whole.h5 파일에서 새로운 모델을 만들어 바로 사용\n",
        "# 모델 구조와 모델 파라미터를 함께 저장된 파일을 읽기\n",
        "# (1)과 (2)는 같은 모델을 저장하고 다시 불렀기 때문에 동일한 정확도\n",
        "model = keras.models.load_model('model-whole.h5')\n",
        "model.evaluate(val_scaled, val_target)"
      ],
      "metadata": {
        "colab": {
          "base_uri": "https://localhost:8080/"
        },
        "id": "hSoLlUjNvHoK",
        "outputId": "784093f9-d324-4754-bfea-0431adaf36fd"
      },
      "execution_count": 21,
      "outputs": [
        {
          "output_type": "stream",
          "name": "stdout",
          "text": [
            "375/375 [==============================] - 1s 2ms/step - loss: 0.3334 - accuracy: 0.8800\n"
          ]
        },
        {
          "output_type": "execute_result",
          "data": {
            "text/plain": [
              "[0.3333868682384491, 0.8799999952316284]"
            ]
          },
          "metadata": {},
          "execution_count": 21
        }
      ]
    },
    {
      "cell_type": "markdown",
      "source": [
        "## 콜백"
      ],
      "metadata": {
        "id": "VbQZdCRowZzM"
      }
    },
    {
      "cell_type": "markdown",
      "source": [
        "### 콜백"
      ],
      "metadata": {
        "id": "hk6QPkw-wast"
      }
    },
    {
      "cell_type": "code",
      "source": [
        "model = model_fn(keras.layers.Dropout(0.3))\n",
        "model.compile(optimizer='adam', loss='sparse_categorical_crossentropy', metrics='accuracy')\n",
        "# ModelCheckpoint 콜백을 사용해 best-model.h5에 최상의 검증 점수를 낸 모델 저장\n",
        "checkpoint_cb = keras.callbacks.ModelCheckpoint('best-model.h5', save_best_only=True)\n",
        "model.fit(train_scaled, train_target, epochs=20, verbose=0, \n",
        "          validation_data=(val_scaled, val_target),\n",
        "          callbacks=[checkpoint_cb])"
      ],
      "metadata": {
        "colab": {
          "base_uri": "https://localhost:8080/"
        },
        "id": "SHAiuHoiwbW6",
        "outputId": "64864061-0f41-4c30-a922-e81cf68acc1d"
      },
      "execution_count": 22,
      "outputs": [
        {
          "output_type": "execute_result",
          "data": {
            "text/plain": [
              "<keras.callbacks.History at 0x7f413a2ba310>"
            ]
          },
          "metadata": {},
          "execution_count": 22
        }
      ]
    },
    {
      "cell_type": "code",
      "source": [
        "# best-model.h5에서 최상의 검증 점수를 낸 모델을 불러와 예측 수행\n",
        "model = keras.models.load_model('best-model.h5')\n",
        "model.evaluate(val_scaled, val_target)"
      ],
      "metadata": {
        "colab": {
          "base_uri": "https://localhost:8080/"
        },
        "id": "LTBvPHnTwcIN",
        "outputId": "ac16a221-96fe-4926-ff20-1a13752b4982"
      },
      "execution_count": 23,
      "outputs": [
        {
          "output_type": "stream",
          "name": "stdout",
          "text": [
            "375/375 [==============================] - 1s 2ms/step - loss: 0.3200 - accuracy: 0.8869\n"
          ]
        },
        {
          "output_type": "execute_result",
          "data": {
            "text/plain": [
              "[0.3199754059314728, 0.8869166374206543]"
            ]
          },
          "metadata": {},
          "execution_count": 23
        }
      ]
    },
    {
      "cell_type": "markdown",
      "source": [
        "### 조기종료"
      ],
      "metadata": {
        "id": "D41VxfGRwkGL"
      }
    },
    {
      "cell_type": "code",
      "source": [
        "model = model_fn(keras.layers.Dropout(0.3))\n",
        "model.compile(optimizer='adam', loss='sparse_categorical_crossentropy', metrics='accuracy')\n",
        "checkpoint_cb = keras.callbacks.ModelCheckpoint('best-model.h5', save_best_only=True)\n",
        "# EarlyStopping 콜백을 사용해 검증 손실이 다시 상승할 때 훈련을 중지할 수 있음\n",
        "early_stopping_cb = keras.callbacks.EarlyStopping(patience=2, restore_best_weights=True)\n",
        "history = model.fit(train_scaled, train_target, epochs=20, verbose=0, \n",
        "                    validation_data=(val_scaled, val_target),\n",
        "                    callbacks=[checkpoint_cb, early_stopping_cb])"
      ],
      "metadata": {
        "id": "gzPg6cDswlij"
      },
      "execution_count": 24,
      "outputs": []
    },
    {
      "cell_type": "code",
      "source": [
        "# 훈련을 마치고 나면 몇 번째 에포크에서 훈련이 중지되었지 확인 가능\n",
        "print(early_stopping_cb.stopped_epoch)"
      ],
      "metadata": {
        "colab": {
          "base_uri": "https://localhost:8080/"
        },
        "id": "hybf4xswwmq0",
        "outputId": "34014d7b-0759-453f-c8ce-4c34bb6bbccf"
      },
      "execution_count": 27,
      "outputs": [
        {
          "output_type": "stream",
          "name": "stdout",
          "text": [
            "8\n"
          ]
        }
      ]
    },
    {
      "cell_type": "code",
      "source": [
        "# 훈련 손실과 검증 손실\n",
        "plt.plot(history.history['loss'])\n",
        "plt.plot(history.history['val_loss'])\n",
        "plt.xlabel('epoch')\n",
        "plt.ylabel('loss')\n",
        "plt.legend(['train', 'val'])\n",
        "plt.show()"
      ],
      "metadata": {
        "colab": {
          "base_uri": "https://localhost:8080/",
          "height": 279
        },
        "id": "RGt22Vfkwntu",
        "outputId": "c30a7114-4310-4742-f225-9c4d3514e1cc"
      },
      "execution_count": 26,
      "outputs": [
        {
          "output_type": "display_data",
          "data": {
            "text/plain": [
              "<Figure size 432x288 with 1 Axes>"
            ],
            "image/png": "[encoded data removed]"
          },
          "metadata": {
            "needs_background": "light"
          }
        }
      ]
    },
    {
      "cell_type": "code",
      "source": [
        "# 조기 종료로 얻은 모델을 사용해 검증 세트에 대한 성능 확인\n",
        "model.evaluate(val_scaled, val_target)"
      ],
      "metadata": {
        "colab": {
          "base_uri": "https://localhost:8080/"
        },
        "id": "VVWh7JuuyGW8",
        "outputId": "b14bfb7d-7afe-4f6a-c64c-65bf6669f2e4"
      },
      "execution_count": 28,
      "outputs": [
        {
          "output_type": "stream",
          "name": "stdout",
          "text": [
            "375/375 [==============================] - 1s 2ms/step - loss: 0.3319 - accuracy: 0.8802\n"
          ]
        },
        {
          "output_type": "execute_result",
          "data": {
            "text/plain": [
              "[0.3318639397621155, 0.8801666498184204]"
            ]
          },
          "metadata": {},
          "execution_count": 28
        }
      ]
    }
  ]
}